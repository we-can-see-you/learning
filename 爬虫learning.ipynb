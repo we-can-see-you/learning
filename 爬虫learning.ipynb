{
 "cells": [
  {
   "cell_type": "code",
   "execution_count": null,
   "metadata": {},
   "outputs": [],
   "source": [
    "####请求库\n",
    "\n",
    "import requests\n",
    "#Selenium是一个自动化测试工具，利用它我们可以驱动浏览器执行特定的动作，如点击、下拉等操作。\n",
    "import selenium\n",
    "#aiohttp就是这样一个提供异步Web服务的库\n",
    "import aiohttp"
   ]
  },
  {
   "cell_type": "code",
   "execution_count": null,
   "metadata": {},
   "outputs": [],
   "source": [
    "####解析库\n",
    "\n",
    "import lxml\n",
    "from bs4 import BeautifulSoup\n",
    "import pyquery\n",
    "#用于识别各种图片验证码转换成电子文本 tesserorc\n",
    "import tesserocr"
   ]
  },
  {
   "cell_type": "code",
   "execution_count": null,
   "metadata": {},
   "outputs": [],
   "source": [
    "from PIL import Image\n",
    "image = Image.open('/Users/xwx/image.png')\n",
    "print(tesserocr.image_to_text(image))"
   ]
  },
  {
   "cell_type": "code",
   "execution_count": null,
   "metadata": {},
   "outputs": [],
   "source": [
    "#存储库安装\n",
    "#在Python 3中，如果想要将数据存储到MySQL中，就需要借助PyMySQL来操作\n",
    "import pymysql\n",
    "#在Python中，如果想要和MongoDB进行交互，就需要借助于PyMongo库\n",
    "import pymongo\n",
    "#对于Redis来说，我们要使用redis-py库来与其交互\n",
    "import redis\n",
    "#RedisDump是一个用于Redis数据导入/导出的工具，是基于Ruby实现的\n"
   ]
  },
  {
   "cell_type": "code",
   "execution_count": null,
   "metadata": {},
   "outputs": [],
   "source": [
    "#web库安装\n",
    "\n",
    "#Flask是一个轻量级的Web服务程序\n",
    "import flask\n",
    "#Tornado是一个支持异步的Web框架，通过使用非阻塞I/O流\n",
    "import tornado"
   ]
  },
  {
   "cell_type": "code",
   "execution_count": 1,
   "metadata": {},
   "outputs": [],
   "source": [
    "#APP爬取库安装\n",
    "\n",
    "#mitmproxy是一个支持HTTP和HTTPS的抓包程序\n",
    "import mitmproxy\n"
   ]
  },
  {
   "cell_type": "code",
   "execution_count": 1,
   "metadata": {},
   "outputs": [],
   "source": [
    "#爬虫框架安装\n",
    "import pyspider\n",
    "import scrapy_redis"
   ]
  },
  {
   "cell_type": "code",
   "execution_count": 3,
   "metadata": {},
   "outputs": [],
   "source": [
    " import gerapy"
   ]
  },
  {
   "cell_type": "markdown",
   "metadata": {},
   "source": [
    "# 抓取猫眼电影排行榜"
   ]
  },
  {
   "cell_type": "code",
   "execution_count": 25,
   "metadata": {},
   "outputs": [
    {
     "name": "stdout",
     "output_type": "stream",
     "text": [
      "403\n",
      "[]\n"
     ]
    }
   ],
   "source": [
    "#抓取首页\n",
    "import requests\n",
    "import re\n",
    "import urllib\n",
    "url = 'http://maoyan.com/board/4'\n",
    "result=requests.get(url)\n",
    "print(result.status_code)\n",
    "html=result.text\n",
    "pattern=re.compile(\n",
    "    '<dd>.*?board-index>(.*?)</i>.*?data-src=\"(.*?)\".*?alt=(.*?).*?star.*?>(.*?)</p>.*?releasetime.*?>(.*?)<.*?',re.S)\n",
    "items=re.findall(pattern,html)\n",
    "print(items)"
   ]
  },
  {
   "cell_type": "code",
   "execution_count": 26,
   "metadata": {},
   "outputs": [],
   "source": [
    "items=[('1', 'http://p1.meituan.net/movie/20803f59291c47e1e116c11963ce019e68711.jpg@160w_220h_1e_1c', '霸王别姬', '\\n                主演：张国荣,张丰毅,巩俐\\n        ', '上映时间：1993-01-01(中国香港)', '9.', '6'), ('2', 'http://p0.meituan.net/movie/__40191813__4767047.jpg@160w_220h_1e_1c', '肖申克的救赎', '\\n                主演：蒂姆·罗宾斯,摩根·弗里曼,鲍勃·冈顿\\n        ', '上映时间：1994-10-14(美国)', '9.', '5'), ('3', 'http://p0.meituan.net/movie/fc9d78dd2ce84d20e53b6d1ae2eea4fb1515304.jpg@160w_220h_1e_1c', '这个杀手不太冷', '\\n                主演：让·雷诺,加里·奥德曼,娜塔莉·波特曼\\n        ', '上映时间：1994-09-14(法国)', '9.', '5'), ('4', 'http://p0.meituan.net/movie/23/6009725.jpg@160w_220h_1e_1c', '罗马假日', '\\n                主演：格利高利·派克,奥黛丽·赫本,埃迪·艾伯特\\n        ', '上映时间：1953-09-02(美国)', '9.', '1'), ('5', 'http://p0.meituan.net/movie/53/1541925.jpg@160w_220h_1e_1c', '阿甘正传', '\\n                主演：汤姆·汉克斯,罗宾·怀特,加里·西尼斯\\n        ', '上映时间：1994-07-06(美国)', '9.', '4'), ('6', 'http://p0.meituan.net/movie/11/324629.jpg@160w_220h_1e_1c', '泰坦尼克号', '\\n                主演：莱昂纳多·迪卡普里奥,凯特·温丝莱特,比利·赞恩\\n        ', '上映时间：1998-04-03', '9.', '5'), ('7', 'http://p0.meituan.net/movie/99/678407.jpg@160w_220h_1e_1c', '龙猫', '\\n                主演：日高法子,坂本千夏,糸井重里\\n        ', '上映时间：1988-04-16(日本)', '9.', '2'), ('8', 'http://p0.meituan.net/movie/92/8212889.jpg@160w_220h_1e_1c', '教父', '\\n                主演：马龙·白兰度,阿尔·帕西诺,詹姆斯·凯恩\\n        ', '上映时间：1972-03-24(美国)', '9.', '3'), ('9', 'http://p0.meituan.net/movie/62/109878.jpg@160w_220h_1e_1c', '唐伯虎点秋香', '\\n                主演：周星驰,巩俐,郑佩佩\\n        ', '上映时间：1993-07-01(中国香港)', '9.', '2'), ('10', 'http://p0.meituan.net/movie/9bf7d7b81001a9cf8adbac5a7cf7d766132425.jpg@160w_220h_1e_1c', '千与千寻', '\\n                主演：柊瑠美,入野自由,夏木真理\\n        ', '上映时间：2001-07-20(日本)', '9.', '3')]"
   ]
  },
  {
   "cell_type": "code",
   "execution_count": 30,
   "metadata": {},
   "outputs": [
    {
     "name": "stdout",
     "output_type": "stream",
     "text": [
      "{'index': '1', 'image': 'http://p1.meituan.net/movie/20803f59291c47e1e116c11963ce019e68711.jpg@160w_220h_1e_1c', 'title': '霸王别姬', 'actor': '张国荣,张丰毅,巩俐', 'time': '1993-01-01(中国香港)', 'score': '9.6'}\n",
      "{'index': '2', 'image': 'http://p0.meituan.net/movie/__40191813__4767047.jpg@160w_220h_1e_1c', 'title': '肖申克的救赎', 'actor': '蒂姆·罗宾斯,摩根·弗里曼,鲍勃·冈顿', 'time': '1994-10-14(美国)', 'score': '9.5'}\n",
      "{'index': '3', 'image': 'http://p0.meituan.net/movie/fc9d78dd2ce84d20e53b6d1ae2eea4fb1515304.jpg@160w_220h_1e_1c', 'title': '这个杀手不太冷', 'actor': '让·雷诺,加里·奥德曼,娜塔莉·波特曼', 'time': '1994-09-14(法国)', 'score': '9.5'}\n",
      "{'index': '4', 'image': 'http://p0.meituan.net/movie/23/6009725.jpg@160w_220h_1e_1c', 'title': '罗马假日', 'actor': '格利高利·派克,奥黛丽·赫本,埃迪·艾伯特', 'time': '1953-09-02(美国)', 'score': '9.1'}\n",
      "{'index': '5', 'image': 'http://p0.meituan.net/movie/53/1541925.jpg@160w_220h_1e_1c', 'title': '阿甘正传', 'actor': '汤姆·汉克斯,罗宾·怀特,加里·西尼斯', 'time': '1994-07-06(美国)', 'score': '9.4'}\n",
      "{'index': '6', 'image': 'http://p0.meituan.net/movie/11/324629.jpg@160w_220h_1e_1c', 'title': '泰坦尼克号', 'actor': '莱昂纳多·迪卡普里奥,凯特·温丝莱特,比利·赞恩', 'time': '1998-04-03', 'score': '9.5'}\n",
      "{'index': '7', 'image': 'http://p0.meituan.net/movie/99/678407.jpg@160w_220h_1e_1c', 'title': '龙猫', 'actor': '日高法子,坂本千夏,糸井重里', 'time': '1988-04-16(日本)', 'score': '9.2'}\n",
      "{'index': '8', 'image': 'http://p0.meituan.net/movie/92/8212889.jpg@160w_220h_1e_1c', 'title': '教父', 'actor': '马龙·白兰度,阿尔·帕西诺,詹姆斯·凯恩', 'time': '1972-03-24(美国)', 'score': '9.3'}\n",
      "{'index': '9', 'image': 'http://p0.meituan.net/movie/62/109878.jpg@160w_220h_1e_1c', 'title': '唐伯虎点秋香', 'actor': '周星驰,巩俐,郑佩佩', 'time': '1993-07-01(中国香港)', 'score': '9.2'}\n",
      "{'index': '10', 'image': 'http://p0.meituan.net/movie/9bf7d7b81001a9cf8adbac5a7cf7d766132425.jpg@160w_220h_1e_1c', 'title': '千与千寻', 'actor': '柊瑠美,入野自由,夏木真理', 'time': '2001-07-20(日本)', 'score': '9.3'}\n"
     ]
    }
   ],
   "source": [
    "def change(items):\n",
    "    for item in items:\n",
    "        #yeild可以理解为print，但是yeild将函数变成迭代器\n",
    "        #调用函数不会出结果，只会输出迭代器，用next（）可以输出结果\n",
    "        #for循环时自动next（）\n",
    "        yield {\n",
    "            'index': item[0],\n",
    "            'image': item[1],\n",
    "            'title': item[2].strip(),\n",
    "            'actor': item[3].strip()[3:] if len(item[3]) > 3 else '',\n",
    "            'time': item[4].strip()[5:] if len(item[4]) > 5 else '',\n",
    "            'score': item[5].strip() + item[6].strip()\n",
    "        }\n",
    "for item in change(items):\n",
    "    print(item)"
   ]
  },
  {
   "cell_type": "code",
   "execution_count": null,
   "metadata": {},
   "outputs": [],
   "source": []
  }
 ],
 "metadata": {
  "kernelspec": {
   "display_name": "Python 3",
   "language": "python",
   "name": "python3"
  },
  "language_info": {
   "codemirror_mode": {
    "name": "ipython",
    "version": 3
   },
   "file_extension": ".py",
   "mimetype": "text/x-python",
   "name": "python",
   "nbconvert_exporter": "python",
   "pygments_lexer": "ipython3",
   "version": "3.7.3"
  }
 },
 "nbformat": 4,
 "nbformat_minor": 2
}
