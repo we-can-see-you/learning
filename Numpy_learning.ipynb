{
 "cells": [
  {
   "cell_type": "code",
   "execution_count": 1,
   "metadata": {},
   "outputs": [],
   "source": [
    "import pandas as pd #数据分析\n",
    "import numpy as np #科学计算\n",
    "data=pd.read_csv(\"/Users/xwx/Desktop/kaggle/tatanic/data/train.csv\")\n",
    "data=data[0:15]"
   ]
  },
  {
   "cell_type": "markdown",
   "metadata": {},
   "source": [
    "# 数的操作"
   ]
  },
  {
   "cell_type": "code",
   "execution_count": null,
   "metadata": {},
   "outputs": [],
   "source": [
    "函数\t说明\n",
    "abs、fabs\t计算整数、浮点数或复数的绝对值。对于复数数值，可以使用更快的fabs。\n",
    "sqrt\t计算各元素的平方根\n",
    "square\t计算各元素的平方\n",
    "exp\t计算各元素的指数e^x\n",
    "log、log10、log2、log1p\t分别为自然对数、底数为10的log、底数为2的log、log(1 + x)\n",
    "sign\t计算各元素的正负号：1（正数）、0（零）、-1（负数）\n",
    "ceil\t计算各元素的ceiling值\n",
    "floor\t计算各元素的floor值\n",
    "rint\t四舍五入到正数，保留dtype\n",
    "modf\t将数组的小数和整数部分以两个独立数组的形式返回\n",
    "isnan\t返回一个表示“哪些值是NaN”的布尔型数组\n",
    "isfinite、isinf\t分别返回一个表示“哪些元素是有穷的”或“哪些元素是无穷的”的布尔型数组\n",
    "cos、cosh、sin、sinh、tan、tanh\t普通型和双曲型三角函数\n",
    "arccos、arccosh、arcsin、arcsinh、arctan、arctanh\t反三角函数\n",
    "logical_not\t计算各元素not x的真值。想到与-arr\n"
   ]
  },
  {
   "cell_type": "markdown",
   "metadata": {},
   "source": [
    "# 单个数组的操作"
   ]
  },
  {
   "cell_type": "code",
   "execution_count": 11,
   "metadata": {},
   "outputs": [
    {
     "name": "stdout",
     "output_type": "stream",
     "text": [
      "[[[0 0]\n",
      "  [0 0]]\n",
      "\n",
      " [[0 0]\n",
      "  [0 0]]\n",
      "\n",
      " [[0 0]\n",
      "  [0 0]]]\n",
      "[[1 1]\n",
      " [1 1]]\n",
      "[[1 0 0 0 0]\n",
      " [0 1 0 0 0]\n",
      " [0 0 1 0 0]\n",
      " [0 0 0 1 0]\n",
      " [0 0 0 0 1]]\n"
     ]
    }
   ],
   "source": [
    "#生成特定多维数组\n",
    "print(np.zeros((3,2,2),dtype=int))#三维全o数组\n",
    "print(np.ones((2,2),dtype=int))#二维全1数组\n",
    "print(np.eye(5,dtype=int))#单位矩阵"
   ]
  },
  {
   "cell_type": "code",
   "execution_count": 12,
   "metadata": {},
   "outputs": [
    {
     "name": "stdout",
     "output_type": "stream",
     "text": [
      "2\n",
      "(array([0, 2]), array([2, 2]))\n",
      "[[0 2]\n",
      " [2 2]]\n"
     ]
    }
   ],
   "source": [
    "#返回数组中非零元素的索引值\n",
    "a = np.array([[0,0,3],[0,0,0],[0,0,9]])\n",
    "b = np.nonzero(a)\n",
    "print(np.array(b).ndim)\n",
    "print(b)\n",
    "print(np.transpose(np.nonzero(a)))"
   ]
  },
  {
   "cell_type": "code",
   "execution_count": 18,
   "metadata": {},
   "outputs": [
    {
     "name": "stdout",
     "output_type": "stream",
     "text": [
      "[[1 2]\n",
      " [2 1]]\n",
      "[[3 2 1]\n",
      " [2 5 7]\n",
      " [4 7 8]]\n"
     ]
    }
   ],
   "source": [
    "#返回array中元素的index\n",
    "a = np.array(([3,2,1],[2,5,7],[4,7,8])) \n",
    "index = np.argwhere(a == 7) \n",
    "print(index) \n",
    "print(a)"
   ]
  },
  {
   "cell_type": "markdown",
   "metadata": {},
   "source": [
    "1）a中有2个非零元素，因此，索引值tuple中array的长度为2。因为，只有非零元素才有索引值。\n",
    "2）索引值数组是2 维的。实际上，无论a的维度是多少，索引值数组一定是2维的tuple，但是tuple中的一维array个数和a的维数一致。\n",
    "3）第1个array([0, 2])是从row值上对3和9进行的描述\n",
    "。第2个array([2, 2])是从col值上对3和9的描述。这样，从行和列上两个维度上各用一个数组来描述非零索引值。\n",
    "4）通过调用np.transpose()函数，得出3的索引值是[0 2]\n",
    "，即第0行，第2列。"
   ]
  },
  {
   "cell_type": "code",
   "execution_count": null,
   "metadata": {},
   "outputs": [],
   "source": [
    "a = np.arange(10,100,5)\n",
    "print(a)\n",
    "print('向量大小:',a.size)\n",
    "a36 = a.reshape(3,6)\n",
    "print(a36)\n",
    "print('-------------------')\n",
    "print('求和:',a36.sum())\n",
    "print('按行求和:',a36.sum(axis=1))\n",
    "print('按列求和:',a36.sum(axis=0))\n",
    "print('最大值:',a36.max())\n",
    "print('每行最大值:',a36.max(axis=1))\n",
    "print('每列最大值:',a36.max(axis=0))\n",
    "print('最小值:',a36.min())\n",
    "print('每行最小值:',a36.min(axis=1))\n",
    "print('每列最小值:',a36.min(axis=0))\n",
    "print('平均值:',a36.mean())\n",
    "print('每行平均值:',a36.mean(axis=1))\n",
    "print('每列平均值:',a36.mean(axis=0))\n",
    "print('最大值索引:',a36.argmax())\n",
    "print('每行最大值索引:',a36.argmax(axis=1))\n",
    "print('每列最大值索引:',a36.argmax(axis=0))\n",
    "print('log值:',np.log(a36))\n",
    "print('log10值:',np.log10(a36))\n",
    "print('log2值:',np.log2(a36))\n",
    "print('指数值:',np.exp(a36))\n",
    "print('平方根:',np.sqrt(a36))\n",
    "print('--------------------')\n",
    "a = np.random.random((3,4))*10\n",
    "print(a)\n",
    "print('小数向下取整:',np.floor(a))\n",
    "print('小数向上取整:',np.ceil(a))"
   ]
  },
  {
   "cell_type": "code",
   "execution_count": 6,
   "metadata": {},
   "outputs": [
    {
     "data": {
      "text/plain": [
       "1.118033988749895"
      ]
     },
     "execution_count": 6,
     "metadata": {},
     "output_type": "execute_result"
    }
   ],
   "source": [
    "a = np.array([[1, 2], [3, 4]])\n",
    "#求均值 每行一个\n",
    "np.mean(a,axis=1)\n",
    "#求均值 每列一个\n",
    "np.mean(a,axis=0)\n",
    "\n",
    "#求方差 整体方差\n",
    "np.std(a)"
   ]
  },
  {
   "cell_type": "code",
   "execution_count": null,
   "metadata": {},
   "outputs": [],
   "source": [
    "#多维数组变一维\n",
    "arr4=np.array([[65,76,89,91],[31,42,45,61]],float)\n",
    "arr4.flatten()"
   ]
  },
  {
   "cell_type": "code",
   "execution_count": null,
   "metadata": {},
   "outputs": [],
   "source": [
    "#删除某行\n",
    "dataset=[[1,2,3],[2,3,4],[4,5,6]]\n",
    "d1= np.delete(dataset, 1, axis=0)#删除某一行\n",
    "d2=np.delete(dataset, [1,2], axis=0)#删除多行\n",
    "#删除某列\n",
    "dataset=[[1,2,3],[2,3,4],[4,5,6]]\n",
    "d3= np.delete(dataset, -1, axis=1)#删除某一列\n",
    "d4=np.delete(dataset, [1,2], axis=1)#删除多列"
   ]
  },
  {
   "cell_type": "markdown",
   "metadata": {},
   "source": [
    "# 多个数组之间操作"
   ]
  },
  {
   "cell_type": "code",
   "execution_count": 7,
   "metadata": {},
   "outputs": [
    {
     "name": "stdout",
     "output_type": "stream",
     "text": [
      "[[ 1  2  3  2  4  6]\n",
      " [ 2  3  4  4  6  8]\n",
      " [ 3  4  5  6  8 10]]\n",
      "[[ 1  2  3]\n",
      " [ 2  3  4]\n",
      " [ 3  4  5]\n",
      " [ 2  4  6]\n",
      " [ 4  6  8]\n",
      " [ 6  8 10]]\n"
     ]
    },
    {
     "data": {
      "text/plain": [
       "array([[[ 1,  2],\n",
       "        [ 2,  4],\n",
       "        [ 3,  6]],\n",
       "\n",
       "       [[ 2,  4],\n",
       "        [ 3,  6],\n",
       "        [ 4,  8]],\n",
       "\n",
       "       [[ 3,  6],\n",
       "        [ 4,  8],\n",
       "        [ 5, 10]]])"
      ]
     },
     "execution_count": 7,
     "metadata": {},
     "output_type": "execute_result"
    }
   ],
   "source": [
    "#数组的拼接合并\n",
    "a = np.array(([1,2,3],[2,3,4],[3,4,5]))\n",
    "b=a*2\n",
    "#水平组合\n",
    "np.hstack((a,b))\n",
    "print(np.concatenate((a,b),axis=1))\n",
    "#垂直组合\n",
    "np.vstack((a,b))\n",
    "print(np.concatenate((a,b),axis=0))\n",
    "#沿着纵轴方向组合\n",
    "np.dstack((a,b))\n"
   ]
  },
  {
   "cell_type": "code",
   "execution_count": 59,
   "metadata": {},
   "outputs": [
    {
     "data": {
      "text/plain": [
       "array([[ True,  True,  True],\n",
       "       [ True,  True,  True]])"
      ]
     },
     "execution_count": 59,
     "metadata": {},
     "output_type": "execute_result"
    }
   ],
   "source": [
    "#求两个数组的交并集\n",
    "a = np.array(([1,3,2],[0,4,0]))\n",
    "b=np.array(([1,2,4],[1,4,0]))\n",
    "#求交集\n",
    "A = [i for i in a[0] if i in b[0]]\n",
    "#求并集\n",
    "B = np.array(list(set(a[0]).union(set(b[0]))))\n",
    "B"
   ]
  },
  {
   "cell_type": "code",
   "execution_count": 61,
   "metadata": {},
   "outputs": [
    {
     "name": "stdout",
     "output_type": "stream",
     "text": [
      "[[ True False False]\n",
      " [False  True  True]]\n",
      "False\n",
      "True\n"
     ]
    }
   ],
   "source": [
    "#判断两个矩阵是否相等\n",
    "a = np.array(([1,3,2],[0,4,0]))\n",
    "b=np.array(([1,2,4],[1,4,0]))\n",
    "print(a==b)#用==判断只能返回一个判断矩阵，表示其中每一个元素是否对应相等\n",
    "print((a==b).all())#如果两个矩阵中的所有元素对应相等，则返回True，反之返回False\n",
    "print((a==b).any())#如果判断两个矩阵中是否有相等的元素，有任何一个相等就行，这种情况就可以用.any()"
   ]
  }
 ],
 "metadata": {
  "kernelspec": {
   "display_name": "Python 3",
   "language": "python",
   "name": "python3"
  },
  "language_info": {
   "codemirror_mode": {
    "name": "ipython",
    "version": 3
   },
   "file_extension": ".py",
   "mimetype": "text/x-python",
   "name": "python",
   "nbconvert_exporter": "python",
   "pygments_lexer": "ipython3",
   "version": "3.7.3"
  }
 },
 "nbformat": 4,
 "nbformat_minor": 2
}
