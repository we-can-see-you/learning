{
 "cells": [
  {
   "cell_type": "markdown",
   "metadata": {},
   "source": [
    "# argparse\n",
    "是一个可以和命令行对话的库，即python 文件中函数所需参数可以通过命令行输入，最终在命令行得到结果"
   ]
  },
  {
   "cell_type": "code",
   "execution_count": null,
   "metadata": {},
   "outputs": [],
   "source": [
    "import argparse\n",
    "import sys"
   ]
  },
  {
   "cell_type": "code",
   "execution_count": 3,
   "metadata": {},
   "outputs": [
    {
     "data": {
      "text/plain": [
       "_StoreAction(option_strings=['-dst', '--dst'], dest='dst', nargs='?', const=None, default=None, type=<class 'str'>, choices=None, help='(REQUIRED) Directory where files will be moved to.', metavar=None)"
      ]
     },
     "execution_count": 3,
     "metadata": {},
     "output_type": "execute_result"
    }
   ],
   "source": [
    "# 创建ArgumentParser对象\n",
    "parser=argparse.ArgumentParser()\n",
    "#调用add——argument添加参数\n",
    "#将一个动作与不同数目的命令行参数关联在一起\n",
    "#nargs='?',如果有的话就从命令行读取一个参数并生成一个元素。如果没有对应的命令行参数，则产生一个来自default的值。\n",
    "#nargs='*'。出现的所有命令行参数都被收集到一个列表中\n",
    "#'+'。和'*'一样，出现的所有命令行参数都被收集到一个列表中。除此之外，如果没有至少出现一个命令行参数将会产生一个错误信息\n",
    "#required=True代表该选项为必选\n",
    "#注意metavar只会改变显示出来的名字 - parse_args() 对象中属性的名字仍然由dest的值决定\n",
    "parser.add_argument('-src', '--src', type=str, nargs='?', default='.', help='(OPTIONAL) Directory where files will be moved from. Defaults to current directory')\n",
    "parser.add_argument('-dst', '--dst', type=str, nargs='?', required=True, help='(REQUIRED) Directory where files will be moved to.')\n",
    "\n",
    "#解析命令行参数\n",
    "args = parser.parse_args()\n",
    "\n",
    "#紧接着可以对命令行参数进行需要的处理\n",
    "if args.src:\n",
    "    print(os.listdir(args.src))\n",
    "if arg.dst:\n",
    "    print(\"The directory you want to move the files to is %s\"%arg.dst)\n",
    "    \n",
    "\n"
   ]
  },
  {
   "cell_type": "code",
   "execution_count": 20,
   "metadata": {},
   "outputs": [],
   "source": [
    "import platform as pl"
   ]
  },
  {
   "cell_type": "code",
   "execution_count": 21,
   "metadata": {},
   "outputs": [
    {
     "data": {
      "text/plain": [
       "'Darwin-18.6.0-x86_64-i386-64bit'"
      ]
     },
     "execution_count": 21,
     "metadata": {},
     "output_type": "execute_result"
    }
   ],
   "source": [
    "#查看操作系统的信息\n",
    "pl.platform()"
   ]
  },
  {
   "cell_type": "code",
   "execution_count": 37,
   "metadata": {},
   "outputs": [
    {
     "data": {
      "text/plain": [
       "'/Users/xwx/anaconda3/envs/WZTensorflow_Py37/lib/python3.7/site-packages/ipykernel_launcher.py'"
      ]
     },
     "execution_count": 37,
     "metadata": {},
     "output_type": "execute_result"
    }
   ],
   "source": [
    "#Sys.argv[ ]其实就是一个列表，里边的项为用户输入的参数，关键就是要明白这参数是从程序外部（命令行）输入的，而非代码本身的什么地方，要想看到它的效果就应该将程序保存了，从外部来运行程序并给出参数\n",
    "#sys.argv[0]代表的是程序本身的路径\n",
    "sys.argv[0]"
   ]
  },
  {
   "cell_type": "code",
   "execution_count": null,
   "metadata": {},
   "outputs": [],
   "source": [
    "#版本级别\n",
    "sys.version_info"
   ]
  }
 ],
 "metadata": {
  "kernelspec": {
   "display_name": "Python 3",
   "language": "python",
   "name": "python3"
  },
  "language_info": {
   "codemirror_mode": {
    "name": "ipython",
    "version": 3
   },
   "file_extension": ".py",
   "mimetype": "text/x-python",
   "name": "python",
   "nbconvert_exporter": "python",
   "pygments_lexer": "ipython3",
   "version": "3.7.3"
  }
 },
 "nbformat": 4,
 "nbformat_minor": 2
}
