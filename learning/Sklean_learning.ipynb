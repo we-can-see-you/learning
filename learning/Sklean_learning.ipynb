{
 "cells": [
  {
   "cell_type": "markdown",
   "metadata": {},
   "source": [
    "# 数据预处理之特征编码"
   ]
  },
  {
   "cell_type": "markdown",
   "metadata": {},
   "source": [
    "LabelEncoder\n",
    "\n",
    "LabelEncoder是用来对分类型特征值进行编码，即对不连续的数值或文本进行编码。其中包含以下常用方法：\n",
    "\n",
    "fit(y) ：fit可看做一本空字典，y可看作要塞到字典中的词。\n",
    "\n",
    "fit_transform(y)：相当于先进行fit再进行transform，即把y塞到字典中去以后再进行transform得到索引值。\n",
    "\n",
    "inverse_transform(y)：根据索引值y获得原始数据。\n",
    "\n",
    "transform(y) ：将y转变成索引值。\n"
   ]
  },
  {
   "cell_type": "code",
   "execution_count": null,
   "metadata": {},
   "outputs": [],
   "source": [
    "from sklearn import preprocessing\n",
    "le = preprocessing.LabelEncoder()\n",
    "le.fit([\"paris\", \"paris\", \"tokyo\", \"amsterdam\"])\n",
    "list(le.classes_)#即amsterdam代表0，paris代表1，tokyo代表2\n",
    "le.transform([\"tokyo\", \"tokyo\", \"paris\"]) #此时编码后的值为2，2，1\n",
    "list(le.inverse_transform([2, 2, 1]))\n"
   ]
  },
  {
   "cell_type": "code",
   "execution_count": null,
   "metadata": {},
   "outputs": [],
   "source": [
    "le.fit_transform([\"from Europe\", \"from US\", \"from Asia\"])"
   ]
  },
  {
   "cell_type": "markdown",
   "metadata": {},
   "source": [
    "OneHotEncoder\n",
    "\n",
    "有一些特征并不是以连续值的形式给出。例如：人的性别 [“male”, “female”]，来自的国家 [“from Europe”, “from US”, “from Asia”]，使用的浏览器[“uses Firefox”, “uses Chrome”, “uses Safari”, “uses Internet Explorer”]。这种特征可以采用整数的形式进行编码，如： [“male”, “from US”, “uses Internet Explorer”] 可表示成 [0, 1, 3] ，[“female”, “from Asia”, “uses Chrome”] 可表示成[1, 2, 1]。 但是，这些整数形式的表示不能直接作为某些机器学习算法输入，因为有些机器学习算法是需要连续型的输入数据，同一列数据之间数值的大小可代表差异程度。如： [0, 1, 3]与[0,1,0]的特征差异比[0, 1, 3]与[0,1,2]之间的差异要大，但事实上它们的差异是一样的，都是浏览器使用不一样。\n",
    "\n",
    "一个解决办法就是采用OneHotEncoder，这种表示方式将每一个分类特征变量的m个可能的取值转变成m个二值特征，对于每一条数据这m个值中仅有一个特征值为1，其他的都为0\n"
   ]
  },
  {
   "cell_type": "code",
   "execution_count": null,
   "metadata": {},
   "outputs": [],
   "source": [
    "enc = preprocessing.OneHotEncoder()\n",
    "enc.fit([[0, 0, 3], [1, 1, 0], [0, 2, 1], [1, 0, 2]])\n",
    "enc.transform([[0, 2, 1]]).toarray()#给0，1，3编码\n"
   ]
  },
  {
   "cell_type": "markdown",
   "metadata": {},
   "source": [
    "# 数据预处理之归一化"
   ]
  },
  {
   "cell_type": "markdown",
   "metadata": {},
   "source": [
    "MinMaxScaler：归一到 [ 0，1 ]\n",
    "\n",
    "每一列特征中的最小值变成了0，最大值变成了1.\n",
    "\n",
    "MaxAbsScaler：归一到 [ -1，1 ] \n"
   ]
  },
  {
   "cell_type": "code",
   "execution_count": null,
   "metadata": {},
   "outputs": [],
   "source": [
    "from sklearn import preprocessing\n",
    "import numpy as np\n",
    " \n",
    "x = ([[3., -1., 2., 0.],\n",
    "      [2., 1., 1., 1],\n",
    "      [1., 0., 0., 2]])\n",
    " \n",
    "min_max_scaler = preprocessing.MinMaxScaler()\n",
    "x_minmax = min_max_scaler.fit_transform(x)\n",
    "print(\"数据归一化后\\n\",x_minmax)\n",
    "print(\"将数据还原\\n\",min_max_scaler.inverse_transform(x_minmax))#任意输入数据都可以被还原，但是注意带还原的数据需要和归一化后的数据是同样的列数 如x是3*4，带还原数据应该是某*4的\n",
    "\n",
    "\n",
    "#如果有新的测试数据进来，也想做同样的转换，那么将新的测试数据添加到原数据末尾即可\n",
    "\n",
    "y = [7., 1., -4., 987]#新的测试数据\n",
    "x.append(y)#将y添加到x的末尾\n",
    "print('x ：\\n', x)\n",
    "x_minmax = min_max_scaler.fit_transform(x)\n",
    "print('x_minmax :\\n', x_minmax)"
   ]
  },
  {
   "cell_type": "markdown",
   "metadata": {},
   "source": [
    "# 模型评估参数"
   ]
  },
  {
   "cell_type": "code",
   "execution_count": null,
   "metadata": {},
   "outputs": [],
   "source": [
    "print('MSE为：',mean_squared_error(y_test,y_pred))\n",
    "print('RMSE为：',np.sqrt(mean_squared_error(y_test,y_pred)))\n",
    "print('MSLE为：',mean_squared_log_error(y_test,y_pred))\n",
    "print('MAE为：',mean_absolute_error(y_test,y_pred))"
   ]
  },
  {
   "cell_type": "markdown",
   "metadata": {},
   "source": [
    "# Keras 核心网络层"
   ]
  },
  {
   "cell_type": "code",
   "execution_count": null,
   "metadata": {
    "scrolled": true
   },
   "outputs": [],
   "source": [
    "#Permute 根据指定的模式更换输入的维度\n",
    "model = Sequential()\n",
    "model.add(Permute((2, 1), input_shape=(10, 64)))\n",
    "# 现在： model.output_shape == (None, 64, 10)\n",
    "# 注意： `None` 是批表示的维度\n",
    "#该层的输出与输入尺寸相同，但是维度根据指定的模式重新排列"
   ]
  },
  {
   "cell_type": "code",
   "execution_count": null,
   "metadata": {},
   "outputs": [],
   "source": [
    "#RepeatVector 将输入重复n次\n",
    "model = Sequential()\n",
    "model.add(Dense(32, input_dim=32))\n",
    "# 现在： model.output_shape == (None, 32)\n",
    "# 注意： `None` 是批表示的维度\n",
    "\n",
    "model.add(RepeatVector(3))\n",
    "# 现在： model.output_shape == (None, 3, 32)\n",
    "#输入尺寸2D 张量，尺寸为 (num_samples, features)\n",
    "#输出尺寸3D 张量，尺寸为 (num_samp\n"
   ]
  },
  {
   "cell_type": "code",
   "execution_count": null,
   "metadata": {},
   "outputs": [],
   "source": [
    "#Flatten 将输入展平。不影响批量大小\n",
    "model = Sequential()\n",
    "model.add(Conv2D(64, (3, 3),\n",
    "                 input_shape=(3, 32, 32), padding='same',))\n",
    "# 现在：model.output_shape == (None, 64, 32, 32)\n",
    "\n",
    "model.add(Flatten())\n",
    "# 现在：model.output_shape == (None, 65536)"
   ]
  }
 ],
 "metadata": {
  "kernelspec": {
   "display_name": "Python 3",
   "language": "python",
   "name": "python3"
  },
  "language_info": {
   "codemirror_mode": {
    "name": "ipython",
    "version": 3
   },
   "file_extension": ".py",
   "mimetype": "text/x-python",
   "name": "python",
   "nbconvert_exporter": "python",
   "pygments_lexer": "ipython3",
   "version": "3.7.3"
  }
 },
 "nbformat": 4,
 "nbformat_minor": 2
}
