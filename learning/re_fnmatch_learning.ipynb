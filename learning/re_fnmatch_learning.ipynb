{
 "cells": [
  {
   "cell_type": "markdown",
   "metadata": {},
   "source": [
    "# 正则化\n",
    "判断某字符串是否符合某种规则\n",
    "#打开开源中国提供的正则表达式测试工具http://tool.oschina.net/regex/，\n",
    "#输入待匹配的文本，然后选择常用的正则表达式，就可以得出相应的匹配结果了"
   ]
  },
  {
   "cell_type": "code",
   "execution_count": 2,
   "metadata": {},
   "outputs": [],
   "source": [
    "import re"
   ]
  },
  {
   "cell_type": "code",
   "execution_count": 15,
   "metadata": {},
   "outputs": [
    {
     "name": "stdout",
     "output_type": "stream",
     "text": [
      "<re.Match object; span=(0, 7), match='010-123'>\n",
      "010-123\n",
      "(0, 7)\n"
     ]
    }
   ],
   "source": [
    "#是否匹配 match从字符串开头开始匹配\n",
    "result=re.match(r'^\\d{3}\\-(\\d{3})', '010-12345')#匹配\n",
    "re.match(r'^\\d{3}\\-\\d{3,8}$', '01012345')#不匹配，返回 none\n",
    "print(result)\n",
    "print(result.group())#输出匹配到的字符串\n",
    "print(result.span())#输出匹配到的字符串在原字符串的位置"
   ]
  },
  {
   "cell_type": "code",
   "execution_count": 19,
   "metadata": {},
   "outputs": [
    {
     "name": "stdout",
     "output_type": "stream",
     "text": [
      "齐秦 往事随风\n"
     ]
    }
   ],
   "source": [
    "#匹配 搜索整个字符串返回第一个符合规则的\n",
    "#提取class为active的li节点内部的超链接包含的歌手名和歌名，此时需要提取第三个li节点下a节点的singer属性和文本。\n",
    "html = '''<div id=\"songs-list\">\n",
    "    <h2 class=\"title\">经典老歌</h2>\n",
    "    <p class=\"introduction\">\n",
    "        经典老歌列表\n",
    "    </p>\n",
    "    <ul id=\"list\" class=\"list-group\">\n",
    "        <li data-view=\"2\">一路上有你</li>\n",
    "        <li data-view=\"7\">\n",
    "            <a href=\"/2.mp3\" singer=\"任贤齐\">沧海一声笑</a>\n",
    "        </li>\n",
    "        <li data-view=\"4\" class=\"active\">\n",
    "            <a href=\"/3.mp3\" singer=\"齐秦\">往事随风</a>\n",
    "        </li>\n",
    "        <li data-view=\"6\"><a href=\"/4.mp3\" singer=\"beyond\">光辉岁月</a></li>\n",
    "        <li data-view=\"5\"><a href=\"/5.mp3\" singer=\"陈慧琳\">记事本</a></li>\n",
    "        <li data-view=\"5\">\n",
    "            <a href=\"/6.mp3\" singer=\"邓丽君\"><i class=\"fa fa-user\"></i>但愿人长久</a>\n",
    "        </li>\n",
    "    </ul>\n",
    "</div>'''\n",
    "\n",
    "result = re.search('<li.*?active.*?singer=\"(.*?)\">(.*?)</a>', html, re.S)#re.S使.匹配包括换行在内的所有字符\n",
    "if result:\n",
    "    print(result.group(1), result.group(2))"
   ]
  },
  {
   "cell_type": "code",
   "execution_count": 26,
   "metadata": {},
   "outputs": [
    {
     "name": "stdout",
     "output_type": "stream",
     "text": [
      "('/2.mp3', '任贤齐', '沧海一声笑')\n",
      "('/3.mp3', '齐秦', '往事随风')\n",
      "('/4.mp3', 'beyond', '光辉岁月')\n",
      "('/5.mp3', '陈慧琳', '记事本')\n",
      "('/6.mp3', '邓丽君', '<i class=\"fa fa-user\"></i>但愿人长久')\n"
     ]
    }
   ],
   "source": [
    "#返回所有符合规则的字符串\n",
    "result=re.findall('<a.*?href=\"(.*?)\".*?singer=\"(.*?)\">(.*?)</a>',html,re.S)\n",
    "type(result)\n",
    "if result:\n",
    "    for i in range(len(result)):\n",
    "        print(result[i])"
   ]
  },
  {
   "cell_type": "code",
   "execution_count": 8,
   "metadata": {},
   "outputs": [
    {
     "data": {
      "text/plain": [
       "['', 'a', 'c', 'd']"
      ]
     },
     "execution_count": 8,
     "metadata": {},
     "output_type": "execute_result"
    }
   ],
   "source": [
    "#切分字符串\n",
    "re.split(r'[\\:\\s]','a b:c::d')#\\s表示空格，每一个空格或：切分一次\n",
    "re.split(r'[\\s\\,]+', 'a,b, c  d')#无论几个空格或：都切分一次\n",
    "#看一个特殊的\n",
    "re.split(r'[%s]' % ('b'),\"babcbd\")"
   ]
  },
  {
   "cell_type": "code",
   "execution_count": 18,
   "metadata": {},
   "outputs": [
    {
     "name": "stdout",
     "output_type": "stream",
     "text": [
      "('23', '1234')\n",
      "23\n"
     ]
    }
   ],
   "source": [
    "#分组\n",
    "m=re.match(r'(^\\d{1,3})\\:(\\d{1,6}$)','23:1234')#一个()代表一组，分组情况会放在groups方法中，group(0)永远是原始字符串，group(1)、group(2)……表示第1、2、……个子串\n",
    "print(m.groups())\n",
    "print(m.group(1))\n",
    "\n"
   ]
  },
  {
   "cell_type": "code",
   "execution_count": 16,
   "metadata": {},
   "outputs": [
    {
     "name": "stdout",
     "output_type": "stream",
     "text": [
      "7\n",
      "1234567\n"
     ]
    }
   ],
   "source": [
    "#贪婪与非贪婪匹配\n",
    "#想要拿到中间的数字部分 \n",
    "#使用.*代替数字前的字符，但是此时.*会匹配尽可能多的字符，使得结果变成7（应该是1234567）\n",
    "content = 'Hello 1234567 World_This is a Regex Demo'\n",
    "result = re.match('^He.*(\\d+).*Demo$', content)\n",
    "print(result.group(1))\n",
    "#使用.*?可以解决问题\n",
    "content1 = 'Hello 1234567 World_This is a Regex Demo'\n",
    "result1 = re.match('^He.*?(\\d+).*Demo$', content)\n",
    "print(result1.group(1))\n",
    "\n",
    "####字符串中间尽量使用非贪婪匹配，也就是用.*?来代替.*，以免出现匹配结果缺失的情况。\n"
   ]
  },
  {
   "cell_type": "code",
   "execution_count": 11,
   "metadata": {},
   "outputs": [
    {
     "name": "stdout",
     "output_type": "stream",
     "text": [
      "1234567\n"
     ]
    },
    {
     "data": {
      "text/plain": [
       "'\\n其他修饰符\\nre.I\\n使匹配对大小写不敏感\\n\\nre.L\\n做本地化识别（locale-aware）匹配\\n\\nre.M\\n多行匹配，影响^和$\\n\\nre.S\\n使.匹配包括换行在内的所有字符\\n\\nre.U\\n根据Unicode字符集解析字符。这个标志影响\\\\w、\\\\W、 \\x08和\\\\B\\n\\nre.X\\n该标志通过给予你更灵活的格式以便你将正则表达式写得更易于理\\n'"
      ]
     },
     "execution_count": 11,
     "metadata": {},
     "output_type": "execute_result"
    }
   ],
   "source": [
    "#修饰符\n",
    "#当内容中有换行符时，匹配会报错，因此要加修饰符re.S\n",
    "content = '''Hello 1234567 World_This\n",
    "is a Regex Demo\n",
    "'''\n",
    "result = re.match('^He.*?(\\d+).*?Demo$', content, re.S)\n",
    "print(result.group(1))\n",
    "\n",
    "\n",
    "'''\n",
    "其他修饰符\n",
    "re.I\n",
    "使匹配对大小写不敏感\n",
    "\n",
    "re.L\n",
    "做本地化识别（locale-aware）匹配\n",
    "\n",
    "re.M\n",
    "多行匹配，影响^和$\n",
    "\n",
    "re.S\n",
    "使.匹配包括换行在内的所有字符\n",
    "\n",
    "re.U\n",
    "根据Unicode字符集解析字符。这个标志影响\\w、\\W、 \\b和\\B\n",
    "\n",
    "re.X\n",
    "该标志通过给予你更灵活的格式以便你将正则表达式写得更易于理\n",
    "'''"
   ]
  },
  {
   "cell_type": "code",
   "execution_count": 18,
   "metadata": {},
   "outputs": [
    {
     "name": "stdout",
     "output_type": "stream",
     "text": [
      "a-b-c-d-e\n",
      "**********  b c d e\n"
     ]
    }
   ],
   "source": [
    "#替换 re.sub(pattern, repl, string, count)repl代表替换后的字符，count代表替换的个数默认全部替换\n",
    "str1='a  b c d e'\n",
    "print(re.sub(r'\\s+','-',str1))\n",
    "print(re.sub('a','*'*len(str1),str1))"
   ]
  },
  {
   "cell_type": "code",
   "execution_count": 27,
   "metadata": {},
   "outputs": [
    {
     "name": "stdout",
     "output_type": "stream",
     "text": [
      "2016-12-15  2016-12-17  2016-12-22 \n"
     ]
    }
   ],
   "source": [
    "#compile()\n",
    "#将正则字符串编译成正则表达式对象\n",
    "#可以理解成将常用的正则表达式封装成函数，然后每次使用仅需调用\n",
    "content1 = '2016-12-15 12:00'\n",
    "content2 = '2016-12-17 12:55'\n",
    "content3 = '2016-12-22 13:21'\n",
    "pattern = re.compile('\\d{2}:\\d{2}')\n",
    "result1 = re.sub(pattern, '', content1)#将content1中的时间去掉\n",
    "result2 = re.sub(pattern, '', content2)\n",
    "result3 = re.sub(pattern, '', content3)\n",
    "print(result1, result2, result3)"
   ]
  },
  {
   "cell_type": "markdown",
   "metadata": {},
   "source": [
    "# 正则表达式\n",
    "与re类似，用于处理文件的正则"
   ]
  },
  {
   "cell_type": "code",
   "execution_count": 29,
   "metadata": {},
   "outputs": [],
   "source": [
    "import fnmatch\n",
    "import os"
   ]
  },
  {
   "cell_type": "code",
   "execution_count": 42,
   "metadata": {},
   "outputs": [
    {
     "name": "stdout",
     "output_type": "stream",
     "text": [
      "True\n",
      "False\n",
      "True\n",
      "False\n",
      "False\n",
      "False\n",
      "False\n",
      "False\n",
      "False\n",
      "False\n",
      "False\n",
      "False\n",
      "False\n",
      "False\n",
      "False\n",
      "False\n",
      "False\n",
      "False\n",
      "False\n",
      "False\n",
      "['argparse_usage.py', 'teat.py']\n",
      "(?s:.*\\.py)\\Z\n"
     ]
    }
   ],
   "source": [
    "for file in os.listdir(os.getcwd()):\n",
    "    print(fnmatch.fnmatch(file,'*.py'))#判断文件是否以.py结尾，别忘了加*\n",
    "\n",
    "print(fnmatch.filter(os.listdir(os.getcwd()),'*.py'))#返回列表中以.py结尾的文件\n",
    "\n",
    "print(fnmatch.translate('*.py'))#转换成re正则表达式中的pattern\n",
    "    "
   ]
  },
  {
   "cell_type": "code",
   "execution_count": 10,
   "metadata": {},
   "outputs": [
    {
     "name": "stdout",
     "output_type": "stream",
     "text": [
      ">shue\n"
     ]
    },
    {
     "ename": "AttributeError",
     "evalue": "'str' object has no attribute 'decode'",
     "output_type": "error",
     "traceback": [
      "\u001b[0;31m---------------------------------------------------------------------------\u001b[0m",
      "\u001b[0;31mAttributeError\u001b[0m                            Traceback (most recent call last)",
      "\u001b[0;32m<ipython-input-10-a2251d9298a5>\u001b[0m in \u001b[0;36m<module>\u001b[0;34m\u001b[0m\n\u001b[0;32m----> 1\u001b[0;31m \u001b[0myourword\u001b[0m \u001b[0;34m=\u001b[0m \u001b[0minput\u001b[0m\u001b[0;34m(\u001b[0m\u001b[0;34m'>'\u001b[0m\u001b[0;34m)\u001b[0m\u001b[0;34m.\u001b[0m\u001b[0mdecode\u001b[0m\u001b[0;34m(\u001b[0m\u001b[0;34m'utf-8'\u001b[0m\u001b[0;34m)\u001b[0m\u001b[0;34m\u001b[0m\u001b[0;34m\u001b[0m\u001b[0m\n\u001b[0m",
      "\u001b[0;31mAttributeError\u001b[0m: 'str' object has no attribute 'decode'"
     ]
    }
   ],
   "source": []
  },
  {
   "cell_type": "code",
   "execution_count": null,
   "metadata": {},
   "outputs": [],
   "source": []
  }
 ],
 "metadata": {
  "kernelspec": {
   "display_name": "Python 3",
   "language": "python",
   "name": "python3"
  },
  "language_info": {
   "codemirror_mode": {
    "name": "ipython",
    "version": 3
   },
   "file_extension": ".py",
   "mimetype": "text/x-python",
   "name": "python",
   "nbconvert_exporter": "python",
   "pygments_lexer": "ipython3",
   "version": "3.7.3"
  }
 },
 "nbformat": 4,
 "nbformat_minor": 2
}
