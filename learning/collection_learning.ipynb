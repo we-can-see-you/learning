{
 "cells": [
  {
   "cell_type": "markdown",
   "metadata": {},
   "source": [
    "# 这个模块实现了特定目标的容器，\n",
    "以提供Python标准内建容器 dict , list , set , 和 tuple 的替代选择。"
   ]
  },
  {
   "cell_type": "code",
   "execution_count": null,
   "metadata": {},
   "outputs": [],
   "source": [
    "import collections"
   ]
  },
  {
   "cell_type": "markdown",
   "metadata": {},
   "source": [
    "# counter类\n",
    "#字典的子类，提供了可哈希对象的计数功能\n",
    "#一个计数器工具提供快速和方便的计数\n",
    "#它是一个集合，元素像字典键(key)一样存储，它们的计数存储为值。计数可以是任何整数值，包括0和负数"
   ]
  },
  {
   "cell_type": "code",
   "execution_count": 34,
   "metadata": {},
   "outputs": [
    {
     "data": {
      "text/plain": [
       "{'a', 'b', 'c', 'd'}"
      ]
     },
     "execution_count": 34,
     "metadata": {},
     "output_type": "execute_result"
    }
   ],
   "source": [
    "str1='abbbcccccccdaaa'\n",
    "#创建一个counter对象\n",
    "b=collections.Counter(str1)\n",
    "\n",
    "#elements()\n",
    "#在元素上返回一个迭代器，重复每个元素的次数。元素以任意顺序返回。如果元素的计数小于1，elements()则忽略它\n",
    "sorted(b.elements())\n",
    "\n",
    "#most_common（[ n ] ）\n",
    "#返回n个最常见元素及其计数的列表，从最常见到最少。如果省略n，则返回计数器中的所有元素。\n",
    "b.most_common(3)\n",
    "\n",
    "#显示出不重复的元素\n",
    "list(b) "
   ]
  },
  {
   "cell_type": "code",
   "execution_count": null,
   "metadata": {},
   "outputs": [],
   "source": []
  }
 ],
 "metadata": {
  "kernelspec": {
   "display_name": "Python 3",
   "language": "python",
   "name": "python3"
  },
  "language_info": {
   "codemirror_mode": {
    "name": "ipython",
    "version": 3
   },
   "file_extension": ".py",
   "mimetype": "text/x-python",
   "name": "python",
   "nbconvert_exporter": "python",
   "pygments_lexer": "ipython3",
   "version": "3.7.3"
  }
 },
 "nbformat": 4,
 "nbformat_minor": 2
}
