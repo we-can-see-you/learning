{
 "cells": [
  {
   "cell_type": "markdown",
   "metadata": {},
   "source": [
    "# xlwt\n",
    "对Excel写操作\n",
    "https://segmentfault.com/a/1190000017866070 可以参考"
   ]
  },
  {
   "cell_type": "code",
   "execution_count": 31,
   "metadata": {},
   "outputs": [],
   "source": [
    "import xlwt\n",
    "import os"
   ]
  },
  {
   "cell_type": "code",
   "execution_count": 24,
   "metadata": {},
   "outputs": [],
   "source": [
    "#创建工作薄\n",
    "workbook=xlwt.Workbook()\n",
    "#创建工作表 \n",
    "sheet=workbook.add_sheet('My_worksheet')\n",
    "#往单元格内写入内容\n",
    "sheet.write(5,0, label = 'this is test')\n",
    "#保存\n",
    "workbook.save(\"Excel_work.xls\")"
   ]
  },
  {
   "cell_type": "code",
   "execution_count": 25,
   "metadata": {},
   "outputs": [],
   "source": [
    "#设置样式\n",
    "style0 = xlwt.easyxf('font: name Times New Roman, color-index red, bold on',num_format_str='#,##0.00') #设置单元格字体和颜色\n",
    "style1 = xlwt.easyxf(num_format_str='D-MMM-YY') #设置单元格数据的类型\n",
    "sheet.write(0, 0, 1234.56, style0)\n",
    "style = xlwt.XFStyle() # 初始化样式\n",
    "font = xlwt.Font() # 为样式创建字体\n",
    "font.name = 'Times New Roman' \n",
    "font.bold = True # 黑体\n",
    "font.underline = True # 下划线\n",
    "font.italic = True # 斜体字\n",
    "style.font = font # 设定样式\n",
    "\n",
    "sheet.write(2, 0, 'Unformatted value') # 不带样式的写入\n",
    "sheet.write(3, 0, 'Formatted value', style) # 带样式的写入\n",
    "\n",
    "workbook.save(\"Excel_work.xls\")"
   ]
  },
  {
   "cell_type": "code",
   "execution_count": 27,
   "metadata": {},
   "outputs": [],
   "source": [
    "# 设置单元格宽度\n",
    "sheet.col(0).width = 3333"
   ]
  },
  {
   "cell_type": "code",
   "execution_count": null,
   "metadata": {},
   "outputs": [],
   "source": [
    "#合并单元格\n",
    "#第一个和第二个参数单表行合并,第三个和第四个参数列合并,\n",
    "\n",
    "#合并第0列到第2列的单元格\n",
    "sheet.write_merge(0, 0, 0, 2, 'first merge')\n",
    "\n",
    "#合并第1行第2行第一列的单元格\n",
    "sheet.write_merge(0, 1, 0, 0, 'first merge')\n",
    "\n",
    "workbook.save(\"Excel_work.xls\")"
   ]
  },
  {
   "cell_type": "markdown",
   "metadata": {},
   "source": [
    "# xlrd是读excel"
   ]
  },
  {
   "cell_type": "code",
   "execution_count": 32,
   "metadata": {},
   "outputs": [],
   "source": [
    "import xlrd"
   ]
  },
  {
   "cell_type": "code",
   "execution_count": 47,
   "metadata": {},
   "outputs": [
    {
     "data": {
      "text/plain": [
       "True"
      ]
     },
     "execution_count": 47,
     "metadata": {},
     "output_type": "execute_result"
    }
   ],
   "source": [
    "os.getcwd()\n",
    "#获取数据\n",
    "data = xlrd.open_workbook(os.getcwd()+'/testt'+'/my_sheet.xls')\n",
    "#获取工作表\n",
    "table0 = data.sheets()[0] #通过索引顺序获取\n",
    "table1=data.sheet_by_index(1) #通过索引顺序获取\n",
    "table2 = data.sheet_by_name('test6') #通过名称获取\n",
    "\n",
    "names = data.sheet_names()    #返回book中所有工作表的名字\n",
    "data.sheet_loaded(\"test4\")   # 检查某个sheet是否导入完毕"
   ]
  },
  {
   "cell_type": "code",
   "execution_count": 68,
   "metadata": {},
   "outputs": [
    {
     "name": "stdout",
     "output_type": "stream",
     "text": [
      "[text:'3', text:'王五', number:60.0, number:66.0, number:68.0]\n",
      "[number:1.0, number:82.0, number:65535.0]\n"
     ]
    }
   ],
   "source": [
    "#行的操作\n",
    "nrows = table0.nrows  #获取该sheet中的有效行数\n",
    "print(table0.row(2)) #返回由该行中所有的单元格对象组成的列表\n",
    "print(table2.row_slice(0))  #返回由该行中所有的单元格对象组成的列表"
   ]
  },
  {
   "cell_type": "code",
   "execution_count": 72,
   "metadata": {},
   "outputs": [
    {
     "name": "stdout",
     "output_type": "stream",
     "text": [
      "[number:82.0, number:90.0, number:809.0]\n",
      "[2, 2, 2]\n",
      "['上海', '北京', '成都']\n"
     ]
    }
   ],
   "source": [
    "#列的操作\n",
    "ncols = table.ncols   #获取列表的有效列数\n",
    "table.col(0, start_rowx=0, end_rowx=None)  #返回由该列中所有的单元格对象组成的列表\n",
    "\n",
    "print(table2.col_slice(1, start_rowx=0, end_rowx=None) ) #返回由该列中所有的单元格对象组成的列表\n",
    "#返回由该列中所有单元格的数据类型组成的列表\n",
    "#0代表empty（空的）,1 string（text）, 2 number, 3 date, 4 boolean, 5 error， 6 blank（空白表格）\n",
    "print(table2.col_types(0, start_rowx=0, end_rowx=None) )   \n",
    "print(table1.col_values(1, start_rowx=0, end_rowx=None) )  #返回由该列中所有单元格的值"
   ]
  },
  {
   "cell_type": "code",
   "execution_count": 71,
   "metadata": {},
   "outputs": [
    {
     "name": "stdout",
     "output_type": "stream",
     "text": [
      "text:'1'\n",
      "1\n",
      "1\n"
     ]
    }
   ],
   "source": [
    "#单元格操作\n",
    "print(table0.cell(0,0) ) #返回单元格对象\n",
    "\n",
    "print(table0.cell_type(0,0) )   #返回单元格中的数据类型\n",
    "\n",
    "print(table0.cell_value(0,0) )  #返回单元格中的数据\n"
   ]
  },
  {
   "cell_type": "code",
   "execution_count": null,
   "metadata": {},
   "outputs": [],
   "source": []
  }
 ],
 "metadata": {
  "kernelspec": {
   "display_name": "Python 3",
   "language": "python",
   "name": "python3"
  },
  "language_info": {
   "codemirror_mode": {
    "name": "ipython",
    "version": 3
   },
   "file_extension": ".py",
   "mimetype": "text/x-python",
   "name": "python",
   "nbconvert_exporter": "python",
   "pygments_lexer": "ipython3",
   "version": "3.7.3"
  }
 },
 "nbformat": 4,
 "nbformat_minor": 2
}
