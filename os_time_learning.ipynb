{
 "cells": [
  {
   "cell_type": "code",
   "execution_count": 4,
   "metadata": {},
   "outputs": [],
   "source": [
    "import os\n",
    "import time\n",
    "import shutil\n",
    "import sys"
   ]
  },
  {
   "cell_type": "code",
   "execution_count": 152,
   "metadata": {},
   "outputs": [
    {
     "name": "stdout",
     "output_type": "stream",
     "text": [
      "posix\n"
     ]
    },
    {
     "data": {
      "text/plain": [
       "'/Users/xwx/Desktop/learning/testt'"
      ]
     },
     "execution_count": 152,
     "metadata": {},
     "output_type": "execute_result"
    }
   ],
   "source": [
    "#操作系统的名字\n",
    "print(os.name)\n",
    "#获取现在的工作路径\n",
    "os.getcwd()"
   ]
  },
  {
   "cell_type": "code",
   "execution_count": null,
   "metadata": {},
   "outputs": [],
   "source": [
    "#分离扩展名和文件名\n",
    "os.path.splitext(\"test.txt\")"
   ]
  },
  {
   "cell_type": "code",
   "execution_count": 8,
   "metadata": {
    "scrolled": true
   },
   "outputs": [
    {
     "data": {
      "text/plain": [
       "['阶段性学习总结与展望 徐丸絮 20190717.docx',\n",
       " '.DS_Store',\n",
       " 'kaggle',\n",
       " '屏幕快照 2019-09-05 上午10.00.53.png',\n",
       " 'lecun-01a.pdf',\n",
       " '.localized',\n",
       " 'learning',\n",
       " '态度.xmind',\n",
       " '徐丸絮课表 20190907.docx',\n",
       " '自动化学院全日制博士、学术型硕士研究生培养方案.doc',\n",
       " '课表.docx',\n",
       " '老吴的',\n",
       " 'Github',\n",
       " '徐丸絮',\n",
       " '210计算机学院研究生课表(6.28).doc',\n",
       " '徐丸絮会遇见的人.xmind',\n",
       " '报道单.pdf']"
      ]
     },
     "execution_count": 8,
     "metadata": {},
     "output_type": "execute_result"
    }
   ],
   "source": [
    "#列出列表中的内容\n",
    "os.listdir()\n",
    "os.listdir(\"/Users/xwx/desktop\")"
   ]
  },
  {
   "cell_type": "code",
   "execution_count": 9,
   "metadata": {},
   "outputs": [
    {
     "data": {
      "text/plain": [
       "'/ccccc.txt'"
      ]
     },
     "execution_count": 9,
     "metadata": {},
     "output_type": "execute_result"
    }
   ],
   "source": [
    "#拼接文件路径\n",
    "os.path.join('aaaa','bbbb','ccccc.txt')#此时默认拼接全部\n",
    "os.path.join('aaaa','bbbb','/ccccc.txt')#若出现/，则从最后一个/的字符串开始向后拼接"
   ]
  },
  {
   "cell_type": "code",
   "execution_count": 170,
   "metadata": {},
   "outputs": [
    {
     "data": {
      "text/plain": [
       "False"
      ]
     },
     "execution_count": 170,
     "metadata": {},
     "output_type": "execute_result"
    }
   ],
   "source": [
    "#是否是文件\n",
    "os.path.isfile(\"/Users/xwx/desktop\")"
   ]
  },
  {
   "cell_type": "code",
   "execution_count": 171,
   "metadata": {},
   "outputs": [
    {
     "data": {
      "text/plain": [
       "False"
      ]
     },
     "execution_count": 171,
     "metadata": {},
     "output_type": "execute_result"
    }
   ],
   "source": [
    "#某文件是否存在\n",
    "os.path.exists(os.path.join('github_learning.ipynb'))"
   ]
  },
  {
   "cell_type": "code",
   "execution_count": 153,
   "metadata": {},
   "outputs": [
    {
     "data": {
      "text/plain": [
       "9"
      ]
     },
     "execution_count": 153,
     "metadata": {},
     "output_type": "execute_result"
    }
   ],
   "source": [
    "#当前文件所在的目录名称\n",
    "os.path.dirname(\"/Users/xwx/Desktop/kaggle/matplotlib_learn.ipynb\")\n",
    "#返回文件的绝对路径\n",
    "os.path.abspath(\"github_learning.ipynb\")\n",
    "#返回文件的父目录,可用于拼接新文件路径\n",
    "os.path.pardir\n",
    "#返回文件的大小\n",
    "os.path.getsize('test2.txt')"
   ]
  },
  {
   "cell_type": "code",
   "execution_count": 11,
   "metadata": {},
   "outputs": [
    {
     "data": {
      "text/plain": [
       "'/Users/xwx'"
      ]
     },
     "execution_count": 11,
     "metadata": {},
     "output_type": "execute_result"
    }
   ],
   "source": [
    "#将path中包含的～换成用户目录\n",
    "os.path.expanduser(\"~\")"
   ]
  },
  {
   "cell_type": "code",
   "execution_count": 5,
   "metadata": {},
   "outputs": [
    {
     "data": {
      "text/plain": [
       "'learning'"
      ]
     },
     "execution_count": 5,
     "metadata": {},
     "output_type": "execute_result"
    }
   ],
   "source": [
    "#返回文件名\n",
    "os.path.basename(os.getcwd())"
   ]
  },
  {
   "cell_type": "code",
   "execution_count": 12,
   "metadata": {},
   "outputs": [
    {
     "data": {
      "text/plain": [
       "time.struct_time(tm_year=2019, tm_mon=9, tm_mday=9, tm_hour=9, tm_min=11, tm_sec=32, tm_wday=0, tm_yday=252, tm_isdst=0)"
      ]
     },
     "execution_count": 12,
     "metadata": {},
     "output_type": "execute_result"
    }
   ],
   "source": [
    "#返回上次访问的时间 单位是秒\n",
    "os.path.getatime(\"github_learning.ipynb\")\n",
    "os.path.getmtime(\"github_learning.ipynb\")\n",
    "time.gmtime(os.path.getmtime(\"github_learning.ipynb\"))"
   ]
  },
  {
   "cell_type": "code",
   "execution_count": 154,
   "metadata": {},
   "outputs": [
    {
     "data": {
      "text/plain": [
       "'/Users/xwx'"
      ]
     },
     "execution_count": 154,
     "metadata": {},
     "output_type": "execute_result"
    }
   ],
   "source": [
    "#将～转换成home dirctory\n",
    "os.path.expanduser('~')\n",
    "#创建指定文件夹\n",
    "#os.makedirs(os.path.join(home,'test.txt'))"
   ]
  },
  {
   "cell_type": "code",
   "execution_count": 169,
   "metadata": {},
   "outputs": [
    {
     "data": {
      "text/plain": [
       "'/bin/bash'"
      ]
     },
     "execution_count": 169,
     "metadata": {},
     "output_type": "execute_result"
    }
   ],
   "source": [
    "#获取环境变量的值\n",
    "os.getenv(\"SHELL\")\n",
    "#os.getenv(\"my_config\")"
   ]
  },
  {
   "cell_type": "code",
   "execution_count": 29,
   "metadata": {},
   "outputs": [],
   "source": [
    "p=os.path.join(os.path.pardir,\"xixixi\")#用这个路径创建的，会到桌面上\n",
    "if os.path.exists(p):#用这个路径创建的，会在learning里\n",
    "    print('Folder already exists... Cannot Overwrite this')\n",
    "else:\n",
    "    os.makedirs(\"xixixi\")#创建相应文件夹"
   ]
  },
  {
   "cell_type": "code",
   "execution_count": 17,
   "metadata": {},
   "outputs": [
    {
     "name": "stdout",
     "output_type": "stream",
     "text": [
      "/Users/xwx/Desktop/learning/..\\test\n",
      "/Users/xwx/Desktop/test\n"
     ]
    }
   ],
   "source": [
    "#为什么创建的路径是不一样的\n",
    "print(os.path.abspath(os.path.pardir+\"\\\\\"+\"test\"))\n",
    "print(os.path.abspath(os.path.join(os.path.pardir,\"test\")))"
   ]
  },
  {
   "cell_type": "code",
   "execution_count": 172,
   "metadata": {},
   "outputs": [
    {
     "ename": "FileNotFoundError",
     "evalue": "[Errno 2] No such file or directory: '/Users/xwx/Desktop/dididi' -> '/Users/xwx/Desktop/lululu'",
     "output_type": "error",
     "traceback": [
      "\u001b[0;31m---------------------------------------------------------------------------\u001b[0m",
      "\u001b[0;31mFileNotFoundError\u001b[0m                         Traceback (most recent call last)",
      "\u001b[0;32m<ipython-input-172-bd3468406711>\u001b[0m in \u001b[0;36m<module>\u001b[0;34m\u001b[0m\n\u001b[1;32m      1\u001b[0m \u001b[0;31m#重命名\u001b[0m\u001b[0;34m\u001b[0m\u001b[0;34m\u001b[0m\u001b[0;34m\u001b[0m\u001b[0m\n\u001b[0;32m----> 2\u001b[0;31m \u001b[0mos\u001b[0m\u001b[0;34m.\u001b[0m\u001b[0mrename\u001b[0m\u001b[0;34m(\u001b[0m\u001b[0;34m\"/Users/xwx/Desktop/dididi\"\u001b[0m\u001b[0;34m,\u001b[0m\u001b[0;34m\"/Users/xwx/Desktop/lululu\"\u001b[0m\u001b[0;34m)\u001b[0m\u001b[0;34m\u001b[0m\u001b[0;34m\u001b[0m\u001b[0m\n\u001b[0m",
      "\u001b[0;31mFileNotFoundError\u001b[0m: [Errno 2] No such file or directory: '/Users/xwx/Desktop/dididi' -> '/Users/xwx/Desktop/lululu'"
     ]
    }
   ],
   "source": [
    "#重命名\n",
    "os.rename(\"/Users/xwx/Desktop/dididi\",\"/Users/xwx/Desktop/lululu\")"
   ]
  },
  {
   "cell_type": "code",
   "execution_count": 138,
   "metadata": {},
   "outputs": [
    {
     "data": {
      "text/plain": [
       "'/Users/xwx/Desktop/test1'"
      ]
     },
     "execution_count": 138,
     "metadata": {},
     "output_type": "execute_result"
    }
   ],
   "source": [
    "#把olddir拷贝一份newdir，注意newdir必须是一个新的还不存在的文件夹\n",
    "#如果第3个参数是True，则复制目录时将保持文件夹下的符号连接，\n",
    "#如果第3个参数是False，则将在复制的目录下生成物理副本来替代符号连接\n",
    "shutil.copytree(\"tatanic\",\"/Users/xwx/Desktop/test1\",False)"
   ]
  },
  {
   "cell_type": "code",
   "execution_count": 155,
   "metadata": {},
   "outputs": [
    {
     "name": "stdout",
     "output_type": "stream",
     "text": [
      ".\n",
      "/Users/xwx/Desktop/learning/testt\n"
     ]
    }
   ],
   "source": [
    "#返回执行当前python文件的文件夹，而不是当前文件所在的文件夹\n",
    "print(os.path.curdir)"
   ]
  },
  {
   "cell_type": "code",
   "execution_count": 175,
   "metadata": {},
   "outputs": [],
   "source": [
    "#遍历该地址中的所有文件，一般出现在for循环中\n",
    "#详细解释看这里：https://www.jianshu.com/p/bbad16822eab \n",
    "#每次遍历的对象都是返回的是一个三元组(root,dirs,files)\n",
    "#root 所指的是当前正在遍历的这个文件夹的本身的地址\n",
    "#dirs 是一个 list ，内容是该文件夹中所有的目录的名字(不包括子目录)\n",
    "#files 同样是 list , 内容是该文件夹中所有的文件(不包括子目录)\n",
    "\n",
    "os.walk(os.path.curdir)"
   ]
  },
  {
   "cell_type": "code",
   "execution_count": 28,
   "metadata": {},
   "outputs": [
    {
     "name": "stdout",
     "output_type": "stream",
     "text": [
      "please enter which file you want to search for\n",
      "小吴\n"
     ]
    }
   ],
   "source": [
    "#检查相应文件是否存在，若不存在则重新写一个，存在则提示已存在\n",
    "print(\"please enter which file you want to search for\")\n",
    "file=input()\n",
    "if os.path.exists(os.path.join(file)):\n",
    "    print(\"The file already exists\")\n",
    "else:\n",
    "    os.makedirs(file)\n"
   ]
  },
  {
   "cell_type": "code",
   "execution_count": 112,
   "metadata": {
    "scrolled": true
   },
   "outputs": [
    {
     "name": "stdout",
     "output_type": "stream",
     "text": [
      "please enter the file's name which you want to search for:test\n",
      "2\n",
      "2\n",
      "3\n",
      "4\n",
      "5\n",
      "6\n",
      "7\n",
      "6 27\n"
     ]
    }
   ],
   "source": [
    "#记录文件的信息 文件名、文件大小、几行、几个字节\n",
    "filename=input(\"please enter the file's name which you want to search for:\")\n",
    "li=0#几行\n",
    "by=0#几个字节\n",
    "try:\n",
    "    with open(os.path.join(os.path.curdir,filename+\".txt\")) as f:\n",
    "        line=f.readline()\n",
    "        while line:\n",
    "            print(len(line))#？？？为什么是2、3、4。。\n",
    "            by+=len(line)\n",
    "            li+=1\n",
    "            line=f.readline()#依次读取每行\n",
    "except FileNotFoundError as e:\n",
    "    print(e)\n",
    "print(li,by)"
   ]
  },
  {
   "cell_type": "code",
   "execution_count": 19,
   "metadata": {},
   "outputs": [
    {
     "name": "stdout",
     "output_type": "stream",
     "text": [
      "please enter the dir's name which you want to search for:testt\n",
      "Folder Size: 4\n",
      "Folder Size: 0.0\n",
      "Folder Size: 0.0\n",
      "Folder Size: 0.0\n"
     ]
    }
   ],
   "source": [
    "#统计文件夹的大小\n",
    "fsizedicr = {'Bytes': 1,\n",
    "             'Kilobytes': float(1) / 1024,\n",
    "             'Megabytes': float(1) / (1024 * 1024),\n",
    "             'Gigabytes': float(1) / (1024 * 1024 * 1024)}\n",
    "dirname=input(\"please enter the dir's name which you want to search for:\")\n",
    "dirsize=0\n",
    "for (path,dirs,files) in os.walk(dirname):\n",
    "    for f in files:\n",
    "        p=os.path.join(path,f)\n",
    "        dirsize+=os.path.getsize(p)\n",
    "filesize=[str(fsizedicr[key]*dirsize)+' '+key for key in fsizedicr.keys()]\n",
    "if dirsize==0:\n",
    "    print('The dictory is empty')\n",
    "else:\n",
    "    for units in sorted(fsizeList)[::-1]: # Reverse sort list of units so smallest magnitude units print first.\n",
    "        print (\"Folder Size: \" + units)\n",
    "\n",
    "\n"
   ]
  },
  {
   "cell_type": "code",
   "execution_count": 145,
   "metadata": {},
   "outputs": [
    {
     "data": {
      "text/plain": [
       "1568122890.981726"
      ]
     },
     "execution_count": 145,
     "metadata": {},
     "output_type": "execute_result"
    }
   ],
   "source": [
    "#获取当前时间\n",
    "time.strftime(\"%Y-%m-%d %A %H:%M:%S\",time.localtime())\n"
   ]
  },
  {
   "cell_type": "code",
   "execution_count": 144,
   "metadata": {},
   "outputs": [
    {
     "name": "stdout",
     "output_type": "stream",
     "text": [
      "32512\n"
     ]
    }
   ],
   "source": [
    "txtdir=\"/Users/xwx/Desktop/learning/testt\"\n",
    "zip_pragram='zip.exe'\n",
    "#os.remove('/Users/xwx/Desktop/learning/testt/.DS_Store')\n",
    "for files in os.listdir(txtdir) :\n",
    "    f=open(os.path.join(txtdir,files)).read()\n",
    "    if f.endswith('9'):\n",
    "        filenew=os.path.splitext(files)[0]+'.'+time.strftime('%Y-%m-%d')+'.zip'\n",
    "        os.chdir(txtdir)\n",
    "        print(os.system(zip_pragram + \" \" +  filenew +\" \"+ files))"
   ]
  },
  {
   "cell_type": "code",
   "execution_count": 157,
   "metadata": {},
   "outputs": [],
   "source": [
    "\n"
   ]
  },
  {
   "cell_type": "code",
   "execution_count": null,
   "metadata": {},
   "outputs": [],
   "source": []
  }
 ],
 "metadata": {
  "kernelspec": {
   "display_name": "Python 3",
   "language": "python",
   "name": "python3"
  },
  "language_info": {
   "codemirror_mode": {
    "name": "ipython",
    "version": 3
   },
   "file_extension": ".py",
   "mimetype": "text/x-python",
   "name": "python",
   "nbconvert_exporter": "python",
   "pygments_lexer": "ipython3",
   "version": "3.7.3"
  }
 },
 "nbformat": 4,
 "nbformat_minor": 2
}
