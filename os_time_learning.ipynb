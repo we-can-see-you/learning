{
 "cells": [
  {
   "cell_type": "code",
   "execution_count": 1,
   "metadata": {},
   "outputs": [],
   "source": [
    "import os\n",
    "import time\n",
    "import shutil\n",
    "import sys"
   ]
  },
  {
   "cell_type": "code",
   "execution_count": 2,
   "metadata": {},
   "outputs": [
    {
     "data": {
      "text/plain": [
       "'/Users/xwx/Desktop/learning'"
      ]
     },
     "execution_count": 2,
     "metadata": {},
     "output_type": "execute_result"
    }
   ],
   "source": [
    "#获取现在的工作路径\n",
    "os.getcwd()"
   ]
  },
  {
   "cell_type": "code",
   "execution_count": null,
   "metadata": {},
   "outputs": [],
   "source": [
    "#分离扩展名和文件名\n",
    "os.path.splitext(\"test.txt\")"
   ]
  },
  {
   "cell_type": "code",
   "execution_count": 8,
   "metadata": {
    "scrolled": true
   },
   "outputs": [
    {
     "data": {
      "text/plain": [
       "['阶段性学习总结与展望 徐丸絮 20190717.docx',\n",
       " '.DS_Store',\n",
       " 'kaggle',\n",
       " '屏幕快照 2019-09-05 上午10.00.53.png',\n",
       " 'lecun-01a.pdf',\n",
       " '.localized',\n",
       " 'learning',\n",
       " '态度.xmind',\n",
       " '徐丸絮课表 20190907.docx',\n",
       " '自动化学院全日制博士、学术型硕士研究生培养方案.doc',\n",
       " '课表.docx',\n",
       " '老吴的',\n",
       " 'Github',\n",
       " '徐丸絮',\n",
       " '210计算机学院研究生课表(6.28).doc',\n",
       " '徐丸絮会遇见的人.xmind',\n",
       " '报道单.pdf']"
      ]
     },
     "execution_count": 8,
     "metadata": {},
     "output_type": "execute_result"
    }
   ],
   "source": [
    "#列出列表中的内容\n",
    "os.listdir()\n",
    "os.listdir(\"/Users/xwx/desktop\")"
   ]
  },
  {
   "cell_type": "code",
   "execution_count": 9,
   "metadata": {},
   "outputs": [
    {
     "data": {
      "text/plain": [
       "'/ccccc.txt'"
      ]
     },
     "execution_count": 9,
     "metadata": {},
     "output_type": "execute_result"
    }
   ],
   "source": [
    "#拼接文件路径\n",
    "os.path.join('aaaa','bbbb','ccccc.txt')#此时默认拼接全部\n",
    "os.path.join('aaaa','bbbb','/ccccc.txt')#若出现/，则从最后一个/的字符串开始向后拼接"
   ]
  },
  {
   "cell_type": "code",
   "execution_count": 10,
   "metadata": {},
   "outputs": [
    {
     "data": {
      "text/plain": [
       "'..'"
      ]
     },
     "execution_count": 10,
     "metadata": {},
     "output_type": "execute_result"
    }
   ],
   "source": [
    "#当前文件所在的目录名称\n",
    "os.path.dirname(\"/Users/xwx/Desktop/kaggle/matplotlib_learn.ipynb\")\n",
    "#返回文件的绝对路径\n",
    "os.path.abspath(\"github_learning.ipynb\")\n",
    "#返回文件的父目录,可用于拼接新文件路径\n",
    "os.path.pardir"
   ]
  },
  {
   "cell_type": "code",
   "execution_count": 11,
   "metadata": {},
   "outputs": [
    {
     "data": {
      "text/plain": [
       "'/Users/xwx'"
      ]
     },
     "execution_count": 11,
     "metadata": {},
     "output_type": "execute_result"
    }
   ],
   "source": [
    "#将path中包含的～换成用户目录\n",
    "os.path.expanduser(\"~\")"
   ]
  },
  {
   "cell_type": "code",
   "execution_count": 12,
   "metadata": {},
   "outputs": [
    {
     "data": {
      "text/plain": [
       "time.struct_time(tm_year=2019, tm_mon=9, tm_mday=9, tm_hour=9, tm_min=11, tm_sec=32, tm_wday=0, tm_yday=252, tm_isdst=0)"
      ]
     },
     "execution_count": 12,
     "metadata": {},
     "output_type": "execute_result"
    }
   ],
   "source": [
    "#返回上次访问的时间 单位是秒\n",
    "os.path.getatime(\"github_learning.ipynb\")\n",
    "os.path.getmtime(\"github_learning.ipynb\")\n",
    "time.gmtime(os.path.getmtime(\"github_learning.ipynb\"))"
   ]
  },
  {
   "cell_type": "code",
   "execution_count": 13,
   "metadata": {},
   "outputs": [],
   "source": [
    "home=os.path.expanduser('~')\n",
    "#创建指定文件夹\n",
    "os.makedirs(os.path.join(home,'test.txt'))"
   ]
  },
  {
   "cell_type": "code",
   "execution_count": 14,
   "metadata": {},
   "outputs": [],
   "source": [
    "#打开指定文件，w代表若存在则打开且从第一行开始重新编辑，若文件不存在则创建一个\n",
    "file = open(\"/Users/xwx/Desktop/learning/test.txt\",'w')"
   ]
  },
  {
   "cell_type": "code",
   "execution_count": 29,
   "metadata": {},
   "outputs": [],
   "source": [
    "p=os.path.join(os.path.pardir,\"xixixi\")#用这个路径创建的，会到桌面上\n",
    "if os.path.exists(p):#用这个路径创建的，会在learning里\n",
    "    print('Folder already exists... Cannot Overwrite this')\n",
    "else:\n",
    "    os.makedirs(\"xixixi\")#创建相应文件夹"
   ]
  },
  {
   "cell_type": "code",
   "execution_count": 17,
   "metadata": {},
   "outputs": [
    {
     "name": "stdout",
     "output_type": "stream",
     "text": [
      "/Users/xwx/Desktop/learning/..\\test\n",
      "/Users/xwx/Desktop/test\n"
     ]
    }
   ],
   "source": [
    "#为什么创建的路径是不一样的\n",
    "print(os.path.abspath(os.path.pardir+\"\\\\\"+\"test\"))\n",
    "print(os.path.abspath(os.path.join(os.path.pardir,\"test\")))"
   ]
  },
  {
   "cell_type": "code",
   "execution_count": 107,
   "metadata": {},
   "outputs": [],
   "source": [
    "#重命名\n",
    "os.rename(\"/Users/xwx/Desktop/dididi\",\"/Users/xwx/Desktop/lululu\")"
   ]
  },
  {
   "cell_type": "code",
   "execution_count": 162,
   "metadata": {},
   "outputs": [],
   "source": [
    "#改变当前工作路径到指定的路径\n",
    "os.chdir(\"/Users/xwx/Desktop/kaggle\")"
   ]
  },
  {
   "cell_type": "code",
   "execution_count": 138,
   "metadata": {},
   "outputs": [
    {
     "data": {
      "text/plain": [
       "'/Users/xwx/Desktop/test1'"
      ]
     },
     "execution_count": 138,
     "metadata": {},
     "output_type": "execute_result"
    }
   ],
   "source": [
    "#把olddir拷贝一份newdir，注意newdir必须是一个新的还不存在的文件夹\n",
    "#如果第3个参数是True，则复制目录时将保持文件夹下的符号连接，\n",
    "#如果第3个参数是False，则将在复制的目录下生成物理副本来替代符号连接\n",
    "shutil.copytree(\"tatanic\",\"/Users/xwx/Desktop/test1\",False)"
   ]
  },
  {
   "cell_type": "code",
   "execution_count": 18,
   "metadata": {},
   "outputs": [
    {
     "name": "stdout",
     "output_type": "stream",
     "text": [
      ".\n",
      "/Users/xwx/Desktop/learning\n"
     ]
    }
   ],
   "source": [
    "#返回执行当前python文件的文件夹，而不是当前文件所在的文件夹\n",
    "print(os.path.curdir)\n",
    "print(os.getcwd())"
   ]
  },
  {
   "cell_type": "code",
   "execution_count": 175,
   "metadata": {},
   "outputs": [],
   "source": [
    "#遍历改地址中的所有文件，一般出现在for循环中\n",
    "#详细解释看这里：https://www.jianshu.com/p/bbad16822eab\n",
    "os.walk(os.path.curdir)"
   ]
  },
  {
   "cell_type": "code",
   "execution_count": 26,
   "metadata": {},
   "outputs": [
    {
     "data": {
      "text/plain": [
       "True"
      ]
     },
     "execution_count": 26,
     "metadata": {},
     "output_type": "execute_result"
    }
   ],
   "source": [
    "#os.path.exists(os.path.curdir+'/'+\"github_learning\")\n",
    "os.path.exists(os.path.join('github_learning.ipynb'))"
   ]
  },
  {
   "cell_type": "code",
   "execution_count": 28,
   "metadata": {},
   "outputs": [
    {
     "name": "stdout",
     "output_type": "stream",
     "text": [
      "please enter which file you want to search for\n",
      "小吴\n"
     ]
    }
   ],
   "source": [
    "#检查相应文件是否存在，若不存在则重新写一个，存在则提示已存在\n",
    "print(\"please enter which file you want to search for\")\n",
    "file=input()\n",
    "if os.path.exists(os.path.join(file)):\n",
    "    print(\"The file already exists\")\n",
    "else:\n",
    "    os.makedirs(file)\n"
   ]
  },
  {
   "cell_type": "code",
   "execution_count": 39,
   "metadata": {},
   "outputs": [
    {
     "data": {
      "text/plain": [
       "environ{'TERM_PROGRAM': 'Apple_Terminal',\n",
       "        'SHELL': '/bin/bash',\n",
       "        'TERM': 'xterm-color',\n",
       "        'TMPDIR': '/var/folders/9n/lsdhtmc555j0f93ry8qpj0nm0000gn/T/',\n",
       "        'CONDA_SHLVL': '1',\n",
       "        'Apple_PubSub_Socket_Render': '/private/tmp/com.apple.launchd.nLMVRG1QFV/Render',\n",
       "        'CONDA_PROMPT_MODIFIER': '(base) ',\n",
       "        'TERM_PROGRAM_VERSION': '421.2',\n",
       "        'TERM_SESSION_ID': '3273D4DC-EDD6-49E4-9DAC-D37EA9C49FE2',\n",
       "        'USER': 'xwx',\n",
       "        'CONDA_EXE': '/Users/xwx/anaconda3/bin/conda',\n",
       "        'SSH_AUTH_SOCK': '/private/tmp/com.apple.launchd.xZo7oP41mt/Listeners',\n",
       "        '_CE_CONDA': '',\n",
       "        'PATH': '/Users/xwx/anaconda3/bin:/Users/xwx/anaconda3/bin:/Users/xwx/anaconda3/condabin:/usr/local/bin:/usr/bin:/bin:/usr/sbin:/sbin',\n",
       "        'CONDA_PREFIX': '/Users/xwx/anaconda3',\n",
       "        'PWD': '/Users/xwx',\n",
       "        'LANG': 'zh_CN.UTF-8',\n",
       "        'XPC_FLAGS': '0x0',\n",
       "        '_CE_M': '',\n",
       "        'XPC_SERVICE_NAME': '0',\n",
       "        'SHLVL': '1',\n",
       "        'HOME': '/Users/xwx',\n",
       "        'CONDA_PYTHON_EXE': '/Users/xwx/anaconda3/bin/python',\n",
       "        'LOGNAME': 'xwx',\n",
       "        'CONDA_DEFAULT_ENV': 'base',\n",
       "        'SECURITYSESSIONID': '186a9',\n",
       "        '_': '/Users/xwx/anaconda3/bin/jupyter',\n",
       "        'JPY_PARENT_PID': '18073',\n",
       "        'CLICOLOR': '1',\n",
       "        'PAGER': 'cat',\n",
       "        'GIT_PAGER': 'cat',\n",
       "        'MPLBACKEND': 'module://ipykernel.pylab.backend_inline'}"
      ]
     },
     "execution_count": 39,
     "metadata": {},
     "output_type": "execute_result"
    }
   ],
   "source": [
    "#环境变量\n",
    "os.environ\n",
    "#操作系统的名字\n",
    "#os.name"
   ]
  },
  {
   "cell_type": "code",
   "execution_count": 49,
   "metadata": {},
   "outputs": [
    {
     "name": "stdout",
     "output_type": "stream",
     "text": [
      "hello world\n",
      "网站名：菜鸟教程, 地址 www.runoob.com\n",
      "网站名：菜鸟教程, 地址 www.runoob.com\n",
      "网站名：菜鸟教程, 地址 www.runoob.com\n"
     ]
    }
   ],
   "source": [
    "#format()格式化字符串 代替了之前的%\n",
    "\n",
    "print(\"{} {}\".format(\"hello\", \"world\"))\n",
    "\n",
    "print(\"网站名：{name}, 地址 {url}\".format(name=\"菜鸟教程\", url=\"www.runoob.com\"))\n",
    " \n",
    "# 通过字典设置参数\n",
    "site = {\"name\": \"菜鸟教程\", \"url\": \"www.runoob.com\"}\n",
    "print(\"网站名：{name}, 地址 {url}\".format(**site))\n",
    " \n",
    "# 通过列表索引设置参数\n",
    "my_list = ['菜鸟教程', 'www.runoob.com']\n",
    "print(\"网站名：{0[0]}, 地址 {0[1]}\".format(my_list))  # \"0\" 是必须的"
   ]
  },
  {
   "cell_type": "code",
   "execution_count": 56,
   "metadata": {},
   "outputs": [
    {
     "data": {
      "text/plain": [
       "sys.version_info(major=3, minor=7, micro=3, releaselevel='final', serial=0)"
      ]
     },
     "execution_count": 56,
     "metadata": {},
     "output_type": "execute_result"
    }
   ],
   "source": [
    "#版本级别\n",
    "sys.version_info"
   ]
  },
  {
   "cell_type": "code",
   "execution_count": 112,
   "metadata": {
    "scrolled": true
   },
   "outputs": [
    {
     "name": "stdout",
     "output_type": "stream",
     "text": [
      "please enter the file's name which you want to search for:test\n",
      "2\n",
      "2\n",
      "3\n",
      "4\n",
      "5\n",
      "6\n",
      "7\n",
      "6 27\n"
     ]
    }
   ],
   "source": [
    "#记录文件的信息 文件名、文件大小、几行、几个字节\n",
    "filename=input(\"please enter the file's name which you want to search for:\")\n",
    "li=0#几行\n",
    "by=0#几个字节\n",
    "try:\n",
    "    with open(os.path.join(os.path.curdir,filename+\".txt\")) as f:\n",
    "        line=f.readline()\n",
    "        while line:\n",
    "            print(len(line))#？？？为什么是2、3、4。。\n",
    "            by+=len(line)\n",
    "            li+=1\n",
    "            line=f.readline()#依次读取每行\n",
    "except FileNotFoundError as e:\n",
    "    print(e)\n",
    "print(li,by)"
   ]
  },
  {
   "cell_type": "code",
   "execution_count": 121,
   "metadata": {},
   "outputs": [
    {
     "data": {
      "text/plain": [
       "'/Users/xwx/Library/Jupyter/runtime/kernel-6e2e19bd-65e9-48b1-b24d-78d27b281289.json'"
      ]
     },
     "execution_count": 121,
     "metadata": {},
     "output_type": "execute_result"
    }
   ],
   "source": [
    "#Sys.argv[ ]其实就是一个列表，里边的项为用户输入的参数，关键就是要明白这参数是从程序外部（命令行）输入的，而非代码本身的什么地方，要想看到它的效果就应该将程序保存了，从外部来运行程序并给出参数\n",
    "#sys.argv[0]代表的是程序本身的路径\n",
    "sys.argv[0]"
   ]
  },
  {
   "cell_type": "code",
   "execution_count": 123,
   "metadata": {},
   "outputs": [
    {
     "data": {
      "text/plain": [
       "27"
      ]
     },
     "execution_count": 123,
     "metadata": {},
     "output_type": "execute_result"
    }
   ],
   "source": [
    "os.path.getsize('test.txt')"
   ]
  },
  {
   "cell_type": "code",
   "execution_count": 4,
   "metadata": {},
   "outputs": [],
   "source": [
    "fsizedicr = {'Bytes': 1,\n",
    "             'Kilobytes': float(1) / 1024,\n",
    "             'Megabytes': float(1) / (1024 * 1024),\n",
    "             'Gigabytes': float(1) / (1024 * 1024 * 1024)}\n",
    "#round()返回四舍五入值\n"
   ]
  },
  {
   "cell_type": "code",
   "execution_count": 19,
   "metadata": {},
   "outputs": [
    {
     "name": "stdout",
     "output_type": "stream",
     "text": [
      "please enter the dir's name which you want to search for:testt\n",
      "Folder Size: 4\n",
      "Folder Size: 0.0\n",
      "Folder Size: 0.0\n",
      "Folder Size: 0.0\n"
     ]
    }
   ],
   "source": [
    "#统计文件夹的大小\n",
    "fsizedicr = {'Bytes': 1,\n",
    "             'Kilobytes': float(1) / 1024,\n",
    "             'Megabytes': float(1) / (1024 * 1024),\n",
    "             'Gigabytes': float(1) / (1024 * 1024 * 1024)}\n",
    "dirname=input(\"please enter the dir's name which you want to search for:\")\n",
    "dirsize=0\n",
    "for (path,dirs,files) in os.walk(dirname):\n",
    "    for f in files:\n",
    "        p=os.path.join(path,f)\n",
    "        dirsize+=os.path.getsize(p)\n",
    "filesize=[str(fsizedicr[key]*dirsize)+' '+key for key in fsizedicr.keys()]\n",
    "if dirsize==0:\n",
    "    print('The dictory is empty')\n",
    "else:\n",
    "    for units in sorted(fsizeList)[::-1]: # Reverse sort list of units so smallest magnitude units print first.\n",
    "        print (\"Folder Size: \" + units)\n",
    "\n",
    "\n"
   ]
  },
  {
   "cell_type": "code",
   "execution_count": 47,
   "metadata": {},
   "outputs": [
    {
     "data": {
      "text/plain": [
       "0"
      ]
     },
     "execution_count": 47,
     "metadata": {},
     "output_type": "execute_result"
    }
   ],
   "source": [
    "#终端执行git remote 返回0代表执行成功\n",
    "os.system('git remote')"
   ]
  },
  {
   "cell_type": "code",
   "execution_count": 57,
   "metadata": {},
   "outputs": [
    {
     "data": {
      "text/plain": [
       "'2019-09-10 Tuesday 14:42:00'"
      ]
     },
     "execution_count": 57,
     "metadata": {},
     "output_type": "execute_result"
    }
   ],
   "source": [
    "#获取当前时间\n",
    "time.strftime(\"%Y-%m-%d %A %H:%M:%S\",time.localtime())\n"
   ]
  },
  {
   "cell_type": "code",
   "execution_count": 141,
   "metadata": {},
   "outputs": [
    {
     "name": "stdout",
     "output_type": "stream",
     "text": [
      "zip.exe test2.2019-09-10.zip test2.txt\n"
     ]
    }
   ],
   "source": [
    "txtdir=\"/Users/xwx/Desktop/learning/testt\"\n",
    "zip_pragram='zip.exe'\n",
    "#os.remove('/Users/xwx/Desktop/learning/testt/.DS_Store')\n",
    "for files in os.listdir(txtdir) :\n",
    "    f=open(os.path.join(txtdir,files)).read()\n",
    "    if f.endswith('9'):\n",
    "        filenew=os.path.splitext(files)[0]+'.'+time.strftime('%Y-%m-%d')+'.zip'\n",
    "        os.chdir(txtdir)\n",
    "        print(zip_pragram + \" \" +  filenew +\" \"+ files)\n"
   ]
  },
  {
   "cell_type": "code",
   "execution_count": 108,
   "metadata": {},
   "outputs": [
    {
     "data": {
      "text/plain": [
       "True"
      ]
     },
     "execution_count": 108,
     "metadata": {},
     "output_type": "execute_result"
    }
   ],
   "source": [
    "f=open('/Users/xwx/Desktop/learning/testt/test2.txt').read()\n",
    "#string=f.read()\n",
    "f.endswith(\"9\")"
   ]
  },
  {
   "cell_type": "code",
   "execution_count": 117,
   "metadata": {},
   "outputs": [
    {
     "data": {
      "text/plain": [
       "'/Users/xwx/Desktop/learning/testt'"
      ]
     },
     "execution_count": 117,
     "metadata": {},
     "output_type": "execute_result"
    }
   ],
   "source": [
    "os.path.abspath('testt')"
   ]
  },
  {
   "cell_type": "code",
   "execution_count": 124,
   "metadata": {},
   "outputs": [
    {
     "data": {
      "text/plain": [
       "['.DS_Store', 'test2.txt', 'test3.txt', 'test.txt']"
      ]
     },
     "execution_count": 124,
     "metadata": {},
     "output_type": "execute_result"
    }
   ],
   "source": [
    "os.listdir(\"/Users/xwx/Desktop/learning/testt\")"
   ]
  },
  {
   "cell_type": "code",
   "execution_count": null,
   "metadata": {},
   "outputs": [],
   "source": []
  }
 ],
 "metadata": {
  "kernelspec": {
   "display_name": "Python 3",
   "language": "python",
   "name": "python3"
  },
  "language_info": {
   "codemirror_mode": {
    "name": "ipython",
    "version": 3
   },
   "file_extension": ".py",
   "mimetype": "text/x-python",
   "name": "python",
   "nbconvert_exporter": "python",
   "pygments_lexer": "ipython3",
   "version": "3.7.3"
  }
 },
 "nbformat": 4,
 "nbformat_minor": 2
}
