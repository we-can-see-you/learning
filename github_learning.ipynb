{
 "cells": [
  {
   "cell_type": "code",
   "execution_count": 1,
   "metadata": {},
   "outputs": [],
   "source": [
    "import os"
   ]
  },
  {
   "cell_type": "code",
   "execution_count": 2,
   "metadata": {},
   "outputs": [
    {
     "data": {
      "text/plain": [
       "['.DS_Store',\n",
       " 'matplotlib_learn.ipynb',\n",
       " 'Pandans_learning.ipynb',\n",
       " '.gitignore',\n",
       " '.ipynb_checkpoints',\n",
       " 'SQl_learning.ipynb',\n",
       " 'pandas_leaning.ipynb',\n",
       " '.git',\n",
       " 'github_learning.ipynb',\n",
       " 'Numpy_learning.ipynb',\n",
       " '.idea']"
      ]
     },
     "execution_count": 2,
     "metadata": {},
     "output_type": "execute_result"
    }
   ],
   "source": [
    "#列出列表中的内容\n",
    "os.listdir()\n",
    "os.listdir(\"/Users/xwx/Desktop/kaggle\")"
   ]
  },
  {
   "cell_type": "code",
   "execution_count": 17,
   "metadata": {},
   "outputs": [
    {
     "data": {
      "text/plain": [
       "'aaaa/bbbb/./ccccc.txt'"
      ]
     },
     "execution_count": 17,
     "metadata": {},
     "output_type": "execute_result"
    }
   ],
   "source": [
    "#拼接文件路径\n",
    "os.path.join('aaaa','bbbb','ccccc.txt')#此时默认拼接全部\n",
    "os.path.join('aaaa','bbbb','/ccccc.txt')#若出现/，则从最后一个/的字符串开始向后拼接"
   ]
  },
  {
   "cell_type": "code",
   "execution_count": null,
   "metadata": {},
   "outputs": [],
   "source": []
  }
 ],
 "metadata": {
  "kernelspec": {
   "display_name": "Python 3",
   "language": "python",
   "name": "python3"
  },
  "language_info": {
   "codemirror_mode": {
    "name": "ipython",
    "version": 3
   },
   "file_extension": ".py",
   "mimetype": "text/x-python",
   "name": "python",
   "nbconvert_exporter": "python",
   "pygments_lexer": "ipython3",
   "version": "3.7.3"
  }
 },
 "nbformat": 4,
 "nbformat_minor": 2
}
