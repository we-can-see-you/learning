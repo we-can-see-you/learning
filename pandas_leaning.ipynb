{
 "cells": [
  {
   "cell_type": "markdown",
   "metadata": {},
   "source": [
    "<font face=\"微软雅黑\" size=5 color=#1E90F > Series"
   ]
  },
  {
   "cell_type": "code",
   "execution_count": 2,
   "metadata": {
    "collapsed": true
   },
   "outputs": [],
   "source": [
    "import pandas as pd\n",
    "import numpy as np"
   ]
  },
  {
   "cell_type": "code",
   "execution_count": 2,
   "metadata": {},
   "outputs": [
    {
     "data": {
      "text/plain": [
       "0     1.0\n",
       "1     3.0\n",
       "2     5.0\n",
       "3     7.0\n",
       "4     NaN\n",
       "5     9.0\n",
       "6    11.0\n",
       "dtype: float64"
      ]
     },
     "execution_count": 2,
     "metadata": {},
     "output_type": "execute_result"
    }
   ],
   "source": [
    "s1 = pd.Series([1,3,5,7,np.NaN,9,11])#pandas中生产序列的函数，类似于我们平时说的数组\n",
    "s1"
   ]
  },
  {
   "cell_type": "code",
   "execution_count": 3,
   "metadata": {},
   "outputs": [
    {
     "data": {
      "text/plain": [
       "a        1\n",
       "b       网易\n",
       "c       32\n",
       "d    jdisa\n",
       "dtype: object"
      ]
     },
     "execution_count": 3,
     "metadata": {},
     "output_type": "execute_result"
    }
   ],
   "source": [
    "s2 = pd.Series([1,'网易',32,\"jdisa\"],index=['a','b','c','d'])\n",
    "s2\n",
    "#可以自己设置index"
   ]
  },
  {
   "cell_type": "code",
   "execution_count": 3,
   "metadata": {},
   "outputs": [
    {
     "name": "stdout",
     "output_type": "stream",
     "text": [
      "jack    89\n",
      "rose    95\n",
      "john    76\n",
      "tom     74\n",
      "dtype: int64\n"
     ]
    },
    {
     "data": {
      "text/plain": [
       "rose     95.0\n",
       "john     76.0\n",
       "tracy     NaN\n",
       "jack     89.0\n",
       "dtype: float64"
      ]
     },
     "execution_count": 3,
     "metadata": {},
     "output_type": "execute_result"
    }
   ],
   "source": [
    "scores = {'jack':89,'rose':95,'john':76,'tom':74}\n",
    "names = ['rose','john','tracy','jack']\n",
    "s3 = pd.Series(scores)\n",
    "s4 = pd.Series(scores,index=names)\n",
    "\n",
    "print(s3)\n",
    "s4\n",
    "#字典作为series输入，name可以根据index对字典进行筛选和排序\n",
    "#因为NaN是浮点型，所以s3中数据自动被转换成float，NaN:Not a Number"
   ]
  },
  {
   "cell_type": "code",
   "execution_count": 6,
   "metadata": {},
   "outputs": [
    {
     "name": "stdout",
     "output_type": "stream",
     "text": [
      "89\n",
      "89\n"
     ]
    }
   ],
   "source": [
    "print(s4['jack'])\n",
    "print(s4[0])\n",
    "#就算是更换了索引，自然索引依旧有用"
   ]
  },
  {
   "cell_type": "code",
   "execution_count": 7,
   "metadata": {
    "collapsed": true
   },
   "outputs": [
    {
     "name": "stdout",
     "output_type": "stream",
     "text": [
      "alpha\n"
     ]
    },
    {
     "ename": "KeyError",
     "evalue": "0",
     "output_type": "error",
     "traceback": [
      "\u001b[0;31m---------------------------------------------------------------------------\u001b[0m",
      "\u001b[0;31mKeyError\u001b[0m                                  Traceback (most recent call last)",
      "\u001b[0;32m<ipython-input-7-51acd9d78bd7>\u001b[0m in \u001b[0;36m<module>\u001b[0;34m\u001b[0m\n\u001b[1;32m      2\u001b[0m \u001b[0ms5\u001b[0m\u001b[0;34m.\u001b[0m\u001b[0mindex\u001b[0m \u001b[0;34m=\u001b[0m \u001b[0mrange\u001b[0m\u001b[0;34m(\u001b[0m\u001b[0;36m1\u001b[0m\u001b[0;34m,\u001b[0m\u001b[0;36m5\u001b[0m\u001b[0;34m)\u001b[0m\u001b[0;34m\u001b[0m\u001b[0;34m\u001b[0m\u001b[0m\n\u001b[1;32m      3\u001b[0m \u001b[0mprint\u001b[0m\u001b[0;34m(\u001b[0m\u001b[0ms5\u001b[0m\u001b[0;34m[\u001b[0m\u001b[0;36m1\u001b[0m\u001b[0;34m]\u001b[0m\u001b[0;34m)\u001b[0m \u001b[0;31m#alpha\u001b[0m\u001b[0;34m\u001b[0m\u001b[0;34m\u001b[0m\u001b[0m\n\u001b[0;32m----> 4\u001b[0;31m \u001b[0mprint\u001b[0m\u001b[0;34m(\u001b[0m\u001b[0ms5\u001b[0m\u001b[0;34m[\u001b[0m\u001b[0;36m0\u001b[0m\u001b[0;34m]\u001b[0m\u001b[0;34m)\u001b[0m \u001b[0;31m#index error\u001b[0m\u001b[0;34m\u001b[0m\u001b[0;34m\u001b[0m\u001b[0m\n\u001b[0m\u001b[1;32m      5\u001b[0m \u001b[0;31m#series的索引也可以更改，如果是数字所以，为了防止歧义，自然索引失效\u001b[0m\u001b[0;34m\u001b[0m\u001b[0;34m\u001b[0m\u001b[0;34m\u001b[0m\u001b[0m\n",
      "\u001b[0;32m~/anaconda3/lib/python3.7/site-packages/pandas/core/series.py\u001b[0m in \u001b[0;36m__getitem__\u001b[0;34m(self, key)\u001b[0m\n\u001b[1;32m    765\u001b[0m         \u001b[0mkey\u001b[0m \u001b[0;34m=\u001b[0m \u001b[0mcom\u001b[0m\u001b[0;34m.\u001b[0m\u001b[0m_apply_if_callable\u001b[0m\u001b[0;34m(\u001b[0m\u001b[0mkey\u001b[0m\u001b[0;34m,\u001b[0m \u001b[0mself\u001b[0m\u001b[0;34m)\u001b[0m\u001b[0;34m\u001b[0m\u001b[0;34m\u001b[0m\u001b[0m\n\u001b[1;32m    766\u001b[0m         \u001b[0;32mtry\u001b[0m\u001b[0;34m:\u001b[0m\u001b[0;34m\u001b[0m\u001b[0;34m\u001b[0m\u001b[0m\n\u001b[0;32m--> 767\u001b[0;31m             \u001b[0mresult\u001b[0m \u001b[0;34m=\u001b[0m \u001b[0mself\u001b[0m\u001b[0;34m.\u001b[0m\u001b[0mindex\u001b[0m\u001b[0;34m.\u001b[0m\u001b[0mget_value\u001b[0m\u001b[0;34m(\u001b[0m\u001b[0mself\u001b[0m\u001b[0;34m,\u001b[0m \u001b[0mkey\u001b[0m\u001b[0;34m)\u001b[0m\u001b[0;34m\u001b[0m\u001b[0;34m\u001b[0m\u001b[0m\n\u001b[0m\u001b[1;32m    768\u001b[0m \u001b[0;34m\u001b[0m\u001b[0m\n\u001b[1;32m    769\u001b[0m             \u001b[0;32mif\u001b[0m \u001b[0;32mnot\u001b[0m \u001b[0mis_scalar\u001b[0m\u001b[0;34m(\u001b[0m\u001b[0mresult\u001b[0m\u001b[0;34m)\u001b[0m\u001b[0;34m:\u001b[0m\u001b[0;34m\u001b[0m\u001b[0;34m\u001b[0m\u001b[0m\n",
      "\u001b[0;32m~/anaconda3/lib/python3.7/site-packages/pandas/core/indexes/base.py\u001b[0m in \u001b[0;36mget_value\u001b[0;34m(self, series, key)\u001b[0m\n\u001b[1;32m   3116\u001b[0m         \u001b[0;32mtry\u001b[0m\u001b[0;34m:\u001b[0m\u001b[0;34m\u001b[0m\u001b[0;34m\u001b[0m\u001b[0m\n\u001b[1;32m   3117\u001b[0m             return self._engine.get_value(s, k,\n\u001b[0;32m-> 3118\u001b[0;31m                                           tz=getattr(series.dtype, 'tz', None))\n\u001b[0m\u001b[1;32m   3119\u001b[0m         \u001b[0;32mexcept\u001b[0m \u001b[0mKeyError\u001b[0m \u001b[0;32mas\u001b[0m \u001b[0me1\u001b[0m\u001b[0;34m:\u001b[0m\u001b[0;34m\u001b[0m\u001b[0;34m\u001b[0m\u001b[0m\n\u001b[1;32m   3120\u001b[0m             \u001b[0;32mif\u001b[0m \u001b[0mlen\u001b[0m\u001b[0;34m(\u001b[0m\u001b[0mself\u001b[0m\u001b[0;34m)\u001b[0m \u001b[0;34m>\u001b[0m \u001b[0;36m0\u001b[0m \u001b[0;32mand\u001b[0m \u001b[0mself\u001b[0m\u001b[0;34m.\u001b[0m\u001b[0minferred_type\u001b[0m \u001b[0;32min\u001b[0m \u001b[0;34m[\u001b[0m\u001b[0;34m'integer'\u001b[0m\u001b[0;34m,\u001b[0m \u001b[0;34m'boolean'\u001b[0m\u001b[0;34m]\u001b[0m\u001b[0;34m:\u001b[0m\u001b[0;34m\u001b[0m\u001b[0;34m\u001b[0m\u001b[0m\n",
      "\u001b[0;32mpandas/_libs/index.pyx\u001b[0m in \u001b[0;36mpandas._libs.index.IndexEngine.get_value\u001b[0;34m()\u001b[0m\n",
      "\u001b[0;32mpandas/_libs/index.pyx\u001b[0m in \u001b[0;36mpandas._libs.index.IndexEngine.get_value\u001b[0;34m()\u001b[0m\n",
      "\u001b[0;32mpandas/_libs/index.pyx\u001b[0m in \u001b[0;36mpandas._libs.index.IndexEngine.get_loc\u001b[0;34m()\u001b[0m\n",
      "\u001b[0;32mpandas/_libs/hashtable_class_helper.pxi\u001b[0m in \u001b[0;36mpandas._libs.hashtable.Int64HashTable.get_item\u001b[0;34m()\u001b[0m\n",
      "\u001b[0;32mpandas/_libs/hashtable_class_helper.pxi\u001b[0m in \u001b[0;36mpandas._libs.hashtable.Int64HashTable.get_item\u001b[0;34m()\u001b[0m\n",
      "\u001b[0;31mKeyError\u001b[0m: 0"
     ]
    }
   ],
   "source": [
    "s5 =pd.Series(['alpha','beta','cos','delta'],index=['a','b','c','d'])\n",
    "s5.index = range(1,5)\n",
    "print(s5[1]) #alpha\n",
    "print(s5[0]) #index error\n",
    "#series的索引也可以更改，如果是数字索引，为了防止歧义，自然索引失效"
   ]
  },
  {
   "cell_type": "code",
   "execution_count": 7,
   "metadata": {},
   "outputs": [
    {
     "name": "stdout",
     "output_type": "stream",
     "text": [
      "18    3\n",
      "16    3\n",
      "14    2\n",
      "12    2\n",
      "11    2\n",
      "15    1\n",
      "13    1\n",
      "19    1\n",
      "dtype: int64\n",
      "0    16\n",
      "1    18\n",
      "dtype: int64\n"
     ]
    }
   ],
   "source": [
    "s = pd.Series(np.random.randint(10,20,size = 15))\n",
    "#统计序列中每个元素出现的次数\n",
    "print (s.value_counts())\n",
    "#返回出现次数最多的元素\n",
    "print (s.mode())"
   ]
  },
  {
   "cell_type": "markdown",
   "metadata": {},
   "source": [
    "<font face=\"微软雅黑\" size=5 color=#1E90F > Dataframe"
   ]
  },
  {
   "cell_type": "markdown",
   "metadata": {},
   "source": [
    "<font face=\"微软雅黑\" size=3 color=#1E90F > 生成dataframe"
   ]
  },
  {
   "cell_type": "code",
   "execution_count": 43,
   "metadata": {
    "collapsed": true
   },
   "outputs": [
    {
     "data": {
      "text/html": [
       "<div>\n",
       "<style scoped>\n",
       "    .dataframe tbody tr th:only-of-type {\n",
       "        vertical-align: middle;\n",
       "    }\n",
       "\n",
       "    .dataframe tbody tr th {\n",
       "        vertical-align: top;\n",
       "    }\n",
       "\n",
       "    .dataframe thead th {\n",
       "        text-align: right;\n",
       "    }\n",
       "</style>\n",
       "<table border=\"1\" class=\"dataframe\">\n",
       "  <thead>\n",
       "    <tr style=\"text-align: right;\">\n",
       "      <th></th>\n",
       "      <th>one</th>\n",
       "      <th>two</th>\n",
       "      <th>three</th>\n",
       "      <th>four</th>\n",
       "    </tr>\n",
       "  </thead>\n",
       "  <tbody>\n",
       "    <tr>\n",
       "      <th>a</th>\n",
       "      <td>0</td>\n",
       "      <td>1</td>\n",
       "      <td>2</td>\n",
       "      <td>3</td>\n",
       "    </tr>\n",
       "    <tr>\n",
       "      <th>b</th>\n",
       "      <td>4</td>\n",
       "      <td>5</td>\n",
       "      <td>6</td>\n",
       "      <td>7</td>\n",
       "    </tr>\n",
       "    <tr>\n",
       "      <th>c</th>\n",
       "      <td>8</td>\n",
       "      <td>9</td>\n",
       "      <td>10</td>\n",
       "      <td>11</td>\n",
       "    </tr>\n",
       "    <tr>\n",
       "      <th>d</th>\n",
       "      <td>12</td>\n",
       "      <td>13</td>\n",
       "      <td>14</td>\n",
       "      <td>15</td>\n",
       "    </tr>\n",
       "  </tbody>\n",
       "</table>\n",
       "</div>"
      ],
      "text/plain": [
       "   one  two  three  four\n",
       "a    0    1      2     3\n",
       "b    4    5      6     7\n",
       "c    8    9     10    11\n",
       "d   12   13     14    15"
      ]
     },
     "execution_count": 43,
     "metadata": {},
     "output_type": "execute_result"
    }
   ],
   "source": [
    "import pandas as pd \n",
    "import numpy as np\n",
    "#标准创建\n",
    "df1=pd.DataFrame(data=np.arange(16).reshape((4,4)),index=['a','b','c','d'],columns=['one','two','three','four'])\n",
    "df1"
   ]
  },
  {
   "cell_type": "code",
   "execution_count": 48,
   "metadata": {
    "collapsed": true
   },
   "outputs": [
    {
     "name": "stdout",
     "output_type": "stream",
     "text": [
      "   A          B  C  D\n",
      "0  1 2017-02-20  0  0\n",
      "1  1 2017-02-20  1  1\n",
      "2  1 2017-02-20  2  2\n",
      "3  1 2017-02-20  3  3\n"
     ]
    },
    {
     "data": {
      "text/html": [
       "<div>\n",
       "<style scoped>\n",
       "    .dataframe tbody tr th:only-of-type {\n",
       "        vertical-align: middle;\n",
       "    }\n",
       "\n",
       "    .dataframe tbody tr th {\n",
       "        vertical-align: top;\n",
       "    }\n",
       "\n",
       "    .dataframe thead th {\n",
       "        text-align: right;\n",
       "    }\n",
       "</style>\n",
       "<table border=\"1\" class=\"dataframe\">\n",
       "  <thead>\n",
       "    <tr style=\"text-align: right;\">\n",
       "      <th></th>\n",
       "      <th>C</th>\n",
       "      <th>A</th>\n",
       "    </tr>\n",
       "  </thead>\n",
       "  <tbody>\n",
       "    <tr>\n",
       "      <th>0</th>\n",
       "      <td>0</td>\n",
       "      <td>1</td>\n",
       "    </tr>\n",
       "    <tr>\n",
       "      <th>1</th>\n",
       "      <td>1</td>\n",
       "      <td>1</td>\n",
       "    </tr>\n",
       "    <tr>\n",
       "      <th>2</th>\n",
       "      <td>2</td>\n",
       "      <td>1</td>\n",
       "    </tr>\n",
       "    <tr>\n",
       "      <th>3</th>\n",
       "      <td>3</td>\n",
       "      <td>1</td>\n",
       "    </tr>\n",
       "  </tbody>\n",
       "</table>\n",
       "</div>"
      ],
      "text/plain": [
       "   C  A\n",
       "0  0  1\n",
       "1  1  1\n",
       "2  2  1\n",
       "3  3  1"
      ]
     },
     "execution_count": 48,
     "metadata": {},
     "output_type": "execute_result"
    }
   ],
   "source": [
    "#使用等长字典创建\n",
    "d_data = {'A':1,'B':pd.Timestamp('20170220'),'C':range(4),'D':np.arange(4)}\n",
    "df2 = pd.DataFrame(d_data)\n",
    "print (df2)\n",
    "#给定column则筛选对应column\n",
    "df3=pd.DataFrame(d_data,columns=['C','A'])\n",
    "df3"
   ]
  },
  {
   "cell_type": "code",
   "execution_count": 50,
   "metadata": {},
   "outputs": [
    {
     "data": {
      "text/html": [
       "<div>\n",
       "<style scoped>\n",
       "    .dataframe tbody tr th:only-of-type {\n",
       "        vertical-align: middle;\n",
       "    }\n",
       "\n",
       "    .dataframe tbody tr th {\n",
       "        vertical-align: top;\n",
       "    }\n",
       "\n",
       "    .dataframe thead th {\n",
       "        text-align: right;\n",
       "    }\n",
       "</style>\n",
       "<table border=\"1\" class=\"dataframe\">\n",
       "  <thead>\n",
       "    <tr style=\"text-align: right;\">\n",
       "      <th></th>\n",
       "      <th>shanghai</th>\n",
       "      <th>beijing</th>\n",
       "    </tr>\n",
       "  </thead>\n",
       "  <tbody>\n",
       "    <tr>\n",
       "      <th>2015</th>\n",
       "      <td>100</td>\n",
       "      <td>102</td>\n",
       "    </tr>\n",
       "    <tr>\n",
       "      <th>2016</th>\n",
       "      <td>101</td>\n",
       "      <td>103</td>\n",
       "    </tr>\n",
       "  </tbody>\n",
       "</table>\n",
       "</div>"
      ],
      "text/plain": [
       "      shanghai  beijing\n",
       "2015       100      102\n",
       "2016       101      103"
      ]
     },
     "execution_count": 50,
     "metadata": {},
     "output_type": "execute_result"
    }
   ],
   "source": [
    "#使用嵌套字典创建,外层key是列名，内层key是行名\n",
    "nest_dict={'shanghai':{2015:100,2016:101},'beijing':{2015:102,2016:103}}\n",
    "df4=pd.DataFrame(data=nest_dict)\n",
    "df4"
   ]
  },
  {
   "cell_type": "markdown",
   "metadata": {},
   "source": [
    "<font face=\"微软雅黑\" size=3 color=#1E90F >dataframe增删改查"
   ]
  },
  {
   "cell_type": "code",
   "execution_count": 52,
   "metadata": {},
   "outputs": [
    {
     "data": {
      "text/html": [
       "<div>\n",
       "<style scoped>\n",
       "    .dataframe tbody tr th:only-of-type {\n",
       "        vertical-align: middle;\n",
       "    }\n",
       "\n",
       "    .dataframe tbody tr th {\n",
       "        vertical-align: top;\n",
       "    }\n",
       "\n",
       "    .dataframe thead th {\n",
       "        text-align: right;\n",
       "    }\n",
       "</style>\n",
       "<table border=\"1\" class=\"dataframe\">\n",
       "  <thead>\n",
       "    <tr style=\"text-align: right;\">\n",
       "      <th></th>\n",
       "      <th>A</th>\n",
       "      <th>B</th>\n",
       "      <th>C</th>\n",
       "      <th>D</th>\n",
       "    </tr>\n",
       "  </thead>\n",
       "  <tbody>\n",
       "    <tr>\n",
       "      <th>2017-02-20</th>\n",
       "      <td>0.257139</td>\n",
       "      <td>-0.635803</td>\n",
       "      <td>0.358046</td>\n",
       "      <td>1.568129</td>\n",
       "    </tr>\n",
       "    <tr>\n",
       "      <th>2017-02-21</th>\n",
       "      <td>-0.142045</td>\n",
       "      <td>0.609448</td>\n",
       "      <td>0.380365</td>\n",
       "      <td>0.791333</td>\n",
       "    </tr>\n",
       "    <tr>\n",
       "      <th>2017-02-22</th>\n",
       "      <td>-0.673952</td>\n",
       "      <td>2.484526</td>\n",
       "      <td>-0.016400</td>\n",
       "      <td>-0.404624</td>\n",
       "    </tr>\n",
       "    <tr>\n",
       "      <th>2017-02-23</th>\n",
       "      <td>0.190677</td>\n",
       "      <td>-0.315845</td>\n",
       "      <td>-0.584805</td>\n",
       "      <td>0.427505</td>\n",
       "    </tr>\n",
       "    <tr>\n",
       "      <th>2017-02-24</th>\n",
       "      <td>-0.625976</td>\n",
       "      <td>-2.483761</td>\n",
       "      <td>1.719780</td>\n",
       "      <td>-1.076210</td>\n",
       "    </tr>\n",
       "    <tr>\n",
       "      <th>2017-02-25</th>\n",
       "      <td>-0.940539</td>\n",
       "      <td>1.507590</td>\n",
       "      <td>-0.168271</td>\n",
       "      <td>1.230356</td>\n",
       "    </tr>\n",
       "  </tbody>\n",
       "</table>\n",
       "</div>"
      ],
      "text/plain": [
       "                   A         B         C         D\n",
       "2017-02-20  0.257139 -0.635803  0.358046  1.568129\n",
       "2017-02-21 -0.142045  0.609448  0.380365  0.791333\n",
       "2017-02-22 -0.673952  2.484526 -0.016400 -0.404624\n",
       "2017-02-23  0.190677 -0.315845 -0.584805  0.427505\n",
       "2017-02-24 -0.625976 -2.483761  1.719780 -1.076210\n",
       "2017-02-25 -0.940539  1.507590 -0.168271  1.230356"
      ]
     },
     "execution_count": 52,
     "metadata": {},
     "output_type": "execute_result"
    }
   ],
   "source": [
    "#生成一个dataframe并设置index和columns\n",
    "dates = pd.date_range('20170220',periods=6)\n",
    "df5 = pd.DataFrame(np.random.randn(6,4),index=dates,columns=['A','B','C','D'])\n",
    "df5"
   ]
  },
  {
   "cell_type": "code",
   "execution_count": 70,
   "metadata": {},
   "outputs": [
    {
     "data": {
      "text/html": [
       "<div>\n",
       "<style scoped>\n",
       "    .dataframe tbody tr th:only-of-type {\n",
       "        vertical-align: middle;\n",
       "    }\n",
       "\n",
       "    .dataframe tbody tr th {\n",
       "        vertical-align: top;\n",
       "    }\n",
       "\n",
       "    .dataframe thead th {\n",
       "        text-align: right;\n",
       "    }\n",
       "</style>\n",
       "<table border=\"1\" class=\"dataframe\">\n",
       "  <thead>\n",
       "    <tr style=\"text-align: right;\">\n",
       "      <th></th>\n",
       "      <th>A</th>\n",
       "      <th>B</th>\n",
       "      <th>C</th>\n",
       "      <th>D</th>\n",
       "      <th>E</th>\n",
       "      <th>f</th>\n",
       "    </tr>\n",
       "  </thead>\n",
       "  <tbody>\n",
       "    <tr>\n",
       "      <th>2017-02-20</th>\n",
       "      <td>0.257139</td>\n",
       "      <td>-0.635803</td>\n",
       "      <td>0.358046</td>\n",
       "      <td>1.568129</td>\n",
       "      <td>1</td>\n",
       "      <td>a</td>\n",
       "    </tr>\n",
       "    <tr>\n",
       "      <th>2017-02-21</th>\n",
       "      <td>-0.142045</td>\n",
       "      <td>0.609448</td>\n",
       "      <td>0.380365</td>\n",
       "      <td>0.791333</td>\n",
       "      <td>2</td>\n",
       "      <td>a</td>\n",
       "    </tr>\n",
       "    <tr>\n",
       "      <th>2017-02-22</th>\n",
       "      <td>-0.673952</td>\n",
       "      <td>2.484526</td>\n",
       "      <td>-0.016400</td>\n",
       "      <td>-0.404624</td>\n",
       "      <td>3</td>\n",
       "      <td>a</td>\n",
       "    </tr>\n",
       "    <tr>\n",
       "      <th>2017-02-23</th>\n",
       "      <td>0.190677</td>\n",
       "      <td>-0.315845</td>\n",
       "      <td>-0.584805</td>\n",
       "      <td>0.427505</td>\n",
       "      <td>4</td>\n",
       "      <td>a</td>\n",
       "    </tr>\n",
       "    <tr>\n",
       "      <th>2017-02-24</th>\n",
       "      <td>-0.625976</td>\n",
       "      <td>-2.483761</td>\n",
       "      <td>1.719780</td>\n",
       "      <td>-1.076210</td>\n",
       "      <td>5</td>\n",
       "      <td>a</td>\n",
       "    </tr>\n",
       "    <tr>\n",
       "      <th>2017-02-25</th>\n",
       "      <td>-0.940539</td>\n",
       "      <td>1.507590</td>\n",
       "      <td>-0.168271</td>\n",
       "      <td>1.230356</td>\n",
       "      <td>6</td>\n",
       "      <td>a</td>\n",
       "    </tr>\n",
       "  </tbody>\n",
       "</table>\n",
       "</div>"
      ],
      "text/plain": [
       "                   A         B         C         D  E  f\n",
       "2017-02-20  0.257139 -0.635803  0.358046  1.568129  1  a\n",
       "2017-02-21 -0.142045  0.609448  0.380365  0.791333  2  a\n",
       "2017-02-22 -0.673952  2.484526 -0.016400 -0.404624  3  a\n",
       "2017-02-23  0.190677 -0.315845 -0.584805  0.427505  4  a\n",
       "2017-02-24 -0.625976 -2.483761  1.719780 -1.076210  5  a\n",
       "2017-02-25 -0.940539  1.507590 -0.168271  1.230356  6  a"
      ]
     },
     "execution_count": 70,
     "metadata": {},
     "output_type": "execute_result"
    }
   ],
   "source": [
    "#增：为不存在的列赋值即为增\n",
    "df5['E']=[1,2,3,4,5,6]\n",
    "df5['f']='a'\n",
    "df5"
   ]
  },
  {
   "cell_type": "code",
   "execution_count": 72,
   "metadata": {},
   "outputs": [
    {
     "data": {
      "text/html": [
       "<div>\n",
       "<style scoped>\n",
       "    .dataframe tbody tr th:only-of-type {\n",
       "        vertical-align: middle;\n",
       "    }\n",
       "\n",
       "    .dataframe tbody tr th {\n",
       "        vertical-align: top;\n",
       "    }\n",
       "\n",
       "    .dataframe thead th {\n",
       "        text-align: right;\n",
       "    }\n",
       "</style>\n",
       "<table border=\"1\" class=\"dataframe\">\n",
       "  <thead>\n",
       "    <tr style=\"text-align: right;\">\n",
       "      <th></th>\n",
       "      <th>A</th>\n",
       "      <th>B</th>\n",
       "      <th>C</th>\n",
       "      <th>D</th>\n",
       "      <th>E</th>\n",
       "    </tr>\n",
       "  </thead>\n",
       "  <tbody>\n",
       "    <tr>\n",
       "      <th>2017-02-20</th>\n",
       "      <td>0.257139</td>\n",
       "      <td>-0.635803</td>\n",
       "      <td>0.358046</td>\n",
       "      <td>1.568129</td>\n",
       "      <td>1</td>\n",
       "    </tr>\n",
       "    <tr>\n",
       "      <th>2017-02-21</th>\n",
       "      <td>-0.142045</td>\n",
       "      <td>0.609448</td>\n",
       "      <td>0.380365</td>\n",
       "      <td>0.791333</td>\n",
       "      <td>2</td>\n",
       "    </tr>\n",
       "    <tr>\n",
       "      <th>2017-02-22</th>\n",
       "      <td>-0.673952</td>\n",
       "      <td>2.484526</td>\n",
       "      <td>-0.016400</td>\n",
       "      <td>-0.404624</td>\n",
       "      <td>3</td>\n",
       "    </tr>\n",
       "    <tr>\n",
       "      <th>2017-02-23</th>\n",
       "      <td>0.190677</td>\n",
       "      <td>-0.315845</td>\n",
       "      <td>-0.584805</td>\n",
       "      <td>0.427505</td>\n",
       "      <td>4</td>\n",
       "    </tr>\n",
       "    <tr>\n",
       "      <th>2017-02-24</th>\n",
       "      <td>-0.625976</td>\n",
       "      <td>-2.483761</td>\n",
       "      <td>1.719780</td>\n",
       "      <td>-1.076210</td>\n",
       "      <td>5</td>\n",
       "    </tr>\n",
       "    <tr>\n",
       "      <th>2017-02-25</th>\n",
       "      <td>-0.940539</td>\n",
       "      <td>1.507590</td>\n",
       "      <td>-0.168271</td>\n",
       "      <td>1.230356</td>\n",
       "      <td>6</td>\n",
       "    </tr>\n",
       "  </tbody>\n",
       "</table>\n",
       "</div>"
      ],
      "text/plain": [
       "                   A         B         C         D  E\n",
       "2017-02-20  0.257139 -0.635803  0.358046  1.568129  1\n",
       "2017-02-21 -0.142045  0.609448  0.380365  0.791333  2\n",
       "2017-02-22 -0.673952  2.484526 -0.016400 -0.404624  3\n",
       "2017-02-23  0.190677 -0.315845 -0.584805  0.427505  4\n",
       "2017-02-24 -0.625976 -2.483761  1.719780 -1.076210  5\n",
       "2017-02-25 -0.940539  1.507590 -0.168271  1.230356  6"
      ]
     },
     "execution_count": 72,
     "metadata": {},
     "output_type": "execute_result"
    }
   ],
   "source": [
    "#删 del是直接删除\n",
    "del df5['f']\n",
    "df5"
   ]
  },
  {
   "cell_type": "code",
   "execution_count": 69,
   "metadata": {
    "collapsed": true
   },
   "outputs": [
    {
     "name": "stdout",
     "output_type": "stream",
     "text": [
      "          b         c         0\n",
      "0  0.703050 -0.029146 -0.348726\n",
      "1 -0.329265 -0.243962  0.456098\n",
      "2  0.936948 -2.206578  1.269321\n",
      "3 -0.669552 -0.339220 -0.222534\n",
      "          a         b         c         0\n",
      "0  0.066182  0.703050 -0.029146 -0.348726\n",
      "1 -0.317921 -0.329265 -0.243962  0.456098\n",
      "2  1.051305  0.936948 -2.206578  1.269321\n",
      "3 -1.062821 -0.669552 -0.339220 -0.222534\n",
      "          b         c         0\n",
      "0  0.703050 -0.029146 -0.348726\n",
      "1 -0.329265 -0.243962  0.456098\n",
      "2  0.936948 -2.206578  1.269321\n",
      "3 -0.669552 -0.339220 -0.222534\n",
      "          b         c         0\n",
      "2  0.936948 -2.206578  1.269321\n",
      "3 -0.669552 -0.339220 -0.222534\n"
     ]
    }
   ],
   "source": [
    "#删 drop 删除的是视图,axis确定行列\n",
    "df = pd.DataFrame(data=np.random.randn(4,4),index=[0,1,2,3],columns=['a','b','c',0])\n",
    "print(df.drop('a',axis=1))\n",
    "print(df)\n",
    "df=df.drop('a',axis=1)\n",
    "print(df)\n",
    "df=df.drop([0,1],axis=0)\n",
    "print(df)"
   ]
  },
  {
   "cell_type": "code",
   "execution_count": 83,
   "metadata": {},
   "outputs": [
    {
     "name": "stdout",
     "output_type": "stream",
     "text": [
      "          a         b    c\n",
      "0   1.44264  0.709381  1.0\n",
      "1       abc -0.276728  2.0\n",
      "2         6  6.000000  6.0\n",
      "3  0.969246 -0.364260  NaN\n"
     ]
    }
   ],
   "source": [
    "#改\n",
    "df = pd.DataFrame(data=np.random.randn(4,3),index=[0,1,2,3],columns=['a','b','c'])\n",
    "#具体某个值\n",
    "df['a'][1]='abc'\n",
    "#修改列,传入Series长度不够，用NaN填充，长度超过则截断\n",
    "df['c']=pd.Series([1,2,3]) \n",
    "#修改行\n",
    "df[2:3]=6\n",
    "print(df)"
   ]
  },
  {
   "cell_type": "code",
   "execution_count": 84,
   "metadata": {},
   "outputs": [
    {
     "name": "stdout",
     "output_type": "stream",
     "text": [
      "                   A         B         C         D\n",
      "2017-02-20 -0.572113 -1.298063  0.833564  0.165773\n",
      "2017-02-21  0.018248  1.001268 -1.507817 -0.231445\n",
      "2017-02-22  1.217523 -0.936620 -0.307522 -0.344548\n",
      "2017-02-23  0.220527 -0.384416 -0.478596 -0.093554\n",
      "2017-02-24 -0.506479  0.846392 -0.143628 -1.048839\n",
      "2017-02-25 -2.298962  0.210108 -1.779113 -1.264240\n"
     ]
    }
   ],
   "source": [
    "#查\n",
    "#选取数据 是DataFrame的重点，常用的有 位置切片 和 标签切片，位置切片遵循Python的切片规则，包括起始位置，但不包括结束位置；\n",
    "#但标签切片则同时包括起始标签和结束标签。之所以如此设计是因为在使用标签切片时，通常我们不知道标签的顺序，\n",
    "#如果不包含结束标签，很难确定结束标签的前一个标签是什么\n",
    "#生成一个dataframe并设置index和columns\n",
    "dates = pd.date_range('20170220',periods=6)\n",
    "data = pd.DataFrame(np.random.randn(6,4),index=dates,columns=['A','B','C','D'])\n",
    "print(data)"
   ]
  },
  {
   "cell_type": "code",
   "execution_count": 85,
   "metadata": {
    "collapsed": true
   },
   "outputs": [
    {
     "name": "stdout",
     "output_type": "stream",
     "text": [
      "2017-02-20   -0.572113\n",
      "2017-02-21    0.018248\n",
      "2017-02-22    1.217523\n",
      "2017-02-23    0.220527\n",
      "2017-02-24   -0.506479\n",
      "2017-02-25   -2.298962\n",
      "Freq: D, Name: A, dtype: float64\n",
      "2017-02-20   -0.572113\n",
      "2017-02-21    0.018248\n",
      "2017-02-22    1.217523\n",
      "2017-02-23    0.220527\n",
      "2017-02-24   -0.506479\n",
      "2017-02-25   -2.298962\n",
      "Freq: D, Name: A, dtype: float64\n",
      "                   A         C\n",
      "2017-02-20 -0.572113  0.833564\n",
      "2017-02-21  0.018248 -1.507817\n",
      "2017-02-22  1.217523 -0.307522\n",
      "2017-02-23  0.220527 -0.478596\n",
      "2017-02-24 -0.506479 -0.143628\n",
      "2017-02-25 -2.298962 -1.779113\n"
     ]
    }
   ],
   "source": [
    "#输出A列\n",
    "print(data.A)\n",
    "#输出A列\n",
    "print(data['A'])\n",
    "#输出A,C两列，注意，两个[]，因为传入的是数组\n",
    "print(data[['A','C']])"
   ]
  },
  {
   "cell_type": "code",
   "execution_count": 87,
   "metadata": {
    "collapsed": true
   },
   "outputs": [
    {
     "name": "stdout",
     "output_type": "stream",
     "text": [
      "                   A         B         C         D\n",
      "2017-02-22  1.217523 -0.936620 -0.307522 -0.344548\n",
      "2017-02-23  0.220527 -0.384416 -0.478596 -0.093554\n",
      "                   A         B         C         D\n",
      "2017-02-22  1.217523 -0.936620 -0.307522 -0.344548\n",
      "2017-02-23  0.220527 -0.384416 -0.478596 -0.093554\n",
      "                   B         C         D\n",
      "2017-02-22 -0.936620 -0.307522 -0.344548\n",
      "2017-02-23 -0.384416 -0.478596 -0.093554\n",
      "                   A         B\n",
      "2017-02-20 -0.572113 -1.298063\n",
      "2017-02-21  0.018248  1.001268\n"
     ]
    }
   ],
   "source": [
    "#loc选取\n",
    "#输出3,4行，使用行索引取行\n",
    "print (data.loc['20170222':'20170223'])\n",
    "#输出3,4行,用的是行号，类似于range(1,5)是1~4，iloc[2:4]是行号2~3，其实是3-4行\n",
    "print (data.iloc[2:4])\n",
    "#选择相应的行和列,ix已经弃用\n",
    "print(data.loc['20170222':'20170223','B':'D'])\n",
    "print(data.iloc[0:2,0:2])\n"
   ]
  },
  {
   "cell_type": "code",
   "execution_count": 89,
   "metadata": {},
   "outputs": [
    {
     "name": "stdout",
     "output_type": "stream",
     "text": [
      "-0.3445477086772086\n",
      "-0.3445477086772086\n",
      "-0.3445477086772086\n"
     ]
    }
   ],
   "source": [
    "print(data.iloc[2,3])\n",
    "print(data.iat[2,3])\n",
    "print(data.loc['2017-02-22','D'])\n",
    "#print(data.at['2017-02-22','D'])\n"
   ]
  },
  {
   "cell_type": "markdown",
   "metadata": {},
   "source": [
    "后面跟多个空格代表换行   \n",
    "取dataframe中相应的值总结：     \n",
    "一般使用.loc和.iloc即可     \n",
    ".loc,.at，选列是只能是列名，不能是position     \n",
    ".iloc,.iat，选列是只能是position，不能是列名   "
   ]
  },
  {
   "cell_type": "markdown",
   "metadata": {},
   "source": [
    "<font face=\"微软雅黑\" size=3 color=#1E90F >dataframe更改数据类型"
   ]
  },
  {
   "cell_type": "code",
   "execution_count": 2,
   "metadata": {
    "collapsed": true
   },
   "outputs": [
    {
     "ename": "NameError",
     "evalue": "name 'a' is not defined",
     "output_type": "error",
     "traceback": [
      "\u001b[0;31m---------------------------------------------------------------------------\u001b[0m",
      "\u001b[0;31mNameError\u001b[0m                                 Traceback (most recent call last)",
      "\u001b[0;32m<ipython-input-2-58a527286559>\u001b[0m in \u001b[0;36m<module>\u001b[0;34m\u001b[0m\n\u001b[1;32m      1\u001b[0m \u001b[0;32mimport\u001b[0m \u001b[0mpandas\u001b[0m \u001b[0;32mas\u001b[0m \u001b[0mpd\u001b[0m\u001b[0;34m\u001b[0m\u001b[0;34m\u001b[0m\u001b[0m\n\u001b[1;32m      2\u001b[0m \u001b[0;31m#创建df时候限定数据类型\u001b[0m\u001b[0;34m\u001b[0m\u001b[0;34m\u001b[0m\u001b[0;34m\u001b[0m\u001b[0m\n\u001b[0;32m----> 3\u001b[0;31m \u001b[0mdf\u001b[0m \u001b[0;34m=\u001b[0m \u001b[0mpd\u001b[0m\u001b[0;34m.\u001b[0m\u001b[0mDataFrame\u001b[0m\u001b[0;34m(\u001b[0m\u001b[0ma\u001b[0m\u001b[0;34m,\u001b[0m \u001b[0mdtype\u001b[0m\u001b[0;34m=\u001b[0m\u001b[0;34m'float'\u001b[0m\u001b[0;34m)\u001b[0m  \u001b[0;31m#示例1\u001b[0m\u001b[0;34m\u001b[0m\u001b[0;34m\u001b[0m\u001b[0m\n\u001b[0m\u001b[1;32m      4\u001b[0m \u001b[0mdf\u001b[0m \u001b[0;34m=\u001b[0m \u001b[0mpd\u001b[0m\u001b[0;34m.\u001b[0m\u001b[0mDataFrame\u001b[0m\u001b[0;34m(\u001b[0m\u001b[0mdata\u001b[0m\u001b[0;34m=\u001b[0m\u001b[0md\u001b[0m\u001b[0;34m,\u001b[0m \u001b[0mdtype\u001b[0m\u001b[0;34m=\u001b[0m\u001b[0mnp\u001b[0m\u001b[0;34m.\u001b[0m\u001b[0mint8\u001b[0m\u001b[0;34m)\u001b[0m \u001b[0;31m#示例2\u001b[0m\u001b[0;34m\u001b[0m\u001b[0;34m\u001b[0m\u001b[0m\n\u001b[1;32m      5\u001b[0m \u001b[0mdf\u001b[0m \u001b[0;34m=\u001b[0m \u001b[0mpd\u001b[0m\u001b[0;34m.\u001b[0m\u001b[0mread_csv\u001b[0m\u001b[0;34m(\u001b[0m\u001b[0;34m\"somefile.csv\"\u001b[0m\u001b[0;34m,\u001b[0m \u001b[0mdtype\u001b[0m \u001b[0;34m=\u001b[0m \u001b[0;34m{\u001b[0m\u001b[0;34m'column_name'\u001b[0m \u001b[0;34m:\u001b[0m \u001b[0mstr\u001b[0m\u001b[0;34m}\u001b[0m\u001b[0;34m)\u001b[0m\u001b[0;34m\u001b[0m\u001b[0;34m\u001b[0m\u001b[0m\n",
      "\u001b[0;31mNameError\u001b[0m: name 'a' is not defined"
     ]
    }
   ],
   "source": [
    "import pandas as pd\n",
    "#创建df时候限定数据类型\n",
    "df = pd.DataFrame(a, dtype='float')  #示例1\n",
    "df = pd.DataFrame(data=d, dtype=np.int8) #示例2\n",
    "df = pd.read_csv(\"somefile.csv\", dtype = {'column_name' : str})"
   ]
  },
  {
   "cell_type": "code",
   "execution_count": 10,
   "metadata": {},
   "outputs": [
    {
     "name": "stdout",
     "output_type": "stream",
     "text": [
      "0     1.0\n",
      "1     2.0\n",
      "2     4.7\n",
      "3     NaN\n",
      "4    10.0\n",
      "dtype: float64\n",
      "0         1\n",
      "1         2\n",
      "2       4.7\n",
      "3    pandas\n",
      "4        10\n",
      "dtype: object\n"
     ]
    }
   ],
   "source": [
    "#对于单列或者Series\n",
    "s = pd.Series(['1', '2', '4.7', 'pandas', '10'])\n",
    "#pd.to_numeric(s) # or pd.to_numeric(s, errors='raise')\n",
    "s = pd.to_numeric(s, errors='coerce')#遇到不是数的，强制转换为NaN\n",
    "s = pd.to_numeric(s, errors='ignore')#遇到不是数的，忽略此次操作\n",
    "#pd.to_datetime和pd.to_timedelta可将数据转换为日期和时间戳"
   ]
  },
  {
   "cell_type": "code",
   "execution_count": 20,
   "metadata": {},
   "outputs": [
    {
     "name": "stdout",
     "output_type": "stream",
     "text": [
      "col1    object\n",
      "col2    object\n",
      "col3    object\n",
      "dtype: object\n",
      "col1     object\n",
      "col2    float64\n",
      "col3    float64\n",
      "dtype: object\n"
     ]
    }
   ],
   "source": [
    "#多列问题\n",
    "a = [['a', '1.2', '4.2'], ['b', '70', '0.03'], ['x', '5', '0']]\n",
    "df = pd.DataFrame(a, columns=['col1','col2','col3'])\n",
    "print(df.dtypes)\n",
    "df[['col2','col3']] = df[['col2','col3']].apply(pd.to_numeric)#注意：两个 [[]]\n",
    "print(df.dtypes)"
   ]
  },
  {
   "cell_type": "code",
   "execution_count": 26,
   "metadata": {},
   "outputs": [
    {
     "data": {
      "text/plain": [
       "a     int64\n",
       "b    object\n",
       "dtype: object"
      ]
     },
     "execution_count": 26,
     "metadata": {},
     "output_type": "execute_result"
    }
   ],
   "source": [
    "#软转换——类型自动推断\n",
    "df = pd.DataFrame({'a': [7, 1, 5], 'b': ['3','2','1']}, dtype='object')\n",
    "df = df.infer_objects()\n",
    "df.dtypes"
   ]
  },
  {
   "cell_type": "code",
   "execution_count": 40,
   "metadata": {},
   "outputs": [
    {
     "data": {
      "text/plain": [
       "one       object\n",
       "two      float64\n",
       "three    float64\n",
       "dtype: object"
      ]
     },
     "execution_count": 40,
     "metadata": {},
     "output_type": "execute_result"
    }
   ],
   "source": [
    "#astype强制转换,不要使用loc\n",
    "a = [['a', '1.2', '4.2'], ['b', '70', '0.03'], ['x', '5', '0']]\n",
    "df = pd.DataFrame(a, columns=['one', 'two', 'three'])\n",
    "df[['two','three']] = df[['two','three']] .astype(float)\n",
    "df.dtypes"
   ]
  },
  {
   "cell_type": "markdown",
   "metadata": {},
   "source": [
    "<font face=\"微软雅黑\" size=3 color=#1E90F >dataframe表格属性"
   ]
  },
  {
   "cell_type": "code",
   "execution_count": 49,
   "metadata": {
    "scrolled": true
   },
   "outputs": [
    {
     "name": "stdout",
     "output_type": "stream",
     "text": [
      "                   A         B         C         D\n",
      "2017-02-20  0.000622 -1.017392 -0.495367 -1.575044\n",
      "2017-02-21 -0.533588 -0.605720  1.622157  0.146490\n",
      "2017-02-22  1.101208 -0.671797 -0.283711  0.262485\n",
      "2017-02-23 -0.382460  1.253921 -0.918284 -1.180554\n",
      "2017-02-24  0.444353 -1.313709  0.706680  0.269977\n",
      "2017-02-25 -0.912442 -0.150891  1.284399 -0.391768\n",
      "2017-02-26  0.145506  0.868593 -0.349445 -0.791134\n",
      "2017-02-27 -0.167558 -2.027558 -0.637197  0.559442\n",
      "2017-02-28 -0.126950  0.268700 -0.775835  1.516664\n",
      "2017-03-01  0.858988 -0.150576  1.395835 -0.059848\n",
      "2017-03-02  1.163247  0.657537  0.169030 -2.043521\n",
      "2017-03-03 -0.282192 -0.073466 -1.124967 -0.558543\n",
      "2017-03-04  1.091213 -0.541976  1.001467  0.908610\n",
      "2017-03-05 -2.684644  0.704315 -1.088316  2.032326\n",
      "2017-03-06  2.017271 -0.770800 -0.207015 -0.945016\n",
      "2017-03-07  0.190567 -0.627386 -1.471530 -1.173637\n",
      "2017-03-08 -0.771425  0.196048 -0.398554 -0.948141\n",
      "2017-03-09 -1.116154  0.263486  0.313040 -0.952846\n",
      "2017-03-10 -0.171987  0.903523  0.090660 -0.027130\n",
      "2017-03-11 -0.290768 -0.606710 -1.009129 -1.702666\n",
      "2017-03-12  0.598041  1.629070 -0.343575  0.068781\n",
      "2017-03-13  0.466652  0.622811  1.167866 -0.416036\n",
      "2017-03-14 -0.250112  0.262288 -1.532610 -0.122725\n",
      "2017-03-15 -1.723635  1.026501 -0.831732 -2.193274\n",
      "2017-03-16 -0.427847  0.358668 -0.657212 -2.111711\n",
      "2017-03-17 -1.650295 -0.916182 -1.379282 -1.210376\n",
      "2017-03-18 -0.509489  0.424095 -2.187090  0.120888\n",
      "2017-03-19  0.463741 -1.212351  0.417830 -0.378053\n",
      "2017-03-20 -0.906536 -1.628755  1.303998 -0.148500\n",
      "2017-03-21 -0.630582 -0.236573 -1.624390  0.658161\n",
      "2017-03-22  0.016860 -0.198425  2.306295 -0.490225\n",
      "2017-03-23 -0.409368  1.568572 -1.588923 -0.722561\n",
      "2017-03-24  0.724335 -0.416575  0.019788  1.727854\n",
      "2017-03-25 -0.869307  1.340420  2.011309 -0.026663\n",
      "2017-03-26  0.301770 -0.551458  0.999074  0.249806\n",
      "2017-03-27  0.665261  0.149963 -0.080495 -0.976212\n",
      "2017-03-28 -1.253470 -1.291247  0.944885  1.556148\n",
      "2017-03-29  0.132739  1.842891 -1.432991  0.542083\n",
      "2017-03-30 -0.585249  1.244492  0.157532 -0.650254\n",
      "2017-03-31  0.449606 -0.269607 -0.134766 -1.273483\n",
      "2017-04-01 -0.191026  0.780593 -1.414966 -1.032085\n",
      "2017-04-02  1.413764  0.070336  2.918147  0.475983\n",
      "2017-04-03  1.118147 -1.113990  0.156362 -0.009850\n",
      "2017-04-04  0.270347  0.389864 -0.217024 -0.016601\n",
      "2017-04-05 -0.396576  0.474944 -1.182577  0.035974\n",
      "2017-04-06  0.252115 -0.095299  0.032522  1.430457\n",
      "2017-04-07 -0.680009 -0.001084 -0.691003 -1.216347\n",
      "2017-04-08 -1.205117  0.015358  0.160535 -0.333553\n",
      "2017-04-09 -1.441869  0.186152  1.168541 -0.035173\n",
      "2017-04-10 -0.298644  0.141123  1.349525 -1.149646\n",
      "2017-04-11 -1.116938  0.043614 -0.611389 -2.249499\n",
      "2017-04-12 -0.923478  0.152199 -1.715414  0.438363\n",
      "2017-04-13  0.073219  0.244893  0.179268 -1.026654\n",
      "2017-04-14  0.366204  0.074154  0.713675 -1.336210\n",
      "2017-04-15  0.997983  0.276463 -0.445846  0.021618\n",
      "2017-04-16  0.156986 -0.146683  0.402087  0.401425\n",
      "2017-04-17 -0.169184  0.236380 -0.524219 -1.993843\n",
      "2017-04-18 -0.731711 -0.396064 -0.930818  2.149722\n",
      "2017-04-19 -1.504662 -0.026085  0.283344 -0.156270\n",
      "2017-04-20  0.196746 -0.622832  1.136114 -0.872826\n"
     ]
    }
   ],
   "source": [
    "#生成一个dataframe并设置index和columns\n",
    "dates = pd.date_range('20170220',periods=60)\n",
    "data = pd.DataFrame(np.random.randn(60,4),index=dates,columns=list('ABCD'))\n",
    "print(data)"
   ]
  },
  {
   "cell_type": "code",
   "execution_count": 92,
   "metadata": {
    "collapsed": true
   },
   "outputs": [
    {
     "name": "stdout",
     "output_type": "stream",
     "text": [
      "                   A         B         C         D\n",
      "2017-02-20 -0.572113 -1.298063  0.833564  0.165773\n",
      "2017-02-21  0.018248  1.001268 -1.507817 -0.231445\n",
      "2017-02-22  1.217523 -0.936620 -0.307522 -0.344548\n",
      "2017-02-23  0.220527 -0.384416 -0.478596 -0.093554\n",
      "2017-02-24 -0.506479  0.846392 -0.143628 -1.048839\n",
      "                   A         B         C         D\n",
      "2017-02-20 -0.572113 -1.298063  0.833564  0.165773\n",
      "                   A         B         C         D\n",
      "2017-02-21  0.018248  1.001268 -1.507817 -0.231445\n",
      "2017-02-22  1.217523 -0.936620 -0.307522 -0.344548\n",
      "2017-02-23  0.220527 -0.384416 -0.478596 -0.093554\n",
      "2017-02-24 -0.506479  0.846392 -0.143628 -1.048839\n",
      "2017-02-25 -2.298962  0.210108 -1.779113 -1.264240\n",
      "                   A         B         C        D\n",
      "2017-02-25 -2.298962  0.210108 -1.779113 -1.26424\n"
     ]
    }
   ],
   "source": [
    "#输出DataFrame头部数据，默认为前5行\n",
    "print(data.head())\n",
    "#输出输出DataFrame第一行数据\n",
    "print (data.head(1))\n",
    "#输出DataFrame尾部数据，默认为后5行\n",
    "print (data.tail())\n",
    "#输出输出DataFrame最后一行数据\n",
    "print (data.tail(1))\n"
   ]
  },
  {
   "cell_type": "code",
   "execution_count": 95,
   "metadata": {},
   "outputs": [
    {
     "name": "stdout",
     "output_type": "stream",
     "text": [
      "DatetimeIndex(['2017-02-20', '2017-02-21', '2017-02-22', '2017-02-23',\n",
      "               '2017-02-24', '2017-02-25'],\n",
      "              dtype='datetime64[ns]', freq='D')\n",
      "Index(['A', 'B', 'C', 'D'], dtype='object')\n",
      "[[-0.57211306 -1.29806315  0.83356367  0.16577336]\n",
      " [ 0.01824767  1.00126754 -1.50781704 -0.23144459]\n",
      " [ 1.21752266 -0.93662038 -0.30752246 -0.34454771]\n",
      " [ 0.22052669 -0.38441623 -0.47859572 -0.09355373]\n",
      " [-0.50647889  0.84639242 -0.14362824 -1.04883883]\n",
      " [-2.29896224  0.21010755 -1.7791126  -1.2642403 ]]\n",
      "              A         B         C         D\n",
      "count  6.000000  6.000000  6.000000  6.000000\n",
      "mean  -0.320210 -0.093555 -0.563852 -0.469475\n",
      "std    1.164919  0.940271  0.956061  0.562928\n",
      "min   -2.298962 -1.298063 -1.779113 -1.264240\n",
      "25%   -0.555705 -0.798569 -1.250512 -0.872766\n",
      "50%   -0.244116 -0.087154 -0.393059 -0.287996\n",
      "75%    0.169957  0.687321 -0.184602 -0.128026\n",
      "max    1.217523  1.001268  0.833564  0.165773\n",
      "['A', 'B', 'C', 'D']\n"
     ]
    }
   ],
   "source": [
    "#输出行索引\n",
    "print(data.index)\n",
    "#输出列索引\n",
    "print(data.columns)\n",
    "#输出DataFrame数据值\n",
    "print(data.values)\n",
    "#输出DataFrame详细信息\n",
    "print(data.describe())\n",
    "print(data.columns.values.tolist())"
   ]
  },
  {
   "cell_type": "code",
   "execution_count": 15,
   "metadata": {},
   "outputs": [
    {
     "name": "stdout",
     "output_type": "stream",
     "text": [
      "   2017-02-20  2017-02-21  2017-02-22  2017-02-23  2017-02-24  2017-02-25\n",
      "A   -0.655308    2.542810   -1.314412   -0.127614   -1.658236   -1.663354\n",
      "B    0.564074    2.198998   -0.124197    0.026045   -0.072914   -1.386193\n",
      "C   -0.121373   -0.460727    0.651092   -0.870212   -1.237839    1.249623\n",
      "D    0.695363    1.381967    0.144790    0.277401   -0.744470    0.229034\n",
      "(6, 4)\n",
      "(4, 6)\n"
     ]
    }
   ],
   "source": [
    "#转置\n",
    "print(data.T)\n",
    "#输出维度信息\n",
    "print(data.shape)\n",
    "#转置后的维度信息\n",
    "print(data.T.shape)\n"
   ]
  },
  {
   "cell_type": "code",
   "execution_count": 16,
   "metadata": {
    "collapsed": true
   },
   "outputs": [
    {
     "name": "stdout",
     "output_type": "stream",
     "text": [
      "                   A         B         C         D\n",
      "2017-02-20 -0.655308  0.564074 -0.121373  0.695363\n",
      "2017-02-21  2.542810  2.198998 -0.460727  1.381967\n",
      "2017-02-22 -1.314412 -0.124197  0.651092  0.144790\n",
      "2017-02-23 -0.127614  0.026045 -0.870212  0.277401\n",
      "2017-02-24 -1.658236 -0.072914 -1.237839 -0.744470\n",
      "2017-02-25 -1.663354 -1.386193  1.249623  0.229034\n",
      "                   D         C         B         A\n",
      "2017-02-20  0.695363 -0.121373  0.564074 -0.655308\n",
      "2017-02-21  1.381967 -0.460727  2.198998  2.542810\n",
      "2017-02-22  0.144790  0.651092 -0.124197 -1.314412\n",
      "2017-02-23  0.277401 -0.870212  0.026045 -0.127614\n",
      "2017-02-24 -0.744470 -1.237839 -0.072914 -1.658236\n",
      "2017-02-25  0.229034  1.249623 -1.386193 -1.663354\n",
      "                   A         B         C         D\n",
      "2017-02-25 -1.663354 -1.386193  1.249623  0.229034\n",
      "2017-02-24 -1.658236 -0.072914 -1.237839 -0.744470\n",
      "2017-02-22 -1.314412 -0.124197  0.651092  0.144790\n",
      "2017-02-20 -0.655308  0.564074 -0.121373  0.695363\n",
      "2017-02-23 -0.127614  0.026045 -0.870212  0.277401\n",
      "2017-02-21  2.542810  2.198998 -0.460727  1.381967\n"
     ]
    }
   ],
   "source": [
    "#将列索引排序，记忆：行列式，所以 逐行操作axis = 0,逐列操作axis =1\n",
    "print (data.sort_index(axis = 1))\n",
    "#列索引排序，降序\n",
    "print (data.sort_index(axis = 1,ascending= False))\n",
    "#按照A列的值进行升序排列\n",
    "print (data.sort_values(by='A'))"
   ]
  },
  {
   "cell_type": "markdown",
   "metadata": {},
   "source": [
    " <font face=\"微软雅黑\" size=3 color=#1E90F >dataframe按条件筛选"
   ]
  },
  {
   "cell_type": "code",
   "execution_count": 103,
   "metadata": {},
   "outputs": [
    {
     "name": "stdout",
     "output_type": "stream",
     "text": [
      "                   A         B         C         D\n",
      "2017-02-20 -1.923721  0.512644  0.314129 -0.803923\n",
      "2017-02-21 -0.233486  1.679651 -0.969778  0.603586\n",
      "2017-02-22  0.341055  0.408709  0.209715  2.518517\n",
      "2017-02-23  0.382801 -0.308497 -1.039912 -0.488881\n",
      "2017-02-24  0.700475 -2.166453 -0.228275 -0.157026\n",
      "2017-02-25 -0.301981  0.628470 -0.104352 -0.408931\n",
      "                   A         B         C         D\n",
      "2017-02-22  0.341055  0.408709  0.209715  2.518517\n",
      "2017-02-23  0.382801 -0.308497 -1.039912 -0.488881\n",
      "2017-02-24  0.700475 -2.166453 -0.228275 -0.157026\n",
      "                   A         B         C         D\n",
      "2017-02-20       NaN  0.512644  0.314129       NaN\n",
      "2017-02-21       NaN  1.679651       NaN  0.603586\n",
      "2017-02-22  0.341055  0.408709  0.209715  2.518517\n",
      "2017-02-23  0.382801       NaN       NaN       NaN\n",
      "2017-02-24  0.700475       NaN       NaN       NaN\n",
      "2017-02-25       NaN  0.628470       NaN       NaN\n",
      "                   A         B         C         D\n",
      "2017-02-20 -1.923721  0.512644  0.314129 -0.803923\n",
      "2017-02-21 -0.233486  1.679651 -0.969778  0.603586\n",
      "2017-02-22  0.341055  0.408709  0.209715  2.518517\n",
      "2017-02-23  0.382801 -0.308497 -1.039912 -0.488881\n",
      "2017-02-24  0.700475 -2.166453 -0.228275 -0.157026\n",
      "2017-02-25 -0.301981  0.628470 -0.104352 -0.408931\n",
      "                   A         B         C         D TAG\n",
      "2017-02-20 -1.923721  0.512644  0.314129 -0.803923   a\n",
      "2017-02-21 -0.233486  1.679651 -0.969778  0.603586   a\n",
      "2017-02-22  0.341055  0.408709  0.209715  2.518517   b\n",
      "2017-02-23  0.382801 -0.308497 -1.039912 -0.488881   b\n",
      "2017-02-24  0.700475 -2.166453 -0.228275 -0.157026   c\n",
      "2017-02-25 -0.301981  0.628470 -0.104352 -0.408931   c\n",
      "                   A         B         C         D TAG\n",
      "2017-02-20 -1.923721  0.512644  0.314129 -0.803923   a\n",
      "2017-02-21 -0.233486  1.679651 -0.969778  0.603586   a\n",
      "2017-02-24  0.700475 -2.166453 -0.228275 -0.157026   c\n",
      "2017-02-25 -0.301981  0.628470 -0.104352 -0.408931   c\n",
      "                   A         B         C         D TAG\n",
      "2017-02-20 -1.923721  0.512644  0.314129 -0.803923   a\n",
      "2017-02-21 -0.233486  1.679651 -0.969778  0.603586   a\n",
      "2017-02-24  0.700475 -2.166453 -0.228275 -0.157026   c\n",
      "2017-02-25 -0.301981  0.628470 -0.104352 -0.408931   c\n",
      "                   A         B         C         D TAG\n",
      "2017-02-20 -1.923721  0.512644  0.314129 -0.803923   a\n",
      "2017-02-21 -0.233486  1.679651 -0.969778  0.603586   a\n",
      "2017-02-25 -0.301981  0.628470 -0.104352 -0.408931   c\n"
     ]
    },
    {
     "data": {
      "text/html": [
       "<div>\n",
       "<style scoped>\n",
       "    .dataframe tbody tr th:only-of-type {\n",
       "        vertical-align: middle;\n",
       "    }\n",
       "\n",
       "    .dataframe tbody tr th {\n",
       "        vertical-align: top;\n",
       "    }\n",
       "\n",
       "    .dataframe thead th {\n",
       "        text-align: right;\n",
       "    }\n",
       "</style>\n",
       "<table border=\"1\" class=\"dataframe\">\n",
       "  <thead>\n",
       "    <tr style=\"text-align: right;\">\n",
       "      <th></th>\n",
       "      <th>C</th>\n",
       "      <th>D</th>\n",
       "    </tr>\n",
       "  </thead>\n",
       "  <tbody>\n",
       "    <tr>\n",
       "      <th>2017-02-20</th>\n",
       "      <td>0.314129</td>\n",
       "      <td>-0.803923</td>\n",
       "    </tr>\n",
       "    <tr>\n",
       "      <th>2017-02-21</th>\n",
       "      <td>-0.969778</td>\n",
       "      <td>0.603586</td>\n",
       "    </tr>\n",
       "    <tr>\n",
       "      <th>2017-02-22</th>\n",
       "      <td>0.209715</td>\n",
       "      <td>2.518517</td>\n",
       "    </tr>\n",
       "    <tr>\n",
       "      <th>2017-02-23</th>\n",
       "      <td>-1.039912</td>\n",
       "      <td>-0.488881</td>\n",
       "    </tr>\n",
       "    <tr>\n",
       "      <th>2017-02-25</th>\n",
       "      <td>-0.104352</td>\n",
       "      <td>-0.408931</td>\n",
       "    </tr>\n",
       "  </tbody>\n",
       "</table>\n",
       "</div>"
      ],
      "text/plain": [
       "                   C         D\n",
       "2017-02-20  0.314129 -0.803923\n",
       "2017-02-21 -0.969778  0.603586\n",
       "2017-02-22  0.209715  2.518517\n",
       "2017-02-23 -1.039912 -0.488881\n",
       "2017-02-25 -0.104352 -0.408931"
      ]
     },
     "execution_count": 103,
     "metadata": {},
     "output_type": "execute_result"
    }
   ],
   "source": [
    "dates = pd.date_range('20170220',periods=6)\n",
    "data = pd.DataFrame(np.random.randn(6,4),index=dates,columns=list('ABCD'))\n",
    "print(data)\n",
    "#输出A列中大于0的行\n",
    "print(data[data.A > 0])\n",
    "#输出大于0的数据，小于等于0的用NaN补位\n",
    "print (data[data > 0])\n",
    "#拷贝data\n",
    "data2 =data.copy()\n",
    "print (data2)\n",
    "tag = ['a'] * 2 + ['b'] * 2 + ['c'] * 2\n",
    "#在data2中增加TAG列用tag赋值\n",
    "data2['TAG'] = tag\n",
    "print (data2)\n",
    "#打印TAG列中为a,c的行，isin\n",
    "print (data2[data2.TAG.isin(['a','c'])])\n",
    "print (data2[data2['TAG'].isin(['a','c'])])\n",
    "#多条件筛选\n",
    "print(data2[(data2[\"A\"]<0) & (data2[\"B\"]>0) ])\n",
    "#用A,B列筛选CD列的值\n",
    "data2[['C','D']][(data2[\"A\"]<0.5) & (data2[\"B\"]>-0.5) ]\n"
   ]
  },
  {
   "cell_type": "markdown",
   "metadata": {},
   "source": [
    " <font face=\"微软雅黑\" size=3 color=#1E90F >dataframe计算"
   ]
  },
  {
   "cell_type": "code",
   "execution_count": 104,
   "metadata": {
    "collapsed": true
   },
   "outputs": [
    {
     "name": "stdout",
     "output_type": "stream",
     "text": [
      "                   A         B         C         D\n",
      "2017-02-20 -0.867520 -0.616896  1.234057 -1.192292\n",
      "2017-02-21  1.190589  0.313663 -1.477826  0.725838\n",
      "2017-02-22 -1.265989 -0.952849  0.544085 -0.992765\n",
      "2017-02-23 -0.249829 -0.010003  0.574739 -0.890102\n",
      "2017-02-24 -1.828591 -0.469632  2.362101 -0.279441\n",
      "2017-02-25 -1.068047  1.909419  0.385498  1.297053\n",
      "                   A         B         C         D   E\n",
      "2017-02-20 -0.867520 -0.616896  1.234057 -1.192292 NaN\n",
      "2017-02-21  1.190589  0.313663 -1.477826  0.725838 NaN\n",
      "2017-02-22 -1.265989 -0.952849  0.544085 -0.992765 NaN\n",
      "2017-02-23 -0.249829 -0.010003  0.574739 -0.890102 NaN\n",
      "                   A         B         C         D    E\n",
      "2017-02-20 -0.867520 -0.616896  1.234057 -1.192292  NaN\n",
      "2017-02-21  1.190589  0.313663 -1.477826  0.725838  2.0\n",
      "2017-02-22 -1.265989 -0.952849  0.544085 -0.992765  2.0\n",
      "2017-02-23 -0.249829 -0.010003  0.574739 -0.890102  NaN\n",
      "                   A         B         C         D    E\n",
      "2017-02-21  1.190589  0.313663 -1.477826  0.725838  2.0\n",
      "2017-02-22 -1.265989 -0.952849  0.544085 -0.992765  2.0\n",
      "                   A         B         C         D    E\n",
      "2017-02-20 -0.867520 -0.616896  1.234057 -1.192292  5.0\n",
      "2017-02-21  1.190589  0.313663 -1.477826  0.725838  2.0\n",
      "2017-02-22 -1.265989 -0.952849  0.544085 -0.992765  2.0\n",
      "2017-02-23 -0.249829 -0.010003  0.574739 -0.890102  5.0\n",
      "                A      B      C      D      E\n",
      "2017-02-20  False  False  False  False   True\n",
      "2017-02-21  False  False  False  False  False\n",
      "2017-02-22  False  False  False  False  False\n",
      "2017-02-23  False  False  False  False   True\n",
      "A   -0.298187\n",
      "B   -0.316521\n",
      "C    0.218764\n",
      "D   -0.587330\n",
      "E    2.000000\n",
      "dtype: float64\n",
      "2017-02-20   -0.360663\n",
      "2017-02-21    0.550453\n",
      "2017-02-22   -0.133504\n",
      "2017-02-23   -0.143799\n",
      "Freq: D, dtype: float64\n",
      "                   A         B         C         D    E\n",
      "2017-02-20 -0.867520 -0.616896  1.234057 -1.192292  NaN\n",
      "2017-02-21  0.323069 -0.303233 -0.243768 -0.466455  2.0\n",
      "2017-02-22 -0.942920 -1.256082  0.300317 -1.459219  4.0\n",
      "2017-02-23 -1.192749 -1.266085  0.875056 -2.349321  NaN\n",
      "                   A         B         C         D    E\n",
      "2017-02-20 -0.867520 -0.616896  1.234057 -1.192292  NaN\n",
      "2017-02-21  0.323069 -0.303233 -0.243768 -0.466455  2.0\n",
      "2017-02-22 -0.942920 -1.256082  0.300317 -1.459219  4.0\n",
      "2017-02-23 -1.192749 -1.266085  0.875056 -2.349321  NaN\n"
     ]
    }
   ],
   "source": [
    "dates = pd.date_range('20170220',periods = 6)\n",
    "df = pd.DataFrame(np.random.randn(6,4) , index = dates , columns = list('ABCD'))\n",
    "print(df)\n",
    "#按照索引构造新表\n",
    "dfl = df.reindex(index = dates[0:4],columns = list(df.columns)+['E'])\n",
    "print (dfl)\n",
    "#将E列中的2,3行赋值为2\n",
    "dfl.loc[dates[1:3],'E'] = 2\n",
    "print (dfl)\n",
    "#去掉存在NaN元素的行\n",
    "print (dfl.dropna())\n",
    "#将NaN元素赋值为5\n",
    "print (dfl.fillna(5))\n",
    "#判断每个元素是否为NaN\n",
    "print (pd.isnull(dfl))\n",
    "#求列平均值\n",
    "print (dfl.mean(axis=0))\n",
    "#针对行求平均值\n",
    "print(dfl.mean(axis=1))\n",
    "#对每列进行累加,比如(2,3)是第三行前4个元素的和，但是如果当前元素是null，则依然是null,cumsum：cumulative sum(累加和)\n",
    "print (dfl.cumsum())\n",
    "print (dfl.apply(np.cumsum))\n"
   ]
  },
  {
   "cell_type": "code",
   "execution_count": 108,
   "metadata": {
    "collapsed": true
   },
   "outputs": [
    {
     "name": "stdout",
     "output_type": "stream",
     "text": [
      "2017-02-20    NaN\n",
      "2017-02-21    NaN\n",
      "2017-02-22    1.0\n",
      "2017-02-23    3.0\n",
      "2017-02-24    5.0\n",
      "2017-02-25    NaN\n",
      "Freq: D, dtype: float64\n",
      "                   A         B         C         D\n",
      "2017-02-20 -0.867520 -0.616896  1.234057 -1.192292\n",
      "2017-02-21  1.190589  0.313663 -1.477826  0.725838\n",
      "2017-02-22 -1.265989 -0.952849  0.544085 -0.992765\n",
      "2017-02-23 -0.249829 -0.010003  0.574739 -0.890102\n",
      "2017-02-24 -1.828591 -0.469632  2.362101 -0.279441\n",
      "2017-02-25 -1.068047  1.909419  0.385498  1.297053\n",
      "                   A         B         C         D\n",
      "2017-02-20       NaN       NaN       NaN       NaN\n",
      "2017-02-21       NaN       NaN       NaN       NaN\n",
      "2017-02-22 -2.265989 -1.952849 -0.455915 -1.992765\n",
      "2017-02-23 -3.249829 -3.010003 -2.425261 -3.890102\n",
      "2017-02-24 -6.828591 -5.469632 -2.637899 -5.279441\n",
      "2017-02-25       NaN       NaN       NaN       NaN\n",
      "A    3.019180\n",
      "B    2.862268\n",
      "C    3.839927\n",
      "D    2.489346\n",
      "dtype: float64\n",
      "2017-02-20    2.426350\n",
      "2017-02-21    2.668414\n",
      "2017-02-22    1.810074\n",
      "2017-02-23    1.464841\n",
      "2017-02-24    4.190692\n",
      "2017-02-25    2.977465\n",
      "Freq: D, dtype: float64\n"
     ]
    }
   ],
   "source": [
    "#生成序列并向右平移两位\n",
    "s = pd.Series([1,3,5,np.nan,6,8],index = dates).shift(2)\n",
    "print(s)\n",
    "#df与s做减法运算\n",
    "print(df)\n",
    "print (df.sub(s,axis = 'index'))\n",
    "#每列的最大值减去最小值,axis=0，可以理解为最终结果是行\n",
    "print (df.apply(lambda x: x.max() - x.min()))\n",
    "print (df.apply(lambda x: x.max() - x.min(),axis=1))"
   ]
  },
  {
   "cell_type": "code",
   "execution_count": 114,
   "metadata": {},
   "outputs": [
    {
     "name": "stdout",
     "output_type": "stream",
     "text": [
      "                   A         B         C         D\n",
      "2017-02-20  0.752098  0.113804 -0.525160 -2.336621\n",
      "2017-02-21 -0.622098  0.088634  0.281673  0.331275\n",
      "2017-02-22 -0.310047  0.069685 -0.963914  1.001960\n",
      "2017-02-23 -0.192221  0.847543  1.899861  1.338990\n",
      "2017-02-24  0.209225 -0.570606  0.697532 -1.149630\n",
      "2017-02-25 -1.101067 -1.375703 -0.280616  0.010561\n",
      "A   -1.264110\n",
      "B   -0.826643\n",
      "C    1.109376\n",
      "D   -0.803464\n",
      "dtype: float64\n",
      "2017-02-20   -1.995879\n",
      "2017-02-21    0.079483\n",
      "2017-02-22   -0.202316\n",
      "2017-02-23    3.894173\n",
      "2017-02-24   -0.813479\n",
      "2017-02-25   -2.746825\n",
      "Freq: D, dtype: float64\n"
     ]
    }
   ],
   "source": [
    "#自定义函数，操作dataframe\n",
    "dates = pd.date_range('20170220',periods = 6)\n",
    "df = pd.DataFrame(np.random.randn(6,4) , index = dates , columns = list('ABCD'))\n",
    "print (df)\n",
    "#定义一个函数\n",
    "def _sum(x):\n",
    "    return x.sum()\n",
    "#apply函数可以接受一个函数作为参数\n",
    "print (df.apply(sum))\n",
    "print (df.apply(sum,axis=1))"
   ]
  },
  {
   "cell_type": "code",
   "execution_count": 66,
   "metadata": {
    "scrolled": true
   },
   "outputs": [
    {
     "name": "stdout",
     "output_type": "stream",
     "text": [
      "          A         B         C         D\n",
      "0 -1.093012 -0.354371  0.242328  1.021158\n",
      "1 -0.349949  0.997632  0.971201  0.628634\n",
      "2  0.058189  0.005813 -0.396134 -1.029099\n",
      "3  2.178538 -1.868699  0.724196 -0.136352\n",
      "4 -0.446982 -0.824146 -0.303399  1.802486\n",
      "5 -0.225539 -0.712979 -0.629986 -1.685234\n",
      "6 -0.027813 -0.230836 -0.048439  0.710463\n",
      "7 -0.798780  0.370460  0.851822  0.657648\n",
      "8  1.635211  1.959147 -1.067040 -0.145874\n",
      "9 -0.448767 -1.059386 -1.253656  0.745560\n",
      "          A         B         C         D\n",
      "0 -1.093012 -0.354371  0.242328  1.021158\n",
      "1 -0.349949  0.997632  0.971201  0.628634\n",
      "2  0.058189  0.005813 -0.396134 -1.029099\n",
      "3  2.178538 -1.868699  0.724196 -0.136352\n",
      "4 -0.446982 -0.824146 -0.303399  1.802486\n",
      "5 -0.225539 -0.712979 -0.629986 -1.685234\n",
      "6 -0.027813 -0.230836 -0.048439  0.710463\n",
      "7 -0.798780  0.370460  0.851822  0.657648\n",
      "8  1.635211  1.959147 -1.067040 -0.145874\n",
      "9 -0.448767 -1.059386 -1.253656  0.745560\n",
      "      A     B     C     D\n",
      "0  True  True  True  True\n",
      "1  True  True  True  True\n",
      "2  True  True  True  True\n",
      "3  True  True  True  True\n",
      "4  True  True  True  True\n",
      "5  True  True  True  True\n",
      "6  True  True  True  True\n",
      "7  True  True  True  True\n",
      "8  True  True  True  True\n",
      "9  True  True  True  True\n",
      "A    2\n",
      "B    2\n",
      "C    4\n",
      "D    2\n",
      "dtype: int64\n",
      "           A         B         C         D\n",
      "0  -1.093012 -0.354371  0.242328  1.021158\n",
      "1  -0.349949  0.997632  0.971201  0.628634\n",
      "2   0.058189  0.005813 -0.396134 -1.029099\n",
      "3   2.178538 -1.868699  0.724196 -0.136352\n",
      "4  -0.446982 -0.824146 -0.303399  1.802486\n",
      "5  -0.225539 -0.712979 -0.629986 -1.685234\n",
      "6  -0.027813 -0.230836 -0.048439  0.710463\n",
      "7  -0.798780  0.370460  0.851822  0.657648\n",
      "8   1.635211  1.959147 -1.067040 -0.145874\n",
      "9  -0.448767 -1.059386 -1.253656  0.745560\n",
      "10  2.000000  2.000000  4.000000  2.000000\n"
     ]
    }
   ],
   "source": [
    "df = pd.DataFrame(np.random.randn(10,4) , columns = list('ABCD'))\n",
    "print (df)\n",
    "#连接表\n",
    "dfl = pd.concat([df.iloc[:3],df.iloc[3:7],df.iloc[7:]])\n",
    "print (dfl)\n",
    "#判断两个DataFrame中元素是否相等\n",
    "print (df == dfl)\n",
    "s = pd.Series(np.random.randint(1,5,size = 4),index = list('ABCD'))\n",
    "print (s)\n",
    "#通过序列添加一行\n",
    "print (df.append(s,ignore_index = True))\n"
   ]
  },
  {
   "cell_type": "code",
   "execution_count": 123,
   "metadata": {},
   "outputs": [
    {
     "name": "stdout",
     "output_type": "stream",
     "text": [
      "     A      B         C         D\n",
      "0  foo    one -0.650837 -1.026963\n",
      "1  bar    one  1.291559 -0.061404\n",
      "2  foo    two -0.764784 -0.519099\n",
      "3  bar  three  0.726245  0.512457\n",
      "4  foo    two  1.368450 -0.014136\n",
      "5  bar    two  0.040207 -0.044582\n",
      "6  foo    one  0.239617  0.043660\n",
      "7  bar  three -0.840434  0.337200\n",
      "            C         D\n",
      "A                      \n",
      "bar  1.217578  0.743671\n",
      "foo  0.192445 -1.516539\n",
      "                  C         D\n",
      "A   B                        \n",
      "bar one    1.291559 -0.061404\n",
      "    three -0.114188  0.849657\n",
      "    two    0.040207 -0.044582\n",
      "foo one   -0.411220 -0.983304\n",
      "    two    0.603666 -0.533236\n",
      "                  C         D\n",
      "B     A                      \n",
      "one   bar  1.291559 -0.061404\n",
      "      foo -0.411220 -0.983304\n",
      "three bar -0.114188  0.849657\n",
      "two   bar  0.040207 -0.044582\n",
      "      foo  0.603666 -0.533236\n"
     ]
    }
   ],
   "source": [
    "#groupby操作\n",
    "df = pd.DataFrame({'A': ['foo','bar','foo','bar',\n",
    "                         'foo','bar','foo','bar'],\n",
    "                   'B': ['one','one','two','three',\n",
    "                         'two','two','one','three'],\n",
    "                   'C': np.random.randn(8),\n",
    "                   'D': np.random.randn(8)})\n",
    "print (df)\n",
    "print (df.groupby('A').sum())\n",
    "print (df.groupby(['A','B']).sum())\n",
    "print (df.groupby(['B','A']).sum())"
   ]
  },
  {
   "cell_type": "code",
   "execution_count": 89,
   "metadata": {},
   "outputs": [
    {
     "name": "stdout",
     "output_type": "stream",
     "text": [
      "        A  B    C         D         E\n",
      "0     one  A  foo -0.190977 -0.039160\n",
      "1     one  B  foo -0.909429 -0.443823\n",
      "2     two  C  foo -1.167702 -1.392387\n",
      "3   three  A  bar  0.495145  0.193711\n",
      "4     one  B  bar  0.073704  0.654376\n",
      "5     one  C  bar  0.850119  1.367398\n",
      "6     two  A  foo -1.918914 -0.157610\n",
      "7   three  B  foo  0.417583 -1.361749\n",
      "8     one  C  foo  0.050866 -1.638566\n",
      "9     one  A  bar -0.027325 -1.612422\n",
      "10    two  B  bar  1.277080 -0.323482\n",
      "11  three  C  bar  1.074753  0.125101\n",
      "C             bar       foo\n",
      "A     B                    \n",
      "one   A -0.027325 -0.190977\n",
      "      B  0.073704 -0.909429\n",
      "      C  0.850119  0.050866\n",
      "three A  0.495145       NaN\n",
      "      B       NaN  0.417583\n",
      "      C  1.074753       NaN\n",
      "two   A       NaN -1.918914\n",
      "      B  1.277080       NaN\n",
      "      C       NaN -1.167702\n",
      "            D         E\n",
      "C                      \n",
      "bar  0.298833  0.136451\n",
      "foo -0.349847 -0.707183\n"
     ]
    }
   ],
   "source": [
    "df = pd.DataFrame({'A' : ['one', 'one', 'two', 'three'] * 3,\n",
    "                    'B' : ['A', 'B', 'C'] * 4,\n",
    "                    'C' : ['foo', 'foo', 'foo', 'bar', 'bar', 'bar'] * 2,\n",
    "                    'D' : np.random.randn(12),\n",
    "                    'E' : np.random.randn(12)})\n",
    "print (df)\n",
    "#根据A，B索引为行，C的索引为列处理D的值\n",
    "print (pd.pivot_table(df, values='D', index=['A', 'B'], columns=['C']))\n",
    "#A列等于one为索引，根据C列组合的平均值\n",
    "print (df[df.A=='one'].groupby('C').mean())\n"
   ]
  },
  {
   "cell_type": "markdown",
   "metadata": {},
   "source": [
    " <font face=\"微软雅黑\" size=3 color=#1E90F >dataframe时间序列"
   ]
  },
  {
   "cell_type": "code",
   "execution_count": 94,
   "metadata": {
    "scrolled": true
   },
   "outputs": [
    {
     "name": "stdout",
     "output_type": "stream",
     "text": [
      "DatetimeIndex(['2017-02-20 00:00:00', '2017-02-20 00:00:01',\n",
      "               '2017-02-20 00:00:02', '2017-02-20 00:00:03',\n",
      "               '2017-02-20 00:00:04', '2017-02-20 00:00:05',\n",
      "               '2017-02-20 00:00:06', '2017-02-20 00:00:07',\n",
      "               '2017-02-20 00:00:08', '2017-02-20 00:00:09',\n",
      "               ...\n",
      "               '2017-02-20 00:09:50', '2017-02-20 00:09:51',\n",
      "               '2017-02-20 00:09:52', '2017-02-20 00:09:53',\n",
      "               '2017-02-20 00:09:54', '2017-02-20 00:09:55',\n",
      "               '2017-02-20 00:09:56', '2017-02-20 00:09:57',\n",
      "               '2017-02-20 00:09:58', '2017-02-20 00:09:59'],\n",
      "              dtype='datetime64[ns]', length=600, freq='S')\n",
      "2017-02-20 00:00:00    207\n",
      "2017-02-20 00:00:01    453\n",
      "2017-02-20 00:00:02    249\n",
      "2017-02-20 00:00:03    446\n",
      "2017-02-20 00:00:04    119\n",
      "2017-02-20 00:00:05    371\n",
      "2017-02-20 00:00:06    434\n",
      "2017-02-20 00:00:07    336\n",
      "2017-02-20 00:00:08    385\n",
      "2017-02-20 00:00:09     81\n",
      "2017-02-20 00:00:10    273\n",
      "2017-02-20 00:00:11    304\n",
      "2017-02-20 00:00:12     48\n",
      "2017-02-20 00:00:13    353\n",
      "2017-02-20 00:00:14    395\n",
      "2017-02-20 00:00:15     68\n",
      "2017-02-20 00:00:16    429\n",
      "2017-02-20 00:00:17     57\n",
      "2017-02-20 00:00:18    332\n",
      "2017-02-20 00:00:19     66\n",
      "2017-02-20 00:00:20    236\n",
      "2017-02-20 00:00:21    214\n",
      "2017-02-20 00:00:22    383\n",
      "2017-02-20 00:00:23     54\n",
      "2017-02-20 00:00:24     50\n",
      "2017-02-20 00:00:25    109\n",
      "2017-02-20 00:00:26    266\n",
      "2017-02-20 00:00:27    279\n",
      "2017-02-20 00:00:28    187\n",
      "2017-02-20 00:00:29    424\n",
      "                      ... \n",
      "2017-02-20 00:09:30    362\n",
      "2017-02-20 00:09:31     80\n",
      "2017-02-20 00:09:32    321\n",
      "2017-02-20 00:09:33    211\n",
      "2017-02-20 00:09:34     59\n",
      "2017-02-20 00:09:35    379\n",
      "2017-02-20 00:09:36    341\n",
      "2017-02-20 00:09:37    333\n",
      "2017-02-20 00:09:38    451\n",
      "2017-02-20 00:09:39    449\n",
      "2017-02-20 00:09:40    152\n",
      "2017-02-20 00:09:41     49\n",
      "2017-02-20 00:09:42    379\n",
      "2017-02-20 00:09:43    449\n",
      "2017-02-20 00:09:44    451\n",
      "2017-02-20 00:09:45    357\n",
      "2017-02-20 00:09:46    359\n",
      "2017-02-20 00:09:47    423\n",
      "2017-02-20 00:09:48    240\n",
      "2017-02-20 00:09:49    241\n",
      "2017-02-20 00:09:50    290\n",
      "2017-02-20 00:09:51    120\n",
      "2017-02-20 00:09:52    184\n",
      "2017-02-20 00:09:53    234\n",
      "2017-02-20 00:09:54    215\n",
      "2017-02-20 00:09:55    221\n",
      "2017-02-20 00:09:56    142\n",
      "2017-02-20 00:09:57    395\n",
      "2017-02-20 00:09:58    236\n",
      "2017-02-20 00:09:59    112\n",
      "Freq: S, Length: 600, dtype: int64\n"
     ]
    }
   ],
   "source": [
    "#创建一个以20170220为基准的以秒为单位的向前推进600个的时间序列\n",
    "rng = pd.date_range('20170220', periods=600, freq='s')\n",
    "print (rng)\n",
    "#以时间序列为索引的序列\n",
    "ts = pd.Series(np.random.randint(0, 500, len(rng)), index=rng)\n",
    "print (ts)\n"
   ]
  },
  {
   "cell_type": "code",
   "execution_count": 100,
   "metadata": {
    "collapsed": true
   },
   "outputs": [
    {
     "name": "stdout",
     "output_type": "stream",
     "text": [
      "2017-02-20 00:00:00    28112\n",
      "2017-02-20 00:02:00    30091\n",
      "2017-02-20 00:04:00    28561\n",
      "2017-02-20 00:06:00    29318\n",
      "2017-02-20 00:08:00    31167\n",
      "Freq: 2T, dtype: int64\n",
      "PeriodIndex(['2011Q1', '2011Q2', '2011Q3', '2011Q4', '2012Q1', '2012Q2',\n",
      "             '2012Q3', '2012Q4', '2013Q1', '2013Q2', '2013Q3', '2013Q4',\n",
      "             '2014Q1', '2014Q2', '2014Q3', '2014Q4', '2015Q1', '2015Q2',\n",
      "             '2015Q3', '2015Q4', '2016Q1', '2016Q2', '2016Q3', '2016Q4',\n",
      "             '2017Q1'],\n",
      "            dtype='period[Q-DEC]', freq='Q-DEC')\n",
      "DatetimeIndex(['2011-01-01', '2011-04-01', '2011-07-01', '2011-10-01',\n",
      "               '2012-01-01', '2012-04-01', '2012-07-01', '2012-10-01',\n",
      "               '2013-01-01', '2013-04-01', '2013-07-01', '2013-10-01',\n",
      "               '2014-01-01', '2014-04-01', '2014-07-01', '2014-10-01',\n",
      "               '2015-01-01', '2015-04-01', '2015-07-01', '2015-10-01',\n",
      "               '2016-01-01', '2016-04-01', '2016-07-01', '2016-10-01',\n",
      "               '2017-01-01'],\n",
      "              dtype='datetime64[ns]', freq='QS-OCT')\n",
      "39 days 00:00:00\n",
      "2017-03-04 00:00:00\n"
     ]
    }
   ],
   "source": [
    "#重采样，以2分钟为单位进行加和采样\n",
    "print (ts.resample('2Min').sum())\n",
    "#列出2011年1季度到2017年1季度\n",
    "rng1 = pd.period_range('2011Q1','2017Q1',freq='Q')\n",
    "print (rng1)\n",
    "#转换成时间戳形式\n",
    "print (rng1.to_timestamp())\n",
    "#时间加减法\n",
    "print (pd.Timestamp('20170220') - pd.Timestamp('20170112'))\n",
    "print (pd.Timestamp('20170220') + pd.Timedelta(days=12))"
   ]
  },
  {
   "cell_type": "code",
   "execution_count": 118,
   "metadata": {
    "collapsed": true
   },
   "outputs": [
    {
     "data": {
      "image/png": "[encoded data removed]",
      "text/plain": [
       "<Figure size 432x288 with 1 Axes>"
      ]
     },
     "metadata": {
      "needs_background": "light"
     },
     "output_type": "display_data"
    },
    {
     "name": "stdout",
     "output_type": "stream",
     "text": [
      "2017-02-20     0.100010\n",
      "2017-02-21     1.381174\n",
      "2017-02-22     2.279252\n",
      "2017-02-23     1.905942\n",
      "2017-02-24     1.370108\n",
      "2017-02-25     2.069247\n",
      "2017-02-26     1.205167\n",
      "2017-02-27     2.927226\n",
      "2017-02-28     4.005603\n",
      "2017-03-01     5.926125\n",
      "2017-03-02     3.871581\n",
      "2017-03-03     4.274674\n",
      "2017-03-04     3.424288\n",
      "2017-03-05     1.620933\n",
      "2017-03-06     0.100785\n",
      "2017-03-07    -1.054755\n",
      "2017-03-08    -0.049443\n",
      "2017-03-09    -0.773953\n",
      "2017-03-10    -0.056507\n",
      "2017-03-11     2.246145\n",
      "2017-03-12     0.113703\n",
      "2017-03-13    -0.002054\n",
      "2017-03-14    -0.323102\n",
      "2017-03-15    -1.506365\n",
      "2017-03-16    -2.285710\n",
      "2017-03-17    -2.616572\n",
      "2017-03-18    -1.580702\n",
      "2017-03-19    -0.962903\n",
      "2017-03-20     1.524576\n",
      "2017-03-21     0.378179\n",
      "                ...    \n",
      "2019-10-18    19.311471\n",
      "2019-10-19    19.719351\n",
      "2019-10-20    18.850290\n",
      "2019-10-21    18.761496\n",
      "2019-10-22    18.391864\n",
      "2019-10-23    16.732085\n",
      "2019-10-24    16.836528\n",
      "2019-10-25    16.568698\n",
      "2019-10-26    17.763979\n",
      "2019-10-27    17.165954\n",
      "2019-10-28    17.326269\n",
      "2019-10-29    17.684545\n",
      "2019-10-30    17.621187\n",
      "2019-10-31    16.230156\n",
      "2019-11-01    15.673420\n",
      "2019-11-02    15.070252\n",
      "2019-11-03    14.924953\n",
      "2019-11-04    15.675179\n",
      "2019-11-05    14.716732\n",
      "2019-11-06    15.748376\n",
      "2019-11-07    15.343283\n",
      "2019-11-08    16.091102\n",
      "2019-11-09    14.569189\n",
      "2019-11-10    15.176041\n",
      "2019-11-11    15.412580\n",
      "2019-11-12    14.513561\n",
      "2019-11-13    15.113177\n",
      "2019-11-14    15.478924\n",
      "2019-11-15    15.274964\n",
      "2019-11-16    16.449398\n",
      "Freq: D, Length: 1000, dtype: float64\n"
     ]
    }
   ],
   "source": [
    "import matplotlib.pyplot as plt\n",
    "ts = pd.Series(np.random.randn(1000), index=pd.date_range('20170220', periods=1000))\n",
    "ts = ts.cumsum()\n",
    "ts.plot()\n",
    "plt.show()\n",
    "print(ts)\n"
   ]
  },
  {
   "cell_type": "code",
   "execution_count": 105,
   "metadata": {},
   "outputs": [
    {
     "name": "stdout",
     "output_type": "stream",
     "text": [
      "   id raw_grade\n",
      "0   1         a\n",
      "1   2         b\n",
      "2   3         b\n",
      "3   4         a\n",
      "4   5         a\n",
      "5   6         e\n",
      "   id raw_grade grade\n",
      "0   1         a     a\n",
      "1   2         b     b\n",
      "2   3         b     b\n",
      "3   4         a     a\n",
      "4   5         a     a\n",
      "5   6         e     e\n",
      "Index(['a', 'b', 'e'], dtype='object')\n",
      "   id raw_grade      grade\n",
      "0   1         a  very good\n",
      "1   2         b       good\n",
      "2   3         b       good\n",
      "3   4         a  very good\n",
      "4   5         a  very good\n",
      "5   6         e   very bad\n",
      "   id raw_grade      grade\n",
      "0   1         a  very good\n",
      "3   4         a  very good\n",
      "4   5         a  very good\n",
      "1   2         b       good\n",
      "2   3         b       good\n",
      "5   6         e   very bad\n",
      "grade\n",
      "very good    3\n",
      "good         2\n",
      "very bad     1\n",
      "dtype: int64\n"
     ]
    }
   ],
   "source": [
    "df = pd.DataFrame({\"id\":[1,2,3,4,5,6], \"raw_grade\":['a', 'b', 'b', 'a', 'a', 'e']})\n",
    "print (df)\n",
    "#添加类别数据，以raw_grade的值为类别基础\n",
    "df[\"grade\"] = df[\"raw_grade\"].astype(\"category\")\n",
    "print (df)\n",
    "#打印类别\n",
    "print (df[\"grade\"].cat.categories)\n",
    "#更改类别\n",
    "df[\"grade\"].cat.categories = [\"very good\", \"good\", \"very bad\"]\n",
    "print(df)\n",
    "#根据grade的值排序\n",
    "print (df.sort_values(by='grade', ascending=True))\n",
    "#根据grade排序显示数量\n",
    "print (df.groupby(\"grade\").size())\n"
   ]
  },
  {
   "cell_type": "markdown",
   "metadata": {},
   "source": [
    " <font face=\"微软雅黑\" size=3 color=#1E90F >dataframe层次化索引"
   ]
  },
  {
   "cell_type": "code",
   "execution_count": null,
   "metadata": {
    "collapsed": true
   },
   "outputs": [],
   "source": []
  }
 ],
 "metadata": {
  "kernelspec": {
   "display_name": "Python 3",
   "language": "python",
   "name": "python3"
  },
  "language_info": {
   "codemirror_mode": {
    "name": "ipython",
    "version": 3
   },
   "file_extension": ".py",
   "mimetype": "text/x-python",
   "name": "python",
   "nbconvert_exporter": "python",
   "pygments_lexer": "ipython3",
   "version": "3.7.3"
  }
 },
 "nbformat": 4,
 "nbformat_minor": 2
}
