{
 "cells": [
  {
   "cell_type": "code",
   "execution_count": 115,
   "metadata": {},
   "outputs": [
    {
     "data": {
      "text/plain": [
       "'/Users/xwx/Desktop/learning/testt'"
      ]
     },
     "execution_count": 115,
     "metadata": {},
     "output_type": "execute_result"
    }
   ],
   "source": [
    "import os\n",
    "import re\n",
    "import fnmatch\n",
    "import collections\n",
    "os.getcwd()"
   ]
  },
  {
   "cell_type": "code",
   "execution_count": 42,
   "metadata": {},
   "outputs": [
    {
     "name": "stdout",
     "output_type": "stream",
     "text": [
      "please input:bei\n",
      "yes\n",
      "['北京', '程序员', '公务员', '领导', '牛比', '牛逼', '你娘', '你妈', 'love', 'sex', 'jiangge', '']\n"
     ]
    }
   ],
   "source": [
    "#敏感词文本文件 test.txt，当用户输入敏感词语时，则打印出 no，否则打印出 yes。\n",
    "data=input(\"please input:\")\n",
    "with open(os.getcwd()+'/test.txt','r') as f:\n",
    "    no=f.read()\n",
    "    no=no.split('\\n')\n",
    "    if data in no:\n",
    "        print(\"no\")\n",
    "    else:\n",
    "        print(\"yes\")"
   ]
  },
  {
   "cell_type": "markdown",
   "metadata": {},
   "source": [
    "f.read()将文件全部信息读出，存储为一个str\n",
    "f.readline()每次仅读取一行内容\n",
    "f.readlines()按行读取文件全部内容，存储为一个list，每个元素是一行内容"
   ]
  },
  {
   "cell_type": "code",
   "execution_count": 95,
   "metadata": {},
   "outputs": [
    {
     "name": "stdout",
     "output_type": "stream",
     "text": [
      "['I', 'am', 'a', 'happy', 'girl', 'Do', 'you', 'think', 'so']\n"
     ]
    }
   ],
   "source": [
    "#任一个英文的纯文本文件，统计其中的单词出现的个数\n",
    "with open(os.getcwd()+'/test2.txt','r') as f:\n",
    "    info=f.read()\n",
    "    #[]表示范围 [a-zA-Z\\_]+可以匹配至少由一个字母或者‘组成的字符串 去掉加号就只能匹配单个字符了\n",
    "    info=re.findall(r\"[a-zA-Z\\']+\",info)\n",
    "    \n",
    "    print(info)\n",
    "    "
   ]
  },
  {
   "cell_type": "code",
   "execution_count": 146,
   "metadata": {},
   "outputs": [
    {
     "name": "stdout",
     "output_type": "stream",
     "text": [
      "[('baby', 3)]\n",
      "baby\n",
      "[('Happy', 2)]\n",
      "Happy\n",
      "[('love', 1)]\n",
      "love\n"
     ]
    }
   ],
   "source": [
    "#找出testt中每个txt文件中出现次数最多的单词\n",
    "def delstop(dirc):\n",
    "    stopwords={\"yes\",'he','she','it','me','his','her'}\n",
    "    for key,value in list(dirc.items()):#注意！因为字典在遍历的时候不允许修改（del）所以要用list（）变为列表\n",
    "        if key in stopwords or len(key)<=2:\n",
    "            del dirc[key]\n",
    "    return dirc\n",
    "dirc={'yes':3,\"he\":2,'baby':3}    \n",
    "def find_common(dirpath):\n",
    "    for files in os.listdir(dirpath):\n",
    "        if fnmatch.fnmatch(files,'*.txt'):\n",
    "            with open(os.getcwd()+'/'+files,'r') as f:\n",
    "                info=f.read()\n",
    "                info=re.findall(r'[a-zA-Z\\']+',info)\n",
    "                #创建一个counter对象\n",
    "                b=collections.Counter(info)\n",
    "                #删掉没有意义的词\n",
    "                b=delstop(b)\n",
    "                #方法一\n",
    "                print(b.most_common(1))\n",
    "                #方法二\n",
    "                key = sorted(b, key=lambda x: b[x],reverse = True)\n",
    "                print(key[0])\n",
    "\n",
    "find_common(os.getcwd())\n",
    "\n"
   ]
  },
  {
   "cell_type": "code",
   "execution_count": 149,
   "metadata": {},
   "outputs": [
    {
     "name": "stdout",
     "output_type": "stream",
     "text": [
      "please input:b\n"
     ]
    }
   ],
   "source": [
    "#敏感词文本文件test，当用户输入敏感词语，则用 星号 * 替换，例如当用户输入「北京是个好城市」，则变成「**是个好城市」\n",
    "data=input(\"please input:\")\n",
    "with open(os.getcwd()+'/test.txt','r') as f:\n",
    "    infos=f.read()\n",
    "    infos.split('\\n')\n",
    "    for info in infos:\n",
    "        if info in data:\n",
    "            data.replace(info, \"**\")\n",
    "\n"
   ]
  },
  {
   "cell_type": "code",
   "execution_count": null,
   "metadata": {},
   "outputs": [],
   "source": [
    "print('1')"
   ]
  },
  {
   "cell_type": "code",
   "execution_count": null,
   "metadata": {},
   "outputs": [],
   "source": []
  }
 ],
 "metadata": {
  "kernelspec": {
   "display_name": "Python 3",
   "language": "python",
   "name": "python3"
  },
  "language_info": {
   "codemirror_mode": {
    "name": "ipython",
    "version": 3
   },
   "file_extension": ".py",
   "mimetype": "text/x-python",
   "name": "python",
   "nbconvert_exporter": "python",
   "pygments_lexer": "ipython3",
   "version": "3.7.3"
  }
 },
 "nbformat": 4,
 "nbformat_minor": 2
}
