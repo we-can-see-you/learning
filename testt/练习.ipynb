{
 "cells": [
  {
   "cell_type": "code",
   "execution_count": 94,
   "metadata": {},
   "outputs": [
    {
     "data": {
      "text/plain": [
       "'/Users/xwx/Desktop/learning/testt'"
      ]
     },
     "execution_count": 94,
     "metadata": {},
     "output_type": "execute_result"
    }
   ],
   "source": [
    "import os\n",
    "import re\n",
    "import fnmatch\n",
    "import collections\n",
    "import urllib\n",
    "from bs4 import BeautifulSoup\n",
    "os.getcwd()"
   ]
  },
  {
   "cell_type": "code",
   "execution_count": 57,
   "metadata": {},
   "outputs": [
    {
     "name": "stdout",
     "output_type": "stream",
     "text": [
      "Collecting urlparse\n",
      "\u001b[31m  Could not find a version that satisfies the requirement urlparse (from versions: )\u001b[0m\n",
      "\u001b[31mNo matching distribution found for urlparse\u001b[0m\n",
      "Note: you may need to restart the kernel to use updated packages.\n"
     ]
    }
   ],
   "source": [
    "pip install urlparse"
   ]
  },
  {
   "cell_type": "code",
   "execution_count": 119,
   "metadata": {},
   "outputs": [
    {
     "name": "stdout",
     "output_type": "stream",
     "text": [
      "please input:e\n",
      "yes\n"
     ]
    }
   ],
   "source": [
    "#敏感词文本文件 test.txt，当用户输入敏感词语时，则打印出 no，否则打印出 yes。\n",
    "data=input(\"please input:\")\n",
    "with open(os.getcwd()+'/test.txt','r') as f:\n",
    "    no=f.read()\n",
    "    no=no.split('\\n')\n",
    "    if data in no:\n",
    "        print(\"no\")\n",
    "    else:\n",
    "        print(\"yes\")"
   ]
  },
  {
   "cell_type": "markdown",
   "metadata": {},
   "source": [
    "f.read()将文件全部信息读出，存储为一个str\n",
    "f.readline()每次仅读取一行内容\n",
    "f.readlines()按行读取文件全部内容，存储为一个list，每个元素是一行内容"
   ]
  },
  {
   "cell_type": "code",
   "execution_count": 95,
   "metadata": {},
   "outputs": [
    {
     "name": "stdout",
     "output_type": "stream",
     "text": [
      "['I', 'am', 'a', 'happy', 'girl', 'Do', 'you', 'think', 'so']\n"
     ]
    }
   ],
   "source": [
    "#任一个英文的纯文本文件，统计其中的单词出现的个数\n",
    "with open(os.getcwd()+'/test2.txt','r') as f:\n",
    "    info=f.read()\n",
    "    #[]表示范围 [a-zA-Z\\_]+可以匹配至少由一个字母或者‘组成的字符串 去掉加号就只能匹配单个字符了\n",
    "    info=re.findall(r\"[a-zA-Z\\']+\",info)\n",
    "    \n",
    "    print(info)\n",
    "    "
   ]
  },
  {
   "cell_type": "code",
   "execution_count": 146,
   "metadata": {},
   "outputs": [
    {
     "name": "stdout",
     "output_type": "stream",
     "text": [
      "[('baby', 3)]\n",
      "baby\n",
      "[('Happy', 2)]\n",
      "Happy\n",
      "[('love', 1)]\n",
      "love\n"
     ]
    }
   ],
   "source": [
    "#找出testt中每个txt文件中出现次数最多的单词\n",
    "def delstop(dirc):\n",
    "    stopwords={\"yes\",'he','she','it','me','his','her'}\n",
    "    for key,value in list(dirc.items()):#注意！因为字典在遍历的时候不允许修改（del）所以要用list（）变为列表\n",
    "        if key in stopwords or len(key)<=2:\n",
    "            del dirc[key]\n",
    "    return dirc\n",
    "dirc={'yes':3,\"he\":2,'baby':3}    \n",
    "def find_common(dirpath):\n",
    "    for files in os.listdir(dirpath):\n",
    "        if fnmatch.fnmatch(files,'*.txt'):\n",
    "            with open(os.getcwd()+'/'+files,'r') as f:\n",
    "                info=f.read()\n",
    "                info=re.findall(r'[a-zA-Z\\']+',info)\n",
    "                #创建一个counter对象\n",
    "                b=collections.Counter(info)\n",
    "                #删掉没有意义的词\n",
    "                b=delstop(b)\n",
    "                #方法一\n",
    "                print(b.most_common(1))\n",
    "                #方法二\n",
    "                key = sorted(b, key=lambda x: b[x],reverse = True)\n",
    "                print(key[0])\n",
    "\n",
    "find_common(os.getcwd())\n",
    "\n"
   ]
  },
  {
   "cell_type": "code",
   "execution_count": 51,
   "metadata": {},
   "outputs": [
    {
     "name": "stdout",
     "output_type": "stream",
     "text": [
      "please input:我是北京的程序员，我很牛逼\n",
      "我是**的***，我很**\n"
     ]
    }
   ],
   "source": [
    "#敏感词文本文件test，当用户输入敏感词语，则用 星号 * 替换，例如当用户输入「北京是个好城市」，则变成「**是个好城市」\n",
    "data=input(\"please input:\")\n",
    "with open(os.getcwd()+'/test.txt','r') as f:\n",
    "    infos=f.readlines()\n",
    "    for info in infos:\n",
    "        info=info.strip()\n",
    "        if info in data:\n",
    "            #方法一\n",
    "            dataa = re.sub(info,'*'*len(info),data)\n",
    "            #方法二\n",
    "            a=''\n",
    "            for i in range(len(info)):\n",
    "                a=a+'*'\n",
    "            data=data.replace(info, a)\n",
    "            #直接使用data=data.replace(info, ‘*’*len(info))更简便\n",
    "print(data)   \n",
    "\n"
   ]
  },
  {
   "cell_type": "code",
   "execution_count": 161,
   "metadata": {},
   "outputs": [
    {
     "name": "stdout",
     "output_type": "stream",
     "text": [
      "{\n",
      "\t\"1\":[\"张三\",150,120,100],\n",
      "\t\"2\":[\"李四\",90,99,95],\n",
      "\t\"3\":[\"王五\",60,66,68]\n",
      "}\n",
      "{'1': ['张三', 150, 120, 100], '2': ['李四', 90, 99, 95], '3': ['王五', 60, 66, 68]}\n",
      "{'1': ['张三', 150, 120, 100], '2': ['李四', 90, 99, 95], '3': ['王五', 60, 66, 68]}\n"
     ]
    }
   ],
   "source": [
    "import xlwt\n",
    "#将test4.txt内容写到 my_sheet.xls 文件的表test4中\n",
    "fs=open(os.getcwd()+'/test4.txt','r').read()\n",
    "print(fs)\n",
    "\n",
    "#将读取的字符串转换成字典 \n",
    "#方法一\n",
    "#注意由于 json 语法规定 数组或对象之中的字符串必须使用双引号，不能使用单引号\n",
    "js = json.loads(fs)\n",
    "print(js)\n",
    "\n",
    "#方法二\n",
    "ds = eval(fs)\n",
    "print(ds)\n",
    "\n",
    "js2 = sorted(js)\n",
    "rownum=0#行坐标\n",
    "#创建工作表\n",
    "workbook=xlwt.Workbook()\n",
    "sheet=workbook.add_sheet(\"test4\")\n",
    "for i in js.keys():\n",
    "    colnum=0\n",
    "    sheet.write(rownum,colnum,i)\n",
    "    for val in js[i]:\n",
    "        colnum+=1\n",
    "        sheet.write(rownum,colnum,val)\n",
    "    rownum+=1\n",
    "workbook.save('my_sheet.xls')\n",
    "    \n"
   ]
  },
  {
   "cell_type": "code",
   "execution_count": 162,
   "metadata": {},
   "outputs": [
    {
     "name": "stdout",
     "output_type": "stream",
     "text": [
      "{'1': '上海', '2': '北京', '3': '成都'}\n"
     ]
    }
   ],
   "source": [
    "#将test5.txt内容写到 my_sheet.xls 文件的表test5中\n",
    "f=open(os.getcwd()+'/test5.txt','r').read()\n",
    "j=json.loads(f)\n",
    "print(j)\n",
    "#chuangjian\n",
    "sheet2=workbook.add_sheet('test5')\n",
    "row=0\n",
    "for i in j.keys():\n",
    "    col=0\n",
    "    sheet2.write(row,col,i)\n",
    "    col+=1\n",
    "    sheet2.write(row,col,j[i])\n",
    "    row+=1\n",
    "    \n",
    "workbook.save('my_sheet.xls')"
   ]
  },
  {
   "cell_type": "code",
   "execution_count": 163,
   "metadata": {},
   "outputs": [
    {
     "name": "stdout",
     "output_type": "stream",
     "text": [
      "[[1, 82, 65535], [20, 90, 13], [26, 809, 1024]]\n"
     ]
    }
   ],
   "source": [
    "#将test6.txt内容写到 my_sheet.xls 文件的表test6中\n",
    "f=open(os.getcwd()+'/test6.txt','r').read()\n",
    "j=json.loads(f)\n",
    "print(j)\n",
    "sheet3=workbook.add_sheet('test6')\n",
    "row=0\n",
    "for i in range(0,len(j)):\n",
    "    col=0\n",
    "    for item in j[i]:\n",
    "        sheet3.write(row,col,item)\n",
    "        col+=1\n",
    "    row+=1\n",
    "'''\n",
    "另一种更好的写法\n",
    "rownum = 0\n",
    "colnum = 0\n",
    "for i in range(len(js)):\n",
    "    for j in range(len(js[i])):\n",
    "        sheet.write(i,j,str(js[i][j]))      \n",
    "'''\n",
    "workbook.save('my_sheet.xls')\n",
    "    "
   ]
  },
  {
   "cell_type": "code",
   "execution_count": 169,
   "metadata": {},
   "outputs": [
    {
     "ename": "AttributeError",
     "evalue": "'str' object has no attribute 'load'",
     "output_type": "error",
     "traceback": [
      "\u001b[0;31m---------------------------------------------------------------------------\u001b[0m",
      "\u001b[0;31mAttributeError\u001b[0m                            Traceback (most recent call last)",
      "\u001b[0;32m<ipython-input-169-5819e318932a>\u001b[0m in \u001b[0;36m<module>\u001b[0;34m\u001b[0m\n\u001b[1;32m      2\u001b[0m \u001b[0mdata\u001b[0m \u001b[0;34m=\u001b[0m \u001b[0;34m[\u001b[0m \u001b[0;34m{\u001b[0m \u001b[0;34m'a'\u001b[0m \u001b[0;34m:\u001b[0m \u001b[0;36m1\u001b[0m\u001b[0;34m,\u001b[0m \u001b[0;34m'b'\u001b[0m \u001b[0;34m:\u001b[0m \u001b[0;36m2\u001b[0m\u001b[0;34m,\u001b[0m \u001b[0;34m'c'\u001b[0m \u001b[0;34m:\u001b[0m \u001b[0;36m3\u001b[0m\u001b[0;34m,\u001b[0m \u001b[0;34m'd'\u001b[0m \u001b[0;34m:\u001b[0m \u001b[0;36m4\u001b[0m\u001b[0;34m,\u001b[0m \u001b[0;34m'e'\u001b[0m \u001b[0;34m:\u001b[0m \u001b[0;36m5\u001b[0m \u001b[0;34m}\u001b[0m \u001b[0;34m]\u001b[0m\u001b[0;34m\u001b[0m\u001b[0;34m\u001b[0m\u001b[0m\n\u001b[1;32m      3\u001b[0m \u001b[0mtype\u001b[0m\u001b[0;34m(\u001b[0m\u001b[0mdata\u001b[0m\u001b[0;34m)\u001b[0m\u001b[0;34m\u001b[0m\u001b[0;34m\u001b[0m\u001b[0m\n\u001b[0;32m----> 4\u001b[0;31m \u001b[0mjson1\u001b[0m \u001b[0;34m=\u001b[0m \u001b[0mjson\u001b[0m\u001b[0;34m.\u001b[0m\u001b[0mload\u001b[0m\u001b[0;34m(\u001b[0m\u001b[0mdata\u001b[0m\u001b[0;34m)\u001b[0m\u001b[0;34m\u001b[0m\u001b[0;34m\u001b[0m\u001b[0m\n\u001b[0m\u001b[1;32m      5\u001b[0m \u001b[0mprint\u001b[0m \u001b[0;34m(\u001b[0m\u001b[0mtype\u001b[0m\u001b[0;34m(\u001b[0m\u001b[0mjson1\u001b[0m\u001b[0;34m)\u001b[0m\u001b[0;34m)\u001b[0m\u001b[0;34m\u001b[0m\u001b[0;34m\u001b[0m\u001b[0m\n",
      "\u001b[0;31mAttributeError\u001b[0m: 'str' object has no attribute 'load'"
     ]
    }
   ],
   "source": [
    "#将 my_sheet.xls 中test4 文件中的内容写到 student.xml 文件中\n"
   ]
  },
  {
   "cell_type": "code",
   "execution_count": 175,
   "metadata": {},
   "outputs": [
    {
     "name": "stdout",
     "output_type": "stream",
     "text": [
      "<class 'list'>\n",
      "<class 'str'>\n",
      "[{\"a\": 1, \"b\": 2, \"c\": 3, \"d\": 4, \"e\": 5}]\n"
     ]
    }
   ],
   "source": [
    "import json\n",
    "data = [ { 'a' : 1, 'b' : 2, 'c' : 3, 'd' : 4, 'e' : 5 } ]\n",
    "print(type(data))\n",
    "j = json.dumps(data)\n",
    "print (type(j))\n",
    "print(j)"
   ]
  },
  {
   "cell_type": "code",
   "execution_count": null,
   "metadata": {},
   "outputs": [],
   "source": []
  }
 ],
 "metadata": {
  "kernelspec": {
   "display_name": "Python 3",
   "language": "python",
   "name": "python3"
  },
  "language_info": {
   "codemirror_mode": {
    "name": "ipython",
    "version": 3
   },
   "file_extension": ".py",
   "mimetype": "text/x-python",
   "name": "python",
   "nbconvert_exporter": "python",
   "pygments_lexer": "ipython3",
   "version": "3.7.3"
  }
 },
 "nbformat": 4,
 "nbformat_minor": 2
}
