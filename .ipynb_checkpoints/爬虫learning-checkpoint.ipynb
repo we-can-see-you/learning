{
 "cells": [
  {
   "cell_type": "code",
   "execution_count": null,
   "metadata": {},
   "outputs": [],
   "source": [
    "####请求库\n",
    "\n",
    "import requests\n",
    "#Selenium是一个自动化测试工具，利用它我们可以驱动浏览器执行特定的动作，如点击、下拉等操作。\n",
    "import selenium\n",
    "#aiohttp就是这样一个提供异步Web服务的库\n",
    "import aiohttp"
   ]
  },
  {
   "cell_type": "code",
   "execution_count": null,
   "metadata": {},
   "outputs": [],
   "source": [
    "####解析库\n",
    "\n",
    "import lxml\n",
    "from bs4 import BeautifulSoup\n",
    "import pyquery\n",
    "#用于识别各种图片验证码转换成电子文本 tesserorc\n",
    "import tesserocr"
   ]
  },
  {
   "cell_type": "code",
   "execution_count": null,
   "metadata": {},
   "outputs": [],
   "source": [
    "from PIL import Image\n",
    "image = Image.open('/Users/xwx/image.png')\n",
    "print(tesserocr.image_to_text(image))"
   ]
  },
  {
   "cell_type": "code",
   "execution_count": null,
   "metadata": {},
   "outputs": [],
   "source": [
    "#存储库安装\n",
    "#在Python 3中，如果想要将数据存储到MySQL中，就需要借助PyMySQL来操作\n",
    "import pymysql\n",
    "#在Python中，如果想要和MongoDB进行交互，就需要借助于PyMongo库\n",
    "import pymongo\n",
    "#对于Redis来说，我们要使用redis-py库来与其交互\n",
    "import redis\n",
    "#RedisDump是一个用于Redis数据导入/导出的工具，是基于Ruby实现的\n"
   ]
  },
  {
   "cell_type": "code",
   "execution_count": null,
   "metadata": {},
   "outputs": [],
   "source": [
    "#web库安装\n",
    "\n",
    "#Flask是一个轻量级的Web服务程序\n",
    "import flask\n",
    "#Tornado是一个支持异步的Web框架，通过使用非阻塞I/O流\n",
    "import tornado"
   ]
  },
  {
   "cell_type": "code",
   "execution_count": 1,
   "metadata": {},
   "outputs": [],
   "source": [
    "#APP爬取库安装\n",
    "\n",
    "#mitmproxy是一个支持HTTP和HTTPS的抓包程序\n",
    "import mitmproxy\n"
   ]
  },
  {
   "cell_type": "code",
   "execution_count": 1,
   "metadata": {},
   "outputs": [],
   "source": [
    "#爬虫框架安装\n",
    "import pyspider\n",
    "import "
   ]
  },
  {
   "cell_type": "code",
   "execution_count": 11,
   "metadata": {},
   "outputs": [
    {
     "name": "stdout",
     "output_type": "stream",
     "text": [
      "#!/usr/bin/env python\n",
      "\n"
     ]
    }
   ],
   "source": [
    "import os\n",
    "with open(\"/usr/local/lib/python3.7/site-packages/pyspider/run.py\",'r+') as f:\n",
    "    s = f.read()\n",
    "    s.replace('async', 'aasync_')\n",
    "    f.write(s)\n",
    "   \n",
    "    "
   ]
  },
  {
   "cell_type": "code",
   "execution_count": null,
   "metadata": {},
   "outputs": [],
   "source": []
  }
 ],
 "metadata": {
  "kernelspec": {
   "display_name": "Python 3",
   "language": "python",
   "name": "python3"
  },
  "language_info": {
   "codemirror_mode": {
    "name": "ipython",
    "version": 3
   },
   "file_extension": ".py",
   "mimetype": "text/x-python",
   "name": "python",
   "nbconvert_exporter": "python",
   "pygments_lexer": "ipython3",
   "version": "3.7.3"
  }
 },
 "nbformat": 4,
 "nbformat_minor": 2
}
