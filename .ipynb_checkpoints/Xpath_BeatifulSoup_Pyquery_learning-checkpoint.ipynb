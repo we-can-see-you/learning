{
 "cells": [
  {
   "cell_type": "code",
   "execution_count": 28,
   "metadata": {},
   "outputs": [],
   "source": [
    "from bs4 import BeautifulSoup\n",
    "import lxml\n",
    "#这是一个灵活又方便的网页解析库，处理高效，支持多种解析器\n",
    "#利用它就不用编写正则表达式也能方便的实现网页信息的抓取"
   ]
  },
  {
   "cell_type": "markdown",
   "metadata": {},
   "source": [
    "前情提要：css选择器简介 https://www.w3school.com.cn/cssref/css_selectors.asp"
   ]
  },
  {
   "cell_type": "markdown",
   "metadata": {},
   "source": [
    "# beautifulsoup"
   ]
  },
  {
   "cell_type": "code",
   "execution_count": 29,
   "metadata": {},
   "outputs": [],
   "source": [
    "html = \"\"\"\n",
    "<html><head><title>The Dormouse's story</title></head>\n",
    "<body>\n",
    "<p class=\"title\" name=\"dromouse\"><b>The Dormouse's story</b></p>\n",
    "<p class=\"story\">Once upon a time there were three little sisters; and their names were\n",
    "<a href=\"http://example.com/elsie\" class=\"sister\" id=\"link1\"><!-- Elsie --></a>,\n",
    "<a href=\"http://example.com/lacie\" class=\"sister\" id=\"link2\">Lacie</a> and\n",
    "<a href=\"http://example.com/tillie\" class=\"sister\" id=\"link3\">Tillie</a>;\n",
    "and they lived at the bottom of a well.</p>\n",
    "<p class=\"story\">...</p>\n",
    "\"\"\""
   ]
  },
  {
   "cell_type": "code",
   "execution_count": 31,
   "metadata": {},
   "outputs": [
    {
     "name": "stdout",
     "output_type": "stream",
     "text": [
      "<html>\n",
      " <head>\n",
      "  <title>\n",
      "   The Dormouse's story\n",
      "  </title>\n",
      " </head>\n",
      " <body>\n",
      "  <p class=\"title\" name=\"dromouse\">\n",
      "   <b>\n",
      "    The Dormouse's story\n",
      "   </b>\n",
      "  </p>\n",
      "  <p class=\"story\">\n",
      "   Once upon a time there were three little sisters; and their names were\n",
      "   <a class=\"sister\" href=\"http://example.com/elsie\" id=\"link1\">\n",
      "    <!-- Elsie -->\n",
      "   </a>\n",
      "   ,\n",
      "   <a class=\"sister\" href=\"http://example.com/lacie\" id=\"link2\">\n",
      "    Lacie\n",
      "   </a>\n",
      "   and\n",
      "   <a class=\"sister\" href=\"http://example.com/tillie\" id=\"link3\">\n",
      "    Tillie\n",
      "   </a>\n",
      "   ;\n",
      "and they lived at the bottom of a well.\n",
      "  </p>\n",
      "  <p class=\"story\">\n",
      "   ...\n",
      "  </p>\n",
      " </body>\n",
      "</html>\n"
     ]
    }
   ],
   "source": [
    "#将html解析成html的格式\n",
    "soup= BeautifulSoup(html, 'lxml')\n",
    "#按html的缩进格式输出\n",
    "print(soup.prettify())"
   ]
  },
  {
   "cell_type": "code",
   "execution_count": 41,
   "metadata": {},
   "outputs": [
    {
     "name": "stdout",
     "output_type": "stream",
     "text": [
      "<title>The Dormouse's story</title>\n",
      "The Dormouse's story\n",
      "{'class': ['title'], 'name': 'dromouse'}\n",
      "['title']\n",
      "<p class=\"story\">Once upon a time there were three little sisters; and their names were\n",
      "<a class=\"sister\" href=\"http://example.com/elsie\" id=\"link1\"><!-- Elsie --></a>,\n",
      "<a class=\"sister\" href=\"http://example.com/lacie\" id=\"link2\">Lacie</a> and\n",
      "<a class=\"sister\" href=\"http://example.com/tillie\" id=\"link3\">Tillie</a>;\n",
      "and they lived at the bottom of a well.</p>\n"
     ]
    },
    {
     "data": {
      "text/plain": [
       "\"The Dormouse's story\\n\\nThe Dormouse's story\\nOnce upon a time there were three little sisters; and their names were\\n,\\nLacie and\\nTillie;\\nand they lived at the bottom of a well.\\n...\\n\""
      ]
     },
     "execution_count": 41,
     "metadata": {},
     "output_type": "execute_result"
    }
   ],
   "source": [
    "#返回第一个title标签及其内容\n",
    "print(soup.title)\n",
    "print(soup.title.string)\n",
    "#返回第一个p标签的属性\n",
    "print(soup.p.attrs)#所有属性。字典格式\n",
    "print(soup.p[\"class\"])\n",
    "#p标签下的所有子标签存到一个列表pp中\n",
    "pp=soup.p.contents\n",
    "pp\n",
    "#返回正文\n",
    "t=soup.get_text()\n",
    "t"
   ]
  },
  {
   "cell_type": "code",
   "execution_count": 44,
   "metadata": {},
   "outputs": [
    {
     "name": "stdout",
     "output_type": "stream",
     "text": [
      "<p class=\"story\">Once upon a time there were three little sisters; and their names were\n",
      "<a class=\"sister\" href=\"http://example.com/elsie\" id=\"link1\"><!-- Elsie --></a>,\n",
      "<a class=\"sister\" href=\"http://example.com/lacie\" id=\"link2\">Lacie</a> and\n",
      "<a class=\"sister\" href=\"http://example.com/tillie\" id=\"link3\">Tillie</a>;\n",
      "and they lived at the bottom of a well.</p>\n",
      "[(0, <p class=\"story\">Once upon a time there were three little sisters; and their names were\n",
      "<a class=\"sister\" href=\"http://example.com/elsie\" id=\"link1\"><!-- Elsie --></a>,\n",
      "<a class=\"sister\" href=\"http://example.com/lacie\" id=\"link2\">Lacie</a> and\n",
      "<a class=\"sister\" href=\"http://example.com/tillie\" id=\"link3\">Tillie</a>;\n",
      "and they lived at the bottom of a well.</p>), (1, <body>\n",
      "<p class=\"title\" name=\"dromouse\"><b>The Dormouse's story</b></p>\n",
      "<p class=\"story\">Once upon a time there were three little sisters; and their names were\n",
      "<a class=\"sister\" href=\"http://example.com/elsie\" id=\"link1\"><!-- Elsie --></a>,\n",
      "<a class=\"sister\" href=\"http://example.com/lacie\" id=\"link2\">Lacie</a> and\n",
      "<a class=\"sister\" href=\"http://example.com/tillie\" id=\"link3\">Tillie</a>;\n",
      "and they lived at the bottom of a well.</p>\n",
      "<p class=\"story\">...</p>\n",
      "</body>), (2, <html><head><title>The Dormouse's story</title></head>\n",
      "<body>\n",
      "<p class=\"title\" name=\"dromouse\"><b>The Dormouse's story</b></p>\n",
      "<p class=\"story\">Once upon a time there were three little sisters; and their names were\n",
      "<a class=\"sister\" href=\"http://example.com/elsie\" id=\"link1\"><!-- Elsie --></a>,\n",
      "<a class=\"sister\" href=\"http://example.com/lacie\" id=\"link2\">Lacie</a> and\n",
      "<a class=\"sister\" href=\"http://example.com/tillie\" id=\"link3\">Tillie</a>;\n",
      "and they lived at the bottom of a well.</p>\n",
      "<p class=\"story\">...</p>\n",
      "</body></html>), (3, <html><head><title>The Dormouse's story</title></head>\n",
      "<body>\n",
      "<p class=\"title\" name=\"dromouse\"><b>The Dormouse's story</b></p>\n",
      "<p class=\"story\">Once upon a time there were three little sisters; and their names were\n",
      "<a class=\"sister\" href=\"http://example.com/elsie\" id=\"link1\"><!-- Elsie --></a>,\n",
      "<a class=\"sister\" href=\"http://example.com/lacie\" id=\"link2\">Lacie</a> and\n",
      "<a class=\"sister\" href=\"http://example.com/tillie\" id=\"link3\">Tillie</a>;\n",
      "and they lived at the bottom of a well.</p>\n",
      "<p class=\"story\">...</p>\n",
      "</body></html>)]\n",
      "Next Sibling ,\n",
      "\n",
      "Prev Sibling Once upon a time there were three little sisters; and their names were\n",
      "\n"
     ]
    }
   ],
   "source": [
    "print(soup.a.parent)#父节点\n",
    "print(list(enumerate(soup.a.parents)))#父节点、祖父节点等等，是一个迭代器，准换成list输出\n",
    "print('Next Sibling', soup.a.next_sibling)#下一个兄弟节点\n",
    "print('Prev Sibling', soup.a.previous_sibling)#上一个兄弟节点"
   ]
  },
  {
   "cell_type": "code",
   "execution_count": 47,
   "metadata": {},
   "outputs": [
    {
     "name": "stdout",
     "output_type": "stream",
     "text": [
      "['Hello, this is a link', 'Hello, this is a link, too']\n"
     ]
    },
    {
     "data": {
      "text/plain": [
       "'\\nfind_parents()和find_parent()：前者返回所有祖先节点，后者返回直接父节点。\\nfind_next_siblings()和find_next_sibling()：前者返回后面所有的兄弟节点，后者返回后面第一个兄弟节点。\\nfind_previous_siblings()和find_previous_sibling()：前者返回前面所有的兄弟节点，后者返回前面第一个兄弟节点。\\nfind_all_next()和find_next()：前者返回节点后所有符合条件的节点，后者返回第一个符合条件的节点。\\nfind_all_previous()和find_previous()：前者返回节点后所有符合条件的节点，后者返回第一个符合条件的节点。\\n'"
      ]
     },
     "execution_count": 47,
     "metadata": {},
     "output_type": "execute_result"
    }
   ],
   "source": [
    "#方法选择器\n",
    "#根据标签、内容、属性筛选文档（若把find all换成find就是指输出匹配的第一个）\n",
    "ss=soup.findAll('a',{'class':\"sister\"})\n",
    "for u in ss:\n",
    "    print(u[\"href\"])\n",
    "\n",
    "    \n",
    "import re\n",
    "html='''\n",
    "<div class=\"panel\">\n",
    "    <div class=\"panel-body\">\n",
    "        <a>Hello, this is a link</a>\n",
    "        <a>Hello, this is a link, too</a>\n",
    "    </div>\n",
    "</div>\n",
    "'''\n",
    "soup = BeautifulSoup(html, 'lxml')\n",
    "print(soup.find_all(text=re.compile('link')))\n",
    "\n",
    "'''\n",
    "find_parents()和find_parent()：前者返回所有祖先节点，后者返回直接父节点。\n",
    "find_next_siblings()和find_next_sibling()：前者返回后面所有的兄弟节点，后者返回后面第一个兄弟节点。\n",
    "find_previous_siblings()和find_previous_sibling()：前者返回前面所有的兄弟节点，后者返回前面第一个兄弟节点。\n",
    "find_all_next()和find_next()：前者返回节点后所有符合条件的节点，后者返回第一个符合条件的节点。\n",
    "find_all_previous()和find_previous()：前者返回节点后所有符合条件的节点，后者返回第一个符合条件的节点。\n",
    "'''"
   ]
  },
  {
   "cell_type": "markdown",
   "metadata": {},
   "source": [
    "# Xpath"
   ]
  },
  {
   "cell_type": "code",
   "execution_count": 3,
   "metadata": {},
   "outputs": [],
   "source": [
    "text = '''\n",
    "<div>\n",
    "    <ul>\n",
    "         <li class=\"item-0\"><a href=\"link1.html\">first item</a></li>\n",
    "         <li class=\"item-1\"><a href=\"link2.html\">second item</a></li>\n",
    "         <li class=\"item-inactive\"><a href=\"link3.html\">third item</a></li>\n",
    "         <li class=\"item-1\"><a href=\"link4.html\">fourth item</a></li>\n",
    "         <li class=\"item-0\"><a href=\"link5.html\">fifth item</a>\n",
    "     </ul>\n",
    " </div>\n",
    "'''"
   ]
  },
  {
   "cell_type": "code",
   "execution_count": 5,
   "metadata": {},
   "outputs": [
    {
     "name": "stdout",
     "output_type": "stream",
     "text": [
      "<html><body><div>\n",
      "    <ul>\n",
      "         <li class=\"item-0\"><a href=\"link1.html\">first item</a></li>\n",
      "         <li class=\"item-1\"><a href=\"link2.html\">second item</a></li>\n",
      "         <li class=\"item-inactive\"><a href=\"link3.html\">third item</a></li>\n",
      "         <li class=\"item-1\"><a href=\"link4.html\">fourth item</a></li>\n",
      "         <li class=\"item-0\"><a href=\"link5.html\">fifth item</a>\n",
      "     </li></ul>\n",
      " </div>\n",
      "</body></html>\n"
     ]
    }
   ],
   "source": [
    "#对网页进行解析\n",
    "#构造html对象\n",
    "html = lxml.etree.HTML(text)\n",
    "#修正html代码\n",
    "result=lxml.etree.tostring(html)\n",
    "#修正后的结果是bytes，将之转换成str\n",
    "print(result.decode('utf-8'))"
   ]
  },
  {
   "cell_type": "code",
   "execution_count": 19,
   "metadata": {},
   "outputs": [
    {
     "name": "stdout",
     "output_type": "stream",
     "text": [
      "[<Element html at 0x10cbdad48>, <Element body at 0x10d533e88>, <Element div at 0x10d533ec8>, <Element ul at 0x10d533f08>, <Element li at 0x10d533f48>, <Element a at 0x10d533fc8>, <Element li at 0x10d53c048>, <Element a at 0x10d53c088>, <Element li at 0x10d53c0c8>, <Element a at 0x10d533f88>, <Element li at 0x10d53c108>, <Element a at 0x10d53c148>, <Element li at 0x10d53c188>, <Element a at 0x10d53c1c8>]\n",
      "[<Element li at 0x10d533e88>, <Element li at 0x10d533ec8>, <Element li at 0x10d533f08>, <Element li at 0x10d533f48>, <Element li at 0x10d533fc8>]\n",
      "[<Element a at 0x10d533f88>, <Element a at 0x10d533e88>, <Element a at 0x10d533ec8>, <Element a at 0x10d533f08>, <Element a at 0x10d533f48>]\n",
      "[<Element a at 0x10d533fc8>, <Element a at 0x10d533f88>, <Element a at 0x10d533e88>, <Element a at 0x10d533ec8>, <Element a at 0x10d533f08>]\n",
      "[<Element li at 0x10d533f48>, <Element li at 0x10d533fc8>]\n",
      "['item-1']\n",
      "['first item']\n"
     ]
    }
   ],
   "source": [
    "#获取指定的节点\n",
    "print(html.xpath('//*'))#*代表所有节点\n",
    "print(html.xpath('//li'))#获取li节点\n",
    "#/代表子节点，//代表子孙节点\n",
    "print(html.xpath('//li/a'))#获取li节点下的所有子节点a\n",
    "print(html.xpath('//ul//a'))#获取ul节点下的所有子孙节点a\n",
    "print(html.xpath('//li[@class=\"item-0\"]'))\n"
   ]
  },
  {
   "cell_type": "code",
   "execution_count": 20,
   "metadata": {},
   "outputs": [
    {
     "name": "stdout",
     "output_type": "stream",
     "text": [
      "['item-1']\n",
      "['first item']\n"
     ]
    }
   ],
   "source": [
    "#属性获取\n",
    "print(html.xpath('//a[@href=\"link4.html\"]/../@class'))#现在首先选中href属性为link4.html的a节点，然后再获取其父节点，然后再获取其class属性\n",
    "#属性多值匹配\n",
    "text = '''\n",
    "<li class=\"li li-first\"><a href=\"link.html\">first item</a></li>\n",
    "'''\n",
    "html1 = lxml.etree.HTML(text)\n",
    "print(html1.xpath('//li[contains(@class,\"li\")]/a/text()'))"
   ]
  },
  {
   "cell_type": "code",
   "execution_count": 17,
   "metadata": {},
   "outputs": [
    {
     "name": "stdout",
     "output_type": "stream",
     "text": [
      "['\\n     ']\n",
      "['first item', 'fifth item', '\\n     ']\n"
     ]
    }
   ],
   "source": [
    "#获取节点内容\n",
    "print(html.xpath('//li[@class=\"item-0\"]/text()'))\n",
    "print(html.xpath('//li[@class=\"item-0\"]//text()'))\n",
    "#注意区别，因为li标签内的内容都是藏在a标签中的因此用第一种方式找不到内容"
   ]
  },
  {
   "cell_type": "code",
   "execution_count": 22,
   "metadata": {},
   "outputs": [
    {
     "name": "stdout",
     "output_type": "stream",
     "text": [
      "['first item']\n",
      "['fifth item']\n",
      "['first item', 'second item']\n",
      "['third item']\n"
     ]
    }
   ],
   "source": [
    "#按序选择（其中索引号从1开始）\n",
    "result = html.xpath('//li[1]/a/text()')#第一个\n",
    "print(result)\n",
    "result = html.xpath('//li[last()]/a/text()')#最后一个\n",
    "print(result)\n",
    "result = html.xpath('//li[position()<3]/a/text()')#位置序号小于3\n",
    "print(result)\n",
    "result = html.xpath('//li[last()-2]/a/text()')#倒数第三个\n",
    "print(result)"
   ]
  },
  {
   "cell_type": "code",
   "execution_count": 11,
   "metadata": {},
   "outputs": [
    {
     "data": {
      "text/plain": [
       "'\\nnodename\\n选取此节点的所有子节点\\n\\n/\\n从当前节点选取直接子节点\\n\\n//\\n从当前节点选取子孙节点\\n\\n.\\n选取当前节点\\n\\n..\\n选取当前节点的父节点\\n\\n@\\n选取属性\\n'"
      ]
     },
     "execution_count": 11,
     "metadata": {},
     "output_type": "execute_result"
    }
   ],
   "source": [
    "'''\n",
    "xpath常用规则\n",
    "\n",
    "nodename\n",
    "选取此节点的所有子节点\n",
    "\n",
    "/\n",
    "从当前节点选取直接子节点\n",
    "\n",
    "//\n",
    "从当前节点选取子孙节点\n",
    "\n",
    ".\n",
    "选取当前节点\n",
    "\n",
    "..\n",
    "选取当前节点的父节点\n",
    "\n",
    "@\n",
    "选取属性\n",
    "\n",
    "text()\n",
    "获取节点中的文本\n",
    "'''"
   ]
  },
  {
   "cell_type": "markdown",
   "metadata": {},
   "source": [
    "# pyquery"
   ]
  },
  {
   "cell_type": "code",
   "execution_count": 66,
   "metadata": {},
   "outputs": [],
   "source": [
    "html = '''\n",
    "<div id=\"container\">\n",
    "    <ul class=\"list\">\n",
    "         <li class=\"item-0\">first item</li>\n",
    "         <li class=\"item-1\"><a href=\"link2.html\">second item</a></li>\n",
    "         <li class=\"item-0 active\"><a href=\"link3.html\"><span class=\"bold\">third item</span></a></li>\n",
    "         <li class=\"item-1 active\"><a href=\"link4.html\">fourth item</a></li>\n",
    "         <p class=\"item-0\"><a href=\"link5.html\">fifth item</a></p>\n",
    "     </ul>\n",
    " </div>\n",
    "'''"
   ]
  },
  {
   "cell_type": "code",
   "execution_count": 67,
   "metadata": {},
   "outputs": [
    {
     "name": "stdout",
     "output_type": "stream",
     "text": [
      "<li class=\"item-0\">first item</li>\n",
      "         <li class=\"item-1\"><a href=\"link2.html\">second item</a></li>\n",
      "         <li class=\"item-0 active\"><a href=\"link3.html\"><span class=\"bold\">third item</span></a></li>\n",
      "         <li class=\"item-1 active\"><a href=\"link4.html\">fourth item</a></li>\n",
      "         \n"
     ]
    }
   ],
   "source": [
    "from pyquery import PyQuery as pq\n",
    "#初始化对象\n",
    "doc = pq(html)#也可以通过doc = pq(filename='demo.html')将本地文件初始化\n",
    "print(doc('li'))"
   ]
  },
  {
   "cell_type": "code",
   "execution_count": 73,
   "metadata": {},
   "outputs": [
    {
     "name": "stdout",
     "output_type": "stream",
     "text": [
      "<li class=\"item-0\">first item</li>\n",
      "         <li class=\"item-0 active\"><a href=\"link3.html\"><span class=\"bold\">third item</span></a></li>\n",
      "         <p class=\"item-0\"><a href=\"link5.html\">fifth item</a></p>\n",
      "     \n",
      "<a href=\"link3.html\"><span class=\"bold\">third item</span></a><a href=\"link5.html\">fifth item</a>\n",
      "<ul class=\"list\">\n",
      "         <li class=\"item-0\">first item</li>\n",
      "         <li class=\"item-1\"><a href=\"link2.html\">second item</a></li>\n",
      "         <li class=\"item-0 active\"><a href=\"link3.html\"><span class=\"bold\">third item</span></a></li>\n",
      "         <li class=\"item-1 active\"><a href=\"link4.html\">fourth item</a></li>\n",
      "         <p class=\"item-0\"><a href=\"link5.html\">fifth item</a></p>\n",
      "     </ul>\n",
      " \n"
     ]
    }
   ],
   "source": [
    "#查找节点（利用css选择器）\n",
    "items=doc('.list .item-0')\n",
    "print(items)\n",
    "print(items.children())#查找子节点\n",
    "print(items.parent())#查找父节点\n"
   ]
  },
  {
   "cell_type": "code",
   "execution_count": 74,
   "metadata": {},
   "outputs": [
    {
     "name": "stdout",
     "output_type": "stream",
     "text": [
      "<class 'generator'>\n",
      "<li class=\"item-0\">first item</li>\n",
      "          <class 'pyquery.pyquery.PyQuery'>\n",
      "<li class=\"item-1\"><a href=\"link2.html\">second item</a></li>\n",
      "          <class 'pyquery.pyquery.PyQuery'>\n",
      "<li class=\"item-0 active\"><a href=\"link3.html\"><span class=\"bold\">third item</span></a></li>\n",
      "          <class 'pyquery.pyquery.PyQuery'>\n",
      "<li class=\"item-1 active\"><a href=\"link4.html\">fourth item</a></li>\n",
      "          <class 'pyquery.pyquery.PyQuery'>\n"
     ]
    }
   ],
   "source": [
    "#遍历\n",
    "lis = doc('li').items()#返回多个节点时并不像美丽汤可以生成列表，因此调用items得到生成器\n",
    "print(type(lis))\n",
    "for li in lis:\n",
    "    print(li, type(li))"
   ]
  },
  {
   "cell_type": "code",
   "execution_count": 77,
   "metadata": {},
   "outputs": [
    {
     "name": "stdout",
     "output_type": "stream",
     "text": [
      "<a href=\"link3.html\"><span class=\"bold\">third item</span></a> <class 'pyquery.pyquery.PyQuery'>\n",
      "link3.html\n",
      "link2.html\n",
      "link3.html\n",
      "link4.html\n",
      "link5.html\n"
     ]
    }
   ],
   "source": [
    "#获取属性\n",
    "a = doc('.item-0.active a')\n",
    "print(a, type(a))\n",
    "print(a.attr('href'))\n",
    "\n",
    "#获取多个节点的属性，必须用遍历\n",
    "a = doc('a')\n",
    "for item in a.items():\n",
    "    print(item.attr('href'))"
   ]
  },
  {
   "cell_type": "code",
   "execution_count": 80,
   "metadata": {},
   "outputs": [
    {
     "name": "stdout",
     "output_type": "stream",
     "text": [
      "<a href=\"link3.html\"><span class=\"bold\">third item</span></a>\n",
      "third item\n",
      "<span class=\"bold\">third item</span>\n"
     ]
    }
   ],
   "source": [
    "#获取文本\n",
    "a = doc('.item-0.active a')\n",
    "print(a)\n",
    "print(a.text())\n",
    "print(a.html())#获取html文本"
   ]
  },
  {
   "cell_type": "code",
   "execution_count": 90,
   "metadata": {},
   "outputs": [
    {
     "name": "stdout",
     "output_type": "stream",
     "text": [
      "<li class=\"item-0 active\"><a href=\"link3.html\"><span class=\"bold\">third item</span></a></li>\n",
      "             \n",
      "<li class=\"item-0\"><a href=\"link3.html\"><span class=\"bold\">third item</span></a></li>\n",
      "             \n",
      "<li class=\"item-0 active\"><a href=\"link3.html\"><span class=\"bold\">third item</span></a></li>\n",
      "             \n"
     ]
    }
   ],
   "source": [
    "#节点操作\n",
    "html = '''\n",
    "<div class=\"wrap\">\n",
    "    <div id=\"container\">\n",
    "        <ul class=\"list\">\n",
    "             <li class=\"item-0\">first item</li>\n",
    "             <li class=\"item-1\"><a href=\"link2.html\">second item</a></li>\n",
    "             <li class=\"item-0 active\"><a href=\"link3.html\"><span class=\"bold\">third item</span></a></li>\n",
    "             <li class=\"item-1 active\"><a href=\"link4.html\">fourth item</a></li>\n",
    "             <p class=\"item-0\"><a href=\"link5.html\">fifth item</a></li>\n",
    "         </ul>\n",
    "     </div>\n",
    " </div>\n",
    "'''\n",
    "from pyquery import PyQuery as pq\n",
    "doc = pq(html)\n",
    "li = doc('.item-0.active')\n",
    "print(li)\n",
    "li.removeClass('active')#删除class\n",
    "print(li)\n",
    "li.addClass('active')#加回来\n",
    "print(li)\n"
   ]
  },
  {
   "cell_type": "code",
   "execution_count": 91,
   "metadata": {
    "scrolled": true
   },
   "outputs": [
    {
     "name": "stdout",
     "output_type": "stream",
     "text": [
      "<li class=\"item-0 active\"><a href=\"link3.html\"><span class=\"bold\">third item</span></a></li>\n",
      "             \n",
      "<li class=\"item-0 active\" name=\"link\"><a href=\"link3.html\"><span class=\"bold\">third item</span></a></li>\n",
      "             \n",
      "<li class=\"item-0 active\" name=\"link\">changed item</li>\n",
      "             \n",
      "<li class=\"item-0 active\" name=\"link\"><span>changed item</span></li>\n"
     ]
    }
   ],
   "source": [
    "li = doc('.item-0.active')\n",
    "print(li)\n",
    "li.attr('name', 'link')#增加属性名，属性值\n",
    "print(li)\n",
    "li.text('changed item')#修改内容\n",
    "print(li)\n",
    "li.html('<span>changed item</span>')\n",
    "print(li)"
   ]
  },
  {
   "cell_type": "code",
   "execution_count": 92,
   "metadata": {},
   "outputs": [
    {
     "name": "stdout",
     "output_type": "stream",
     "text": [
      "<li class=\"item-0\">first item</li>\n",
      "             <li class=\"item-1\"><a href=\"link2.html\">second item</a></li>\n",
      "             <li class=\"item-0 active\" name=\"link\"><span>changed item</span></li><li class=\"item-1 active\"><a href=\"link4.html\">fourth item</a></li>\n",
      "             <p class=\"item-0\"><a href=\"link5.html\">fifth item</a>\n",
      "         </p>\n",
      "<li class=\"item-0\">first item</li>\n",
      "             <li class=\"item-1\"><a href=\"link2.html\">second item</a></li>\n",
      "             <li class=\"item-0 active\" name=\"link\"><span>changed item</span></li><li class=\"item-1 active\"><a href=\"link4.html\">fourth item</a></li>\n",
      "             \n"
     ]
    }
   ],
   "source": [
    "wrap=doc('.list')\n",
    "print(wrap.children())\n",
    "\n",
    "wrap.find('p').remove()#删除p节点\n",
    "print(wrap.children())"
   ]
  },
  {
   "cell_type": "code",
   "execution_count": null,
   "metadata": {},
   "outputs": [],
   "source": []
  }
 ],
 "metadata": {
  "kernelspec": {
   "display_name": "Python 3",
   "language": "python",
   "name": "python3"
  },
  "language_info": {
   "codemirror_mode": {
    "name": "ipython",
    "version": 3
   },
   "file_extension": ".py",
   "mimetype": "text/x-python",
   "name": "python",
   "nbconvert_exporter": "python",
   "pygments_lexer": "ipython3",
   "version": "3.7.3"
  }
 },
 "nbformat": 4,
 "nbformat_minor": 2
}
