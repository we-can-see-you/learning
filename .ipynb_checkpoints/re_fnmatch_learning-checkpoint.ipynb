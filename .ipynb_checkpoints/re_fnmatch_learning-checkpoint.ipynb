{
 "cells": [
  {
   "cell_type": "markdown",
   "metadata": {},
   "source": [
    "# 正则化\n",
    "判断某字符串是否符合某种规则\n"
   ]
  },
  {
   "cell_type": "code",
   "execution_count": null,
   "metadata": {},
   "outputs": [],
   "source": [
    "import re"
   ]
  },
  {
   "cell_type": "code",
   "execution_count": 4,
   "metadata": {},
   "outputs": [],
   "source": [
    "#是否匹配\n",
    "re.match(r'^\\d{3}\\-\\d{3,8}$', '010-12345')#匹配\n",
    "re.match(r'^\\d{3}\\-\\d{3,8}$', '01012345')#不匹配，返回 none"
   ]
  },
  {
   "cell_type": "code",
   "execution_count": 11,
   "metadata": {},
   "outputs": [
    {
     "data": {
      "text/plain": [
       "['a', 'b', 'c', 'd']"
      ]
     },
     "execution_count": 11,
     "metadata": {},
     "output_type": "execute_result"
    }
   ],
   "source": [
    "#切分字符串\n",
    "re.split(r'[\\:\\s]','a b:c::d')#\\s表示空格，每一个空格或：切分一次\n",
    "re.split(r'[\\s\\,]+', 'a,b, c  d')#无论几个空格或：都切分一次"
   ]
  },
  {
   "cell_type": "code",
   "execution_count": 16,
   "metadata": {},
   "outputs": [
    {
     "data": {
      "text/plain": [
       "'23'"
      ]
     },
     "execution_count": 16,
     "metadata": {},
     "output_type": "execute_result"
    }
   ],
   "source": [
    "#分组\n",
    "m=re.match(r'(^\\d{1,3})\\:(\\d{1,6}$)','23:1234')#一个()代表一组，分组情况会放在groups方法中，group(0)永远是原始字符串，group(1)、group(2)……表示第1、2、……个子串\n",
    "m.groups()\n",
    "m.group(1)\n",
    "\n"
   ]
  },
  {
   "cell_type": "code",
   "execution_count": 47,
   "metadata": {},
   "outputs": [
    {
     "name": "stdout",
     "output_type": "stream",
     "text": [
      "a-b-c-d-e\n"
     ]
    }
   ],
   "source": [
    "#替换 re.sub(pattern, repl, string, count)repl代表替换后的字符，count代表替换的个数默认全部替换\n",
    "str1='a  b c d e'\n",
    "print(re.sub(r'\\s+','-',str1))"
   ]
  },
  {
   "cell_type": "markdown",
   "metadata": {},
   "source": [
    "# 正则表达式\n",
    "与re类似，用于处理文件的正则"
   ]
  },
  {
   "cell_type": "code",
   "execution_count": 29,
   "metadata": {},
   "outputs": [],
   "source": [
    "import fnmatch\n",
    "import os"
   ]
  },
  {
   "cell_type": "code",
   "execution_count": 30,
   "metadata": {},
   "outputs": [
    {
     "data": {
      "text/plain": [
       "'/Users/xwx/Desktop/learning'"
      ]
     },
     "execution_count": 30,
     "metadata": {},
     "output_type": "execute_result"
    }
   ],
   "source": [
    "os.getcwd()"
   ]
  },
  {
   "cell_type": "code",
   "execution_count": 42,
   "metadata": {},
   "outputs": [
    {
     "name": "stdout",
     "output_type": "stream",
     "text": [
      "True\n",
      "False\n",
      "True\n",
      "False\n",
      "False\n",
      "False\n",
      "False\n",
      "False\n",
      "False\n",
      "False\n",
      "False\n",
      "False\n",
      "False\n",
      "False\n",
      "False\n",
      "False\n",
      "False\n",
      "False\n",
      "False\n",
      "False\n",
      "['argparse_usage.py', 'teat.py']\n",
      "(?s:.*\\.py)\\Z\n"
     ]
    }
   ],
   "source": [
    "for file in os.listdir(os.getcwd()):\n",
    "    print(fnmatch.fnmatch(file,'*.py'))#判断文件是否以.py结尾，别忘了加*\n",
    "\n",
    "print(fnmatch.filter(os.listdir(os.getcwd()),'*.py'))#返回列表中以.py结尾的文件\n",
    "\n",
    "print(fnmatch.translate('*.py'))#转换成re正则表达式中的pattern\n",
    "    "
   ]
  },
  {
   "cell_type": "code",
   "execution_count": null,
   "metadata": {},
   "outputs": [],
   "source": []
  }
 ],
 "metadata": {
  "kernelspec": {
   "display_name": "Python 3",
   "language": "python",
   "name": "python3"
  },
  "language_info": {
   "codemirror_mode": {
    "name": "ipython",
    "version": 3
   },
   "file_extension": ".py",
   "mimetype": "text/x-python",
   "name": "python",
   "nbconvert_exporter": "python",
   "pygments_lexer": "ipython3",
   "version": "3.7.3"
  }
 },
 "nbformat": 4,
 "nbformat_minor": 2
}
