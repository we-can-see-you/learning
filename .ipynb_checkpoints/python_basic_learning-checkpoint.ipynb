{
 "cells": [
  {
   "cell_type": "markdown",
   "metadata": {},
   "source": [
    "# list\n",
    "有序的列表，可随时添加和删除"
   ]
  },
  {
   "cell_type": "code",
   "execution_count": 45,
   "metadata": {},
   "outputs": [],
   "source": [
    "c=['mike','Amy','Tony']"
   ]
  },
  {
   "cell_type": "code",
   "execution_count": 46,
   "metadata": {},
   "outputs": [
    {
     "name": "stdout",
     "output_type": "stream",
     "text": [
      "mike\n",
      "Tony\n"
     ]
    }
   ],
   "source": [
    "#访问c中的任意元素\n",
    "print(c[0])\n",
    "print(c[-1])"
   ]
  },
  {
   "cell_type": "code",
   "execution_count": 48,
   "metadata": {},
   "outputs": [
    {
     "name": "stdout",
     "output_type": "stream",
     "text": [
      "['mike', 'Jack', 'Amy', 'Tony', 'Anglebaby']\n"
     ]
    }
   ],
   "source": [
    "#增加元素\n",
    "c.append('Anglebaby')#默认增加到末尾\n",
    "c.insert(1,'Jack')#插入到任意位置，1代表索引值\n",
    "print(c)"
   ]
  },
  {
   "cell_type": "code",
   "execution_count": 49,
   "metadata": {
    "scrolled": true
   },
   "outputs": [
    {
     "name": "stdout",
     "output_type": "stream",
     "text": [
      "Amy\n",
      "['mike', 'Jack', 'Anglebaby']\n",
      "['mike', 'Anglebaby']\n"
     ]
    }
   ],
   "source": [
    "#删除元素\n",
    "#pop方法使得被删除的元素可以接着使用\n",
    "b=c.pop(2)#删除Amy\n",
    "print(b)\n",
    "#del方法删掉后即不能再用\n",
    "del c[2] #删除tony\n",
    "print(c)\n",
    "#remove知道要删除的值\n",
    "c.remove('Jack')\n",
    "print(c)"
   ]
  },
  {
   "cell_type": "code",
   "execution_count": 53,
   "metadata": {},
   "outputs": [
    {
     "name": "stdout",
     "output_type": "stream",
     "text": [
      "['Anglebaby', 'mike']\n",
      "['Anglebaby', 'mike']\n"
     ]
    }
   ],
   "source": [
    "#排序\n",
    "#sorted临时排序\n",
    "print(sorted(c))\n",
    "#永久性排序\n",
    "c.sort()\n",
    "print(c)"
   ]
  },
  {
   "cell_type": "code",
   "execution_count": 61,
   "metadata": {},
   "outputs": [
    {
     "data": {
      "text/plain": [
       "[1, 9, 25, 49, 81]"
      ]
     },
     "execution_count": 61,
     "metadata": {},
     "output_type": "execute_result"
    }
   ],
   "source": [
    "#列表解析\n",
    "s=[value**2 for value in range(1,11,2)]\n",
    "s"
   ]
  },
  {
   "cell_type": "code",
   "execution_count": 56,
   "metadata": {},
   "outputs": [
    {
     "data": {
      "text/plain": [
       "[1, 3, 5, 7, 9]"
      ]
     },
     "execution_count": 56,
     "metadata": {},
     "output_type": "execute_result"
    }
   ],
   "source": [
    "#创建数字列表\n",
    "p=list(range(1,11,2))#range(start,end,step)\n",
    "p"
   ]
  },
  {
   "cell_type": "code",
   "execution_count": 59,
   "metadata": {},
   "outputs": [
    {
     "name": "stdout",
     "output_type": "stream",
     "text": [
      "[3]\n",
      "[1, 3]\n",
      "[5, 7, 9]\n",
      "[3, 5, 7]\n",
      "[9, 7, 5, 3, 1]\n",
      "[1, 5, 9]\n"
     ]
    }
   ],
   "source": [
    "#列表切片p[start:end:step]\n",
    "print(p[1:2])#从索引1的值开始，到索引2的前一个结束（不包括索引2）\n",
    "print(p[:2])#默认从列表开头开始\n",
    "print(p[2:])#从索引2开始到列表末尾结束\n",
    "print(p[1:-1])#负数代表从后往前数，-1代表最后一个元素\n",
    "print(p[::-1])\n",
    "print(p[::2])"
   ]
  },
  {
   "cell_type": "markdown",
   "metadata": {},
   "source": [
    "# tuple\n",
    "有序列表，不可修改\n"
   ]
  },
  {
   "cell_type": "code",
   "execution_count": null,
   "metadata": {},
   "outputs": [],
   "source": [
    "s=(\"ma\",\"dad\",'baby')"
   ]
  },
  {
   "cell_type": "markdown",
   "metadata": {},
   "source": [
    "# dic\n",
    "使用键—值对存储数据"
   ]
  },
  {
   "cell_type": "code",
   "execution_count": 15,
   "metadata": {},
   "outputs": [],
   "source": [
    "d={\n",
    "    '5':90,\n",
    "    \"6\":75,\n",
    "    '7':95,\n",
    "    '8':85}"
   ]
  },
  {
   "cell_type": "code",
   "execution_count": 16,
   "metadata": {},
   "outputs": [
    {
     "data": {
      "text/plain": [
       "['6', '7', '8']"
      ]
     },
     "execution_count": 16,
     "metadata": {},
     "output_type": "execute_result"
    }
   ],
   "source": [
    "#删除键值对\n",
    "del d[\"5\"]\n"
   ]
  },
  {
   "cell_type": "code",
   "execution_count": 90,
   "metadata": {},
   "outputs": [
    {
     "name": "stdout",
     "output_type": "stream",
     "text": [
      "\n",
      "name:Bob ,grade:75\n",
      "\n",
      "name:Tracy ,grade:85\n",
      "\n",
      "name:Mike ,grade:85\n",
      "\n",
      "Hi,Mike! your grade is:85\n",
      "75\n",
      "85\n",
      "85\n"
     ]
    },
    {
     "data": {
      "text/plain": [
       "{75, 85}"
      ]
     },
     "execution_count": 90,
     "metadata": {},
     "output_type": "execute_result"
    }
   ],
   "source": [
    "#遍历字典\n",
    "#遍历键值对\n",
    "for name,grade in d.items():\n",
    "    print('\\nname:'+ name+' ,grade:'+str(grade))\n",
    "\n",
    "#遍历所有键\n",
    "people=['Tony','Mike']\n",
    "for name in people:\n",
    "    if name in d.keys():\n",
    "        print(\"\\nHi,\"+name+\"! your grade is:\"+str(d[name]))\n",
    "\n",
    "#遍历所有值\n",
    "for grade in d.values():\n",
    "    print(grade)\n",
    " #去重\n",
    "set(d.values())\n",
    "    \n"
   ]
  },
  {
   "cell_type": "markdown",
   "metadata": {},
   "source": [
    "# set"
   ]
  },
  {
   "cell_type": "code",
   "execution_count": 3,
   "metadata": {},
   "outputs": [
    {
     "data": {
      "text/plain": [
       "{0, 1, 2}"
      ]
     },
     "execution_count": 3,
     "metadata": {},
     "output_type": "execute_result"
    }
   ],
   "source": [
    "s = {0, 1}\n",
    "s|={1,2}\n",
    "s"
   ]
  },
  {
   "cell_type": "markdown",
   "metadata": {},
   "source": [
    "# 函数"
   ]
  },
  {
   "cell_type": "code",
   "execution_count": 97,
   "metadata": {},
   "outputs": [
    {
     "name": "stdout",
     "output_type": "stream",
     "text": [
      "make a (17)-inch pizza with the following toppiongs:\n",
      "\n",
      "mushroom\n",
      "\n",
      "extra cheese\n"
     ]
    }
   ],
   "source": [
    "#可变参数\n",
    "#*toppings是可变参数，可变参数允许传入0个或任意个参数，这些可变参数在函数调用时自动组装为一个tuple\n",
    "#定义函数时，size类型的形参必须放在可变参数后面\n",
    "def make_pizza(size,*toppings):\n",
    "    print(\"make a (%s)-inch pizza with the following toppiongs:\" %size)\n",
    "    for toping in toppings:\n",
    "        print(\"\\n\"+toping)\n",
    "        \n",
    "make_pizza(17,'mushroom','extra cheese')"
   ]
  },
  {
   "cell_type": "code",
   "execution_count": 109,
   "metadata": {},
   "outputs": [
    {
     "name": "stdout",
     "output_type": "stream",
     "text": [
      "My name is vivi,and I'm 22 years old\n",
      "\n",
      "The following are my other infomation: \n",
      "\n",
      "country: China\n",
      "\n",
      "city: Beijing\n"
     ]
    }
   ],
   "source": [
    "#任意数量的关键字参数\n",
    "#**user_info是允许传入任意数量的关键字参数，允许传入0个或任意个含参数名的参数\n",
    "#这些关键字参数在函数内部自动组装为一个dict，任何遍历字典可用的方法，这里都可以用\n",
    "def info(name,age,**kw):\n",
    "    print(\"My name is %s,and I'm %d years old\\n\"%(name,age))\n",
    "    print(\"The following are my other infomation: \")\n",
    "    for key,val in kw.items():\n",
    "        print('\\n'+key+': '+val)\n",
    "\n",
    "#传参时，关键字参数必须注明键值，即不可写成info(\"vivi\",22,\"China\",\"Beijing\")\n",
    "info(\"vivi\",22,country=\"China\",city=\"Beijing\")\n"
   ]
  },
  {
   "cell_type": "markdown",
   "metadata": {},
   "source": [
    "# print"
   ]
  },
  {
   "cell_type": "code",
   "execution_count": 95,
   "metadata": {},
   "outputs": [
    {
     "name": "stdout",
     "output_type": "stream",
     "text": [
      "\u001b[93mtest\n"
     ]
    }
   ],
   "source": [
    "#print颜色渲染\n",
    "class bcolors:\n",
    "    HEADER = '\\033[95m'           # 粉色\n",
    "    OKBLUE = '\\033[94m'           # 蓝色\n",
    "    OKGREEN = '\\033[92m'          # 绿色\n",
    "    WARNING = '\\033[93m'          # 黄色\n",
    "    FAIL = '\\033[91m'             # 红色\n",
    "    BOLD = '\\033[1m'              # 粗体\n",
    "    ENDC = '\\033[0m'              # 结束\n",
    "\n",
    "    \n",
    "print( bcolors.WARNING + \"test\")"
   ]
  },
  {
   "cell_type": "code",
   "execution_count": null,
   "metadata": {},
   "outputs": [],
   "source": [
    "#format()格式化字符串 代替了之前的%\n",
    "\n",
    "print(\"{} {}\".format(\"hello\", \"world\"))\n",
    "\n",
    "print(\"网站名：{name}, 地址 {url}\".format(name=\"菜鸟教程\", url=\"www.runoob.com\"))\n",
    " \n",
    "# 通过字典设置参数\n",
    "site = {\"name\": \"菜鸟教程\", \"url\": \"www.runoob.com\"}\n",
    "print(\"网站名：{name}, 地址 {url}\".format(**site))\n",
    " \n",
    "# 通过列表索引设置参数\n",
    "my_list = ['菜鸟教程', 'www.runoob.com']\n",
    "print(\"网站名：{0[0]}, 地址 {0[1]}\".format(my_list))  # \"0\" 是必须的"
   ]
  },
  {
   "cell_type": "code",
   "execution_count": null,
   "metadata": {},
   "outputs": [],
   "source": []
  },
  {
   "cell_type": "markdown",
   "metadata": {},
   "source": [
    "# 类"
   ]
  },
  {
   "cell_type": "code",
   "execution_count": 136,
   "metadata": {},
   "outputs": [
    {
     "name": "stdout",
     "output_type": "stream",
     "text": [
      "My name is Vivi and I'm 21 years old\n",
      "Hey,vivi,welcome to our school!\n",
      "True\n",
      "True\n",
      "False\n"
     ]
    }
   ],
   "source": [
    "#定义一个类\n",
    "#类中的函数称为方法，和普通的函数相比，方法只有一点不同，就是第一个参数永远是实例变量self，并且，调用时，不用传递该参数。\n",
    "#除此之外，类的方法和普通函数没有什么区别，所以仍然可以用默认参数、可变参数、关键字参数。\n",
    "class Users():\n",
    "    #注意到__init__方法的第一个参数永远是self，表示创建的实例本身，因此，在__init__方法内部，就可以把各种属性绑定到self\n",
    "    #有了__init__方法，在创建实例的时候，就不能传入空的参数了，必须传入与__init__方法匹配的参数，但self不需要传，Python解释器自己会把实例变量传进去：\n",
    "    def __init__(self,name,age):#(注意__init__是前后各两个下划线)\n",
    "        self.name=name\n",
    "        self.age=age\n",
    "            \n",
    "    def discribe(self):\n",
    "        print(\"My name is %s and I'm %s years old\"%(self.name.title(),self.age))\n",
    "\n",
    "    def greet(self):\n",
    "        print(\"Hey,%s,welcome to our school!\"%self.name)\n",
    "\n",
    "#创建一个类的实例\n",
    "user=Users(\"vivi\",21)\n",
    "#打印类的属性\n",
    "user.name\n",
    "user.age\n",
    "#调用类的方法\n",
    "user.discribe()\n",
    "user.greet()\n",
    "#判断对象是否有相应的属性\n",
    "print(hasattr(user, 'name'))\n",
    "print(hasattr(user, 'age'))\n",
    "print(hasattr(user, 'no'))  # 没有该属性"
   ]
  },
  {
   "cell_type": "code",
   "execution_count": 135,
   "metadata": {},
   "outputs": [
    {
     "name": "stdout",
     "output_type": "stream",
     "text": [
      "Hey,Amy,welcome to our school!\n",
      "your privileges are: can add post\n"
     ]
    }
   ],
   "source": [
    "#继承\n",
    "class Admin(Users):#继承了Users的新类\n",
    "    def __init__(self,name,age,priv):\n",
    "        super().__init__(name,age)#调用父类的init函数\n",
    "        self.priv=priv\n",
    "    def show_priv(self):\n",
    "        print(\"your privileges are: %s\"%self.priv)\n",
    "        \n",
    "my_admin=Admin('Amy',\"21\",\"can add post\")\n",
    "#可以调用父类的方法\n",
    "my_admin.greet()\n",
    "#可以调用新类的方法\n",
    "my_admin.show_priv()"
   ]
  },
  {
   "cell_type": "markdown",
   "metadata": {},
   "source": [
    "# 常用方法"
   ]
  },
  {
   "cell_type": "code",
   "execution_count": 148,
   "metadata": {},
   "outputs": [
    {
     "data": {
      "text/plain": [
       "-1"
      ]
     },
     "execution_count": 148,
     "metadata": {},
     "output_type": "execute_result"
    }
   ],
   "source": [
    "#find在字符串中查找某个元素的位置\n",
    "x=\"abcdef\"\n",
    "x.find('ef')\n",
    "x.find('g')#不存在则返回-1"
   ]
  },
  {
   "cell_type": "code",
   "execution_count": 142,
   "metadata": {},
   "outputs": [
    {
     "name": "stdout",
     "output_type": "stream",
     "text": [
      " python\n",
      "python \n",
      "python\n"
     ]
    }
   ],
   "source": [
    "#删除空白\n",
    "name=' python '\n",
    "print(name.rstrip())#删除末尾的空白\n",
    "print(name.lstrip())#删除开头的空白\n",
    "print(name.strip())#同时删除开头末尾的空白"
   ]
  },
  {
   "cell_type": "code",
   "execution_count": 153,
   "metadata": {},
   "outputs": [
    {
     "name": "stdout",
     "output_type": "stream",
     "text": [
      "1-2-3\n"
     ]
    }
   ],
   "source": [
    "#join() 方法用于将序列中的元素以指定的字符连接生成一个新的字符串\n",
    "seq=('1','2','3')\n",
    "print('-'.join(seq))"
   ]
  },
  {
   "cell_type": "code",
   "execution_count": 158,
   "metadata": {},
   "outputs": [
    {
     "data": {
      "text/plain": [
       "['happy', 'baby', 'hihi']"
      ]
     },
     "execution_count": 158,
     "metadata": {},
     "output_type": "execute_result"
    }
   ],
   "source": [
    "#sorted（data，key，reverse）key代表用哪种元素作为排序的标准\n",
    "dirs={'baby':3,\"happy\":6,\"hihi\":2}\n",
    "sorted(dirs,key=lambda x:dirs[x],reverse=True)\n"
   ]
  },
  {
   "cell_type": "code",
   "execution_count": 159,
   "metadata": {},
   "outputs": [
    {
     "data": {
      "text/plain": [
       "'abcde'"
      ]
     },
     "execution_count": 159,
     "metadata": {},
     "output_type": "execute_result"
    }
   ],
   "source": [
    "#lower()将字符串中所有大写变为小写\n",
    "\"abCDE\".lower()"
   ]
  },
  {
   "cell_type": "code",
   "execution_count": 4,
   "metadata": {},
   "outputs": [
    {
     "data": {
      "text/plain": [
       "'abcabc'"
      ]
     },
     "execution_count": 4,
     "metadata": {},
     "output_type": "execute_result"
    }
   ],
   "source": [
    "#字符串重复与拼接\n",
    "strr='abc'\n",
    "strr+'d'\n",
    "strr*2#重复2次"
   ]
  },
  {
   "cell_type": "code",
   "execution_count": 7,
   "metadata": {},
   "outputs": [
    {
     "name": "stdout",
     "output_type": "stream",
     "text": [
      "{\n",
      "\t\"1\":[\"张三\",150,120,100],\n",
      "\t\"2\":[\"李四\",90,99,95],\n",
      "\t\"3\":[\"王五\",60,66,68]\n",
      "}\n",
      "{'1': ['张三', 150, 120, 100], '2': ['李四', 90, 99, 95], '3': ['王五', 60, 66, 68]}\n",
      "{'1': ['张三', 150, 120, 100], '2': ['李四', 90, 99, 95], '3': ['王五', 60, 66, 68]}\n"
     ]
    }
   ],
   "source": [
    "#将读取的字符串转换成字典 \n",
    "import os\n",
    "import json\n",
    "fs=open(os.getcwd()+'/testt/test4.txt','r').read()\n",
    "print(fs)\n",
    "#方法一\n",
    "#注意由于 json 语法规定 数组或对象之中的字符串必须使用双引号，不能使用单引号\n",
    "js = json.loads(fs)\n",
    "print(js)\n",
    "\n",
    "#方法二\n",
    "ds = eval(fs)\n",
    "print(ds)"
   ]
  },
  {
   "cell_type": "code",
   "execution_count": null,
   "metadata": {},
   "outputs": [],
   "source": []
  }
 ],
 "metadata": {
  "kernelspec": {
   "display_name": "Python 3",
   "language": "python",
   "name": "python3"
  },
  "language_info": {
   "codemirror_mode": {
    "name": "ipython",
    "version": 3
   },
   "file_extension": ".py",
   "mimetype": "text/x-python",
   "name": "python",
   "nbconvert_exporter": "python",
   "pygments_lexer": "ipython3",
   "version": "3.7.3"
  }
 },
 "nbformat": 4,
 "nbformat_minor": 2
}
