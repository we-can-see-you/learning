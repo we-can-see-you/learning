{
 "cells": [
  {
   "cell_type": "code",
   "execution_count": 128,
   "metadata": {},
   "outputs": [],
   "source": [
    "import os\n",
    "import time\n",
    "import shutil"
   ]
  },
  {
   "cell_type": "code",
   "execution_count": 141,
   "metadata": {},
   "outputs": [
    {
     "data": {
      "text/plain": [
       "'/Users/xwx/Desktop/kaggle'"
      ]
     },
     "execution_count": 141,
     "metadata": {},
     "output_type": "execute_result"
    }
   ],
   "source": [
    "#获取现在的工作路径\n",
    "os.getcwd()"
   ]
  },
  {
   "cell_type": "code",
   "execution_count": 120,
   "metadata": {
    "scrolled": true
   },
   "outputs": [
    {
     "data": {
      "text/plain": [
       "['阶段性学习总结与展望 徐丸絮 20190717.docx',\n",
       " '.DS_Store',\n",
       " 'kaggle',\n",
       " '屏幕快照 2019-09-05 上午10.00.53.png',\n",
       " 'python',\n",
       " 'lecun-01a.pdf',\n",
       " '.localized',\n",
       " 'learning',\n",
       " '态度.xmind',\n",
       " '课表.docx',\n",
       " '老吴的',\n",
       " 'Github',\n",
       " '徐丸絮',\n",
       " '210计算机学院研究生课表(6.28).doc',\n",
       " '徐丸絮会遇见的人.xmind',\n",
       " '报道单.pdf']"
      ]
     },
     "execution_count": 120,
     "metadata": {},
     "output_type": "execute_result"
    }
   ],
   "source": [
    "#列出列表中的内容\n",
    "os.listdir()\n",
    "os.listdir(\"/Users/xwx/desktop\")"
   ]
  },
  {
   "cell_type": "code",
   "execution_count": 96,
   "metadata": {},
   "outputs": [
    {
     "data": {
      "text/plain": [
       "'/ccccc.txt'"
      ]
     },
     "execution_count": 96,
     "metadata": {},
     "output_type": "execute_result"
    }
   ],
   "source": [
    "#拼接文件路径\n",
    "os.path.join('aaaa','bbbb','ccccc.txt')#此时默认拼接全部\n",
    "os.path.join('aaaa','bbbb','/ccccc.txt')#若出现/，则从最后一个/的字符串开始向后拼接"
   ]
  },
  {
   "cell_type": "code",
   "execution_count": 60,
   "metadata": {},
   "outputs": [
    {
     "data": {
      "text/plain": [
       "'..'"
      ]
     },
     "execution_count": 60,
     "metadata": {},
     "output_type": "execute_result"
    }
   ],
   "source": [
    "#当前文件所在的目录名称\n",
    "os.path.dirname(\"/Users/xwx/Desktop/kaggle/matplotlib_learn.ipynb\")\n",
    "#返回文件的绝对路径\n",
    "os.path.abspath(\"github_learning.ipynb\")\n",
    "#返回文件的父目录,可用于拼接新文件路径\n",
    "os.path.pardir"
   ]
  },
  {
   "cell_type": "code",
   "execution_count": 50,
   "metadata": {},
   "outputs": [
    {
     "data": {
      "text/plain": [
       "'/Users/xwx'"
      ]
     },
     "execution_count": 50,
     "metadata": {},
     "output_type": "execute_result"
    }
   ],
   "source": [
    "#将path中包含的～换成用户目录\n",
    "os.path.expanduser(\"~\")"
   ]
  },
  {
   "cell_type": "code",
   "execution_count": 51,
   "metadata": {},
   "outputs": [
    {
     "data": {
      "text/plain": [
       "time.struct_time(tm_year=2019, tm_mon=9, tm_mday=6, tm_hour=1, tm_min=38, tm_sec=51, tm_wday=4, tm_yday=249, tm_isdst=0)"
      ]
     },
     "execution_count": 51,
     "metadata": {},
     "output_type": "execute_result"
    }
   ],
   "source": [
    "#返回上次访问的时间 单位是秒\n",
    "os.path.getatime(\"github_learning.ipynb\")\n",
    "os.path.getmtime(\"github_learning.ipynb\")\n",
    "time.gmtime(os.path.getmtime(\"github_learning.ipynb\"))"
   ]
  },
  {
   "cell_type": "code",
   "execution_count": 57,
   "metadata": {},
   "outputs": [],
   "source": [
    "home=os.path.expanduser('~')\n",
    "#创建指定文件夹\n",
    "#os.makedirs(os.path.join(home,'test.txt'))"
   ]
  },
  {
   "cell_type": "code",
   "execution_count": 56,
   "metadata": {},
   "outputs": [],
   "source": [
    "#打开指定文件，w代表若存在则打开且从第一行开始重新编辑，若文件不存在则创建一个\n",
    "file = open(\"/Users/xwx/Desktop/learning/test.txt\",'w')"
   ]
  },
  {
   "cell_type": "code",
   "execution_count": 113,
   "metadata": {},
   "outputs": [],
   "source": [
    "p=os.path.join(os.path.pardir,\"\\\\\",\"xixixi\")#用这个路径创建的，会到桌面上\n",
    "if os.path.exists(p):#用这个路径创建的，会在learning里\n",
    "    print('Folder already exists... Cannot Overwrite this')\n",
    "else:\n",
    "    os.makedirs(os.path.pardir+\"\\\\\"+\"dididi\")#创建相应文件夹"
   ]
  },
  {
   "cell_type": "code",
   "execution_count": 140,
   "metadata": {},
   "outputs": [
    {
     "name": "stdout",
     "output_type": "stream",
     "text": [
      "/Users/xwx/Desktop/kaggle/..\\test\n",
      "/Users/xwx/Desktop/test\n"
     ]
    }
   ],
   "source": [
    "#为什么创建的路径是不一样的\n",
    "print(os.path.abspath(os.path.pardir+\"\\\\\"+\"test\"))\n",
    "print(os.path.abspath(os.path.join(os.path.pardir,\"test\")))"
   ]
  },
  {
   "cell_type": "code",
   "execution_count": 107,
   "metadata": {},
   "outputs": [],
   "source": [
    "#重命名\n",
    "os.rename(\"/Users/xwx/Desktop/dididi\",\"/Users/xwx/Desktop/lululu\")"
   ]
  },
  {
   "cell_type": "code",
   "execution_count": 131,
   "metadata": {},
   "outputs": [],
   "source": [
    "#改变当前工作路径到指定的路径\n",
    "os.chdir(\"/Users/xwx/Desktop/kaggle\")"
   ]
  },
  {
   "cell_type": "code",
   "execution_count": null,
   "metadata": {},
   "outputs": [],
   "source": []
  },
  {
   "cell_type": "code",
   "execution_count": 138,
   "metadata": {},
   "outputs": [
    {
     "data": {
      "text/plain": [
       "'/Users/xwx/Desktop/test1'"
      ]
     },
     "execution_count": 138,
     "metadata": {},
     "output_type": "execute_result"
    }
   ],
   "source": [
    "#把olddir拷贝一份newdir，注意newdir必须是一个新的还不存在的文件夹\n",
    "#如果第3个参数是True，则复制目录时将保持文件夹下的符号连接，\n",
    "#如果第3个参数是False，则将在复制的目录下生成物理副本来替代符号连接\n",
    "shutil.copytree(\"tatanic\",\"/Users/xwx/Desktop/test1\",False)"
   ]
  },
  {
   "cell_type": "code",
   "execution_count": 147,
   "metadata": {},
   "outputs": [
    {
     "name": "stdout",
     "output_type": "stream",
     "text": [
      "1\n",
      " 2\n"
     ]
    }
   ],
   "source": [
    "print(\"1\\n\",'2')"
   ]
  },
  {
   "cell_type": "code",
   "execution_count": null,
   "metadata": {},
   "outputs": [],
   "source": []
  }
 ],
 "metadata": {
  "kernelspec": {
   "display_name": "Python 3",
   "language": "python",
   "name": "python3"
  },
  "language_info": {
   "codemirror_mode": {
    "name": "ipython",
    "version": 3
   },
   "file_extension": ".py",
   "mimetype": "text/x-python",
   "name": "python",
   "nbconvert_exporter": "python",
   "pygments_lexer": "ipython3",
   "version": "3.7.3"
  }
 },
 "nbformat": 4,
 "nbformat_minor": 2
}
